{
 "cells": [
  {
   "cell_type": "markdown",
   "id": "1d11cb70-5534-4f32-85d0-bc1321c842d0",
   "metadata": {},
   "source": [
    "# What are the characteristics of tuples? Is tuples immutables?\n",
    "\n",
    "## Characteristics of Tuples\n",
    " + They are indexed.\n",
    "+ Tuples are ordered.\n",
    "+ These are immutable.\n",
    "+ They can contain duplicate items.\n"
   ]
  },
  {
   "cell_type": "code",
   "execution_count": 1,
   "id": "e9c4d9cc-bf87-4712-a06f-af1964238ec4",
   "metadata": {},
   "outputs": [
    {
     "name": "stdout",
     "output_type": "stream",
     "text": [
      "2\n"
     ]
    }
   ],
   "source": [
    "# count()\n",
    "## The two tuple methods in python\n",
    "## Return the number of times the value 5 appears in the tuple:\n",
    "thistuple = (1, 3, 7, 8, 7, 5, 4, 6, 8, 5)\n",
    "x = thistuple.count(5)\n",
    "print(x)"
   ]
  },
  {
   "cell_type": "code",
   "execution_count": 2,
   "id": "06260786-0bf0-4d02-9658-590d5228e7e4",
   "metadata": {},
   "outputs": [
    {
     "name": "stdout",
     "output_type": "stream",
     "text": [
      "3\n"
     ]
    }
   ],
   "source": [
    "# index()\n",
    "## Search for the first occurrence of the value 8, and return its position:\n",
    "\n",
    "thistuple = (1, 3, 7, 8, 7, 5, 4, 6, 8, 5)\n",
    "\n",
    "x = thistuple.index(8)\n",
    "\n",
    "print(x)"
   ]
  },
  {
   "cell_type": "markdown",
   "id": "df797d19-e798-4b90-a77c-83432eca13dd",
   "metadata": {},
   "source": [
    "# Reason for tuples having only two inbuilt function\n",
    "1. The count() method returns the number of times the specified element appears in the tuple.\n",
    "2. As an ordered sequence of elements, each item in a tuple can be called individually, through indexing. Each item corresponds to an index number, which is an integer value, starting with the index number 0."
   ]
  },
  {
   "cell_type": "code",
   "execution_count": null,
   "id": "6029c676-5193-4c2a-a86e-e6df4bcc0dcf",
   "metadata": {},
   "outputs": [],
   "source": [
    "# Q3. a collection datatypes in python that do not alllow duplicate items is a set\n",
    "## a code to remove duplicate item "
   ]
  },
  {
   "cell_type": "code",
   "execution_count": 11,
   "id": "b99ce4bc-dca0-4e08-868b-6db9dea60b24",
   "metadata": {},
   "outputs": [],
   "source": [
    "s1 = {1,1,1,2,1,3,1,4,2,2,3,2,4,3,1,3,2,3,3,3,4,4,1,4,2,4,3,4,4}\n",
    "   "
   ]
  },
  {
   "cell_type": "code",
   "execution_count": 12,
   "id": "c81a36da-a891-411a-a427-734ce474d058",
   "metadata": {},
   "outputs": [
    {
     "data": {
      "text/plain": [
       "{1, 2, 3, 4}"
      ]
     },
     "execution_count": 12,
     "metadata": {},
     "output_type": "execute_result"
    }
   ],
   "source": [
    "s1"
   ]
  },
  {
   "cell_type": "markdown",
   "id": "a34e78c8-df5e-4e74-9f3e-d0cef1ad0508",
   "metadata": {},
   "source": [
    "# difference between union and update method python\n",
    "\n",
    "This method is used to return the union of a set and the set of elements from one or more iterable like string, list, set. This method takes arbitrary number of iterable objects as argument, which means one or more iterable can be passed. If iterable other than set is passed, it first converts the iterable object to set object and then perform the union operation. It returns a newly created set, which contains all the elements ( distinct ) present in all the iterables.\n"
   ]
  },
  {
   "cell_type": "code",
   "execution_count": 13,
   "id": "dd6e44bc-9d89-47e2-9a3f-2b1f92c5d8bc",
   "metadata": {},
   "outputs": [
    {
     "name": "stdout",
     "output_type": "stream",
     "text": [
      "A :  {1, 2, 3, 4, 5}\n",
      "B :  {4, 5, 6, 7, 8, 9}\n",
      "A Union B :  {1, 2, 3, 4, 5, 6, 7, 8, 9}\n"
     ]
    }
   ],
   "source": [
    "# Python Set Union\n",
    "# create set object and assign it to variable A\n",
    "A = {1,2,3,4,5}\n",
    "\n",
    "# create set object and assign it to variable B\n",
    "B = {4,5,6,7,8,9}\n",
    "\n",
    "# call union method to get union of set A and B and assign it to variable S\n",
    "S = A.union(B)\n",
    "\n",
    "# print all the values of set A, B and S\n",
    "print('A : ',A)\n",
    "print('B : ',B)\n",
    "print('A Union B : ',S)\n",
    "\n",
    "# create list object and assign it to variable L\n",
    "L = [11,12,13,14,15]\n",
    "\n",
    "# call union method to get union of set A, B and list L and assign it to variable S\n",
    "S = A.union(B,L)"
   ]
  },
  {
   "cell_type": "markdown",
   "id": "7e63d4f6-2d8a-4cc0-b1d8-959ed8fc1529",
   "metadata": {},
   "source": [
    "# Return Value of Set update()\n",
    "# The return value of set.update() is None. But the method has side-effects. It adds all elements of the set argument or arguments to the set on #which it is called.\n"
   ]
  },
  {
   "cell_type": "code",
   "execution_count": 16,
   "id": "22a33903-dce8-4134-8017-011e096c1f3e",
   "metadata": {},
   "outputs": [],
   "source": [
    "s = {1, 2, 3}\n"
   ]
  },
  {
   "cell_type": "code",
   "execution_count": 17,
   "id": "c70bdcc5-01cd-4a23-9b3a-ebf53ef1b5f0",
   "metadata": {},
   "outputs": [],
   "source": [
    "s.update({1, 2})"
   ]
  },
  {
   "cell_type": "code",
   "execution_count": 18,
   "id": "abfbaed5-d849-4f82-b05f-88a8eff3adab",
   "metadata": {},
   "outputs": [
    {
     "data": {
      "text/plain": [
       "{1, 2, 3}"
      ]
     },
     "execution_count": 18,
     "metadata": {},
     "output_type": "execute_result"
    }
   ],
   "source": [
    "s"
   ]
  },
  {
   "cell_type": "code",
   "execution_count": null,
   "id": "1f889c40-63a0-45f0-87d3-24a5b26bfd55",
   "metadata": {},
   "outputs": [],
   "source": [
    "# Dictionary\n",
    "Dictionaries are used to store data values in key:value pairs.\n",
    "A dictionary is a collection which is ordered*, changeable and do not allow duplicates.\n"
   ]
  },
  {
   "cell_type": "code",
   "execution_count": null,
   "id": "2827ff7d-97eb-4663-9785-f1e9cfcd6f94",
   "metadata": {},
   "outputs": [],
   "source": [
    "# nested dictionary\n",
    "## In Python, a nested dictionary is a dictionary inside a dictionary. It's a collection of dictionaries into one single dictionary.\n",
    "nested_dict = { 'dictA': {'key_1': 'value_1'},\n",
    "                'dictB': {'key_2': 'value_2'}}"
   ]
  },
  {
   "cell_type": "code",
   "execution_count": 19,
   "id": "5cc229b0-3576-4074-83b1-8472a72b4915",
   "metadata": {},
   "outputs": [],
   "source": [
    "dict= {\"course_name\":[\"Python\",\"Machine_learning\",\"Deep_learning\"]}"
   ]
  },
  {
   "cell_type": "code",
   "execution_count": 20,
   "id": "39ade4e5-48e3-4057-aef9-6ad03005b434",
   "metadata": {},
   "outputs": [
    {
     "data": {
      "text/plain": [
       "{'course_name': ['Python', 'Machine_learning', 'Deep_learning']}"
      ]
     },
     "execution_count": 20,
     "metadata": {},
     "output_type": "execute_result"
    }
   ],
   "source": [
    "dict"
   ]
  },
  {
   "cell_type": "code",
   "execution_count": 21,
   "id": "7143153a-ecf1-4073-b325-1541a1fef909",
   "metadata": {},
   "outputs": [],
   "source": [
    "dict1={\"language\":\"Python\",\"course\":\"Data science masters\"}"
   ]
  },
  {
   "cell_type": "code",
   "execution_count": 22,
   "id": "684f8967-9fa7-4202-b30e-404140ec2090",
   "metadata": {},
   "outputs": [
    {
     "data": {
      "text/plain": [
       "{'language': 'Python', 'course': 'Data science masters'}"
      ]
     },
     "execution_count": 22,
     "metadata": {},
     "output_type": "execute_result"
    }
   ],
   "source": [
    "dict1"
   ]
  },
  {
   "cell_type": "code",
   "execution_count": null,
   "id": "e8cb91b4-d6e1-4dbf-bdc7-bf27b096e4fd",
   "metadata": {},
   "outputs": [],
   "source": [
    "# three view objective in dictionary\n",
    "1. To organise the data \n",
    "2. To make data keys\n",
    "3. lenght of words"
   ]
  },
  {
   "cell_type": "code",
   "execution_count": 23,
   "id": "87ecf71a-9aaa-4641-8166-164d49bc4389",
   "metadata": {},
   "outputs": [],
   "source": [
    "dict2= {\"sport\":\"Cricket\",\"Team\":[\"India\",\"Australia\",\"England\",\"South Africa\",\"Sri Lanka\",\"New Zealand\"]}"
   ]
  },
  {
   "cell_type": "code",
   "execution_count": 24,
   "id": "ab486fd4-b08d-4e91-8dde-063a1d2ef841",
   "metadata": {},
   "outputs": [
    {
     "data": {
      "text/plain": [
       "{'sport': 'Cricket',\n",
       " 'Team': ['India',\n",
       "  'Australia',\n",
       "  'England',\n",
       "  'South Africa',\n",
       "  'Sri Lanka',\n",
       "  'New Zealand']}"
      ]
     },
     "execution_count": 24,
     "metadata": {},
     "output_type": "execute_result"
    }
   ],
   "source": [
    "dict2"
   ]
  },
  {
   "cell_type": "code",
   "execution_count": 27,
   "id": "32d05f56-8aa9-4494-a6bb-405fbf156e90",
   "metadata": {},
   "outputs": [
    {
     "data": {
      "text/plain": [
       "dict_keys(['sport', 'Team'])"
      ]
     },
     "execution_count": 27,
     "metadata": {},
     "output_type": "execute_result"
    }
   ],
   "source": [
    "dict2.keys()"
   ]
  },
  {
   "cell_type": "code",
   "execution_count": 28,
   "id": "b02d5a13-35d1-4d39-b357-2a6b4a8da8fd",
   "metadata": {},
   "outputs": [
    {
     "data": {
      "text/plain": [
       "{'sport': 'Cricket',\n",
       " 'Team': ['India',\n",
       "  'Australia',\n",
       "  'England',\n",
       "  'South Africa',\n",
       "  'Sri Lanka',\n",
       "  'New Zealand']}"
      ]
     },
     "execution_count": 28,
     "metadata": {},
     "output_type": "execute_result"
    }
   ],
   "source": [
    "dict2"
   ]
  },
  {
   "cell_type": "code",
   "execution_count": 30,
   "id": "cf884fef-67b9-4e41-9668-b5c84b532425",
   "metadata": {},
   "outputs": [
    {
     "data": {
      "text/plain": [
       "2"
      ]
     },
     "execution_count": 30,
     "metadata": {},
     "output_type": "execute_result"
    }
   ],
   "source": [
    "len(dict2)"
   ]
  },
  {
   "cell_type": "code",
   "execution_count": null,
   "id": "27041a31-23b1-47a2-92d7-657646337752",
   "metadata": {},
   "outputs": [],
   "source": []
  }
 ],
 "metadata": {
  "kernelspec": {
   "display_name": "Python 3 (ipykernel)",
   "language": "python",
   "name": "python3"
  },
  "language_info": {
   "codemirror_mode": {
    "name": "ipython",
    "version": 3
   },
   "file_extension": ".py",
   "mimetype": "text/x-python",
   "name": "python",
   "nbconvert_exporter": "python",
   "pygments_lexer": "ipython3",
   "version": "3.10.8"
  },
  "toc-autonumbering": true
 },
 "nbformat": 4,
 "nbformat_minor": 5
}
