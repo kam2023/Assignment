{
 "cells": [
  {
   "cell_type": "code",
   "execution_count": null,
   "id": "289dbd4c-d05f-41b9-8b7d-05511ed0c6dc",
   "metadata": {},
   "outputs": [],
   "source": [
    "# Q1: what is multithreading in python? why is it used? Name the module used to handle threads in python"
   ]
  },
  {
   "cell_type": "markdown",
   "id": "8ba9bf96-249a-4218-a106-395a726ec63b",
   "metadata": {},
   "source": [
    "# Multithreading in Python is a technique used to execute multiple threads (smaller units of a program) simultaneously within the same process. A thread is a sequence of instructions that can be executed independently by the CPU, allowing multiple parts of a program to run concurrently.\n",
    "\n",
    "## Multithreading is used in Python to improve the performance of programs that need to perform multiple tasks at the same time. By dividing the program into smaller units of work and executing them concurrently, multithreading can help reduce the overall execution time of the program.\n",
    "\n",
    "### The 'threading' module is used to handle threads in Python. This module provides a simple way to create and manage threads in Python. It allows you to create new threads, start and stop them, and communicate between them using thread-safe data structures. The 'threading' module also provides several synchronization primitives, such as locks and semaphores, to help you avoid race conditions and other synchronization issues that can arise when multiple threads access shared resources simultaneously."
   ]
  },
  {
   "cell_type": "code",
   "execution_count": null,
   "id": "8fb8b282-93ef-433d-bb25-bc290729469e",
   "metadata": {},
   "outputs": [],
   "source": [
    "# Q2: why threading module used? write the use of the following functions"
   ]
  },
  {
   "cell_type": "markdown",
   "id": "5272e505-e17c-4f90-95b5-fa920fa787c8",
   "metadata": {},
   "source": [
    "# The 'threading' module in Python is used to create, manage, and synchronize threads. It provides a simple and efficient way to implement multithreading in Python programs. The 'threading' module is commonly used in programs that need to perform multiple tasks simultaneously, such as web servers, network applications, and multimedia applications.\n",
    "\n",
    "# Here are some of the most commonly used functions in the 'threading' module:\n",
    "\n",
    "1. 'Thread': This function is used to create a new thread. It takes a target function as an argument and creates a new thread to execute the target function.\n",
    "\n",
    "2. 'start': This method is used to start a thread. Once a thread is created, you need to call the 'start' method to start executing the target function in the new thread.\n",
    "\n",
    "3. 'join': This method is used to wait for a thread to complete its execution. When a thread is started, the main thread continues to execute, and the new thread runs concurrently. The 'join' method can be used to wait for the new thread to finish before continuing the execution of the main thread.\n",
    "\n",
    "4. 'Lock': This class is used to create a lock object that can be used to synchronize access to shared resources between multiple threads. A lock object can be acquired by one thread at a time, and all other threads that try to acquire the lock are blocked until the lock is released.\n",
    "\n",
    "5. 'Semaphore': This class is used to create a semaphore object that can be used to limit the number of threads that can access a shared resource simultaneously. A semaphore maintains a count of the number of threads that can acquire the semaphore, and when the count reaches zero, all other threads are blocked until a thread releases the semaphore.\n",
    "\n",
    "6. 'Timer': This class is used to create a thread that runs a target function after a specified amount of time. The 'Timer' class is useful for implementing time-based operations, such as periodic tasks and timeouts.\n",
    "\n",
    "+ Overall, the 'threading' module is an essential tool for implementing concurrent programming in Python and can greatly improve the performance and scalability of your applications.\n"
   ]
  },
  {
   "cell_type": "markdown",
   "id": "6cecb3d8-d6ef-485d-9053-e4953abded62",
   "metadata": {},
   "source": [
    "# 1: activeCount()\n",
    "\n",
    "'activeCount()' is a method in the 'threading' module in Python that is used to get the number of currently active threads.\n",
    "\n",
    "+ When this method is called, it returns the number of threads that are currently running, including the main thread. The returned count includes daemon threads, but it does not include stopped threads.\n"
   ]
  },
  {
   "cell_type": "code",
   "execution_count": null,
   "id": "e4580b41-6c94-44b0-9e21-f4891d20baef",
   "metadata": {},
   "outputs": [],
   "source": [
    "# Here's an example of how to use the 'activeCount()' method:\n",
    "\n",
    "import threading\n",
    "\n",
    "def my_function():\n",
    "    print(\"Thread started\")\n",
    "\n",
    "# Create 3 new threads\n",
    "thread1 = threading.Thread(target=my_function)\n",
    "thread2 = threading.Thread(target=my_function)\n",
    "thread3 = threading.Thread(target=my_function)\n",
    "\n",
    "# Start the threads\n",
    "thread1.start()\n",
    "thread2.start()\n",
    "thread3.start()\n",
    "\n",
    "# Get the number of active threads\n",
    "active_threads = threading.activeCount()\n",
    "\n",
    "# Print the number of active threads\n",
    "print(\"Number of active threads:\", active_threads)\n"
   ]
  },
  {
   "cell_type": "markdown",
   "id": "301c40fc-1d01-4e1b-ad32-462a9b4f6a57",
   "metadata": {},
   "source": [
    "# In this example, we create three new threads and start them. Then, we use the 'activeCount()' method to get the number of active threads and print it. The output of the program would be something like:"
   ]
  },
  {
   "cell_type": "code",
   "execution_count": null,
   "id": "57891cf7-627c-470b-9ec1-67893f8d6c31",
   "metadata": {},
   "outputs": [],
   "source": [
    "# Example\n",
    "Thread started\n",
    "Thread started\n",
    "Thread started\n",
    "Number of active threads: 4\n",
    "# Since we created three new threads, plus the main thread, there are four active threads in total."
   ]
  },
  {
   "cell_type": "markdown",
   "id": "d0f71735-e0db-465f-91df-7d92d85b917c",
   "metadata": {},
   "source": [
    "# 2: currentThread\n",
    "\n",
    "+ 'currentThread()' is a function in the 'threading' module in Python that returns a reference to the current thread object.\n",
    "\n",
    "+ When this function is called, it returns a 'Thread' object representing the thread that called the function. This can be useful for identifying the current thread, for example, when you want to print debugging information or synchronize access to shared resources."
   ]
  },
  {
   "cell_type": "code",
   "execution_count": null,
   "id": "cf30a389-1f44-49e4-81bb-dc13dc134843",
   "metadata": {},
   "outputs": [],
   "source": [
    "# Here's an example of how to use the 'currentThread()' function:\n",
    "\n",
    "import threading\n",
    "\n",
    "def my_function():\n",
    "    current_thread = threading.currentThread()\n",
    "    print(\"Current thread name:\", current_thread.getName())\n",
    "\n",
    "# Create a new thread and start it\n",
    "thread = threading.Thread(target=my_function)\n",
    "thread.start()\n",
    "\n",
    "# Wait for the thread to complete\n",
    "thread.join()\n"
   ]
  },
  {
   "cell_type": "markdown",
   "id": "25e3a011-fe30-4893-a5ab-c75b417490d0",
   "metadata": {},
   "source": [
    "# In this example, we define a function 'my_function()' that prints the name of the current thread. Inside the function, we call the 'currentThread()' function to get a reference to the current thread object and use the 'getName()' method to print the name of the thread.\n",
    "\n",
    "## Then, we create a new thread and start it by calling the 'start()' method. Finally, we wait for the thread to complete by calling the 'join()' method on the thread object."
   ]
  },
  {
   "cell_type": "markdown",
   "id": "67d0e01d-81dc-4ca2-89d7-a431431af64c",
   "metadata": {},
   "source": [
    "# The output of the program would be something like:\n",
    "\n",
    "Current thread name: Thread-1\n",
    "\n",
    "Since we only created one thread, the current thread name is \"Thread-1\". However, if you were to call 'currentThread()' from a different thread, it would return a different 'Thread' object representing that thread."
   ]
  },
  {
   "cell_type": "markdown",
   "id": "80555ec5-69bb-48b3-8ffc-1e0ea2526ef7",
   "metadata": {},
   "source": [
    "# 3. enumerate()\n",
    "\n",
    "'enumerate()' is a function in the 'threading' module in Python that returns a list of all currently running threads.\n",
    "When this function is called, it returns a list of 'Thread' objects representing all the threads that are currently running, including the main thread. This can be useful for debugging or for synchronizing access to shared resources."
   ]
  },
  {
   "cell_type": "code",
   "execution_count": null,
   "id": "23809877-01cb-4582-8f06-a0653a32ab60",
   "metadata": {},
   "outputs": [],
   "source": [
    "# Here's an example of how to use the 'enumerate()' function:\n",
    "import threading\n",
    "\n",
    "def my_function():\n",
    "    print(\"Thread started\")\n",
    "\n",
    "# Create 3 new threads\n",
    "thread1 = threading.Thread(target=my_function)\n",
    "thread2 = threading.Thread(target=my_function)\n",
    "thread3 = threading.Thread(target=my_function)\n",
    "\n",
    "# Start the threads\n",
    "thread1.start()\n",
    "thread2.start()\n",
    "thread3.start()\n",
    "\n",
    "# Get a list of all currently running threads\n",
    "running_threads = threading.enumerate()\n",
    "\n",
    "# Print the list of running threads\n",
    "print(\"Running threads:\", running_threads)\n",
    "\n"
   ]
  },
  {
   "cell_type": "markdown",
   "id": "c046a583-1d60-474a-ab38-002c83002de9",
   "metadata": {},
   "source": [
    "## In this example, we create three new threads and start them. Then, we use the 'enumerate()' function to get a list of all currently running threads and print it. The output of the program would be something like:"
   ]
  },
  {
   "cell_type": "code",
   "execution_count": null,
   "id": "aab262df-52e0-4124-9da0-0d8cad5a147e",
   "metadata": {},
   "outputs": [],
   "source": [
    "# Example\n",
    "Thread started\n",
    "Thread started\n",
    "Thread started\n",
    "Running threads: [<_MainThread(MainThread, started 1234567890)>, <Thread(Thread-1, started 1234567891)>, <Thread(Thread-2, started 1234567892)>, <Thread(Thread-3, started 1234567893)>]\n"
   ]
  },
  {
   "cell_type": "markdown",
   "id": "0146c5de-a85e-431d-8292-e37da19cdc36",
   "metadata": {},
   "source": [
    "### Since we created three new threads, plus the main thread, there are four running threads in total. The 'enumerate()' function returns a list of 'Thread' objects representing all the running threads, including the main thread, which is represented by the _'MainThread' object."
   ]
  },
  {
   "cell_type": "markdown",
   "id": "7af653c4-cd8a-4cc7-ad3d-62bb81f9da9b",
   "metadata": {},
   "source": [
    "# Q3:  Explaining the following functions\n",
    "## run()\n",
    "\n",
    "'run()' is a method in the 'Thread' class in Python that is called when a new thread is started using the 'start()' method.\n",
    "\n",
    "When a new thread is created using the Thread class and the 'start()' method is called, a new thread is started and the 'run()' method is called automatically in that new thread. The 'run()' method is the entry point for the new thread, and any code that you want to run in the new thread should be placed in the 'run()' method."
   ]
  },
  {
   "cell_type": "code",
   "execution_count": null,
   "id": "0773796a-ccc5-4cb5-b4d4-bf8295333830",
   "metadata": {},
   "outputs": [],
   "source": [
    "# Here's an example of how to use the 'run()' method:\n",
    "import threading\n",
    "\n",
    "class MyThread(threading.Thread):\n",
    "    def run(self):\n",
    "        print(\"Thread started\")\n",
    "\n",
    "# Create a new instance of the MyThread class and start it\n",
    "thread = MyThread()\n",
    "thread.start()\n",
    "\n",
    "# Wait for the thread to complete\n",
    "thread.join()\n"
   ]
  },
  {
   "cell_type": "markdown",
   "id": "22c471b6-713b-4d7d-bed7-0420b2964576",
   "metadata": {},
   "source": [
    "## In the above  example, we define a new class 'MyThread' that inherits from the 'Thread' class. Inside the class, we define the 'run()' method, which simply prints \"Thread started\".\n",
    "\n",
    "### Then, we create a new instance of the 'MyThread' class and start it by calling the 'start()' method. This creates a new thread and automatically calls the 'run()' method in that thread.\n",
    "\n",
    "+ Finally, we wait for the thread to complete by calling the 'join()' method on the thread object."
   ]
  },
  {
   "cell_type": "code",
   "execution_count": null,
   "id": "bd690913-2bbb-4135-b3a9-033154486dd9",
   "metadata": {},
   "outputs": [],
   "source": [
    "# The output of the program would be:\n",
    "Thread started\n"
   ]
  },
  {
   "cell_type": "markdown",
   "id": "b746576b-e33b-4f64-a866-416a406371d1",
   "metadata": {},
   "source": [
    "## Since we only created one thread, the 'run()' method is called automatically when the 'start()' method is called, and the \"Thread started\" message is printed in the new thread. If you were to create multiple threads using the 'MyThread' class, each thread would have its own 'run()' method that would be called automatically when the thread is started."
   ]
  },
  {
   "cell_type": "markdown",
   "id": "342e255a-553b-4ca7-a5d7-6170cc6ed199",
   "metadata": {},
   "source": [
    "# 2: start()\n",
    "+ ' start()' is a method in the 'Thread' class in Python that is used to start a new thread of execution.\n",
    "\n",
    "+ When a new thread is created using the 'Thread' class, it is not started immediately. Instead, you must call the 'start()' method on the new Thread object to start the new thread. When the 'start()' method is called, a new 'thread' is started and the 'run()' method is called automatically in that new thread."
   ]
  },
  {
   "cell_type": "code",
   "execution_count": null,
   "id": "05e23e98-fc66-4f02-8cbb-4994d39ca826",
   "metadata": {},
   "outputs": [],
   "source": [
    "# Here's an example of how to use the 'start()' method:\n",
    "\n",
    "import threading\n",
    "\n",
    "def my_function():\n",
    "    print(\"Thread started\")\n",
    "\n",
    "# Create a new thread and start it\n",
    "thread = threading.Thread(target=my_function)\n",
    "thread.start()\n",
    "\n",
    "# Wait for the thread to complete\n",
    "thread.join()\n"
   ]
  },
  {
   "cell_type": "markdown",
   "id": "2ca1861f-935a-4a4a-a61a-d06f88b0b22b",
   "metadata": {},
   "source": [
    "# In the above  example, we define a function 'my_function()' that prints \"Thread started\". Then, we create a new 'Thread' object and pass the 'my_function()' function as the target for the new thread. Finally, we call the 'start()' method on the new thread object to start the new thread.\n",
    "\n",
    "+ Once the new thread is started, the \"Thread started\" message is printed in the new thread. The 'join()' method is called on the thread object to wait for the thread to complete before the program exits."
   ]
  },
  {
   "cell_type": "code",
   "execution_count": null,
   "id": "4ce948cb-2227-4709-bed2-ac63bbfdbb29",
   "metadata": {},
   "outputs": [],
   "source": [
    "# The output of the program would be:\n",
    "Thread started\n"
   ]
  },
  {
   "cell_type": "markdown",
   "id": "5375e48e-9ba4-496d-9e04-eba980410dfb",
   "metadata": {},
   "source": [
    "# Since we only created one thread, the \"Thread started\" message is printed once. If you were to create multiple threads using the 'Thread' class, each thread would be started independently by calling the 'start()' method on each thread object."
   ]
  },
  {
   "cell_type": "markdown",
   "id": "f9dfa28f-05e6-4618-b0c7-66aa30875249",
   "metadata": {},
   "source": [
    "# 3: join()\n",
    "\n",
    "+ 'join()'  is a method in the 'Thread' class in Python that is used to wait for a thread to complete.\n",
    "\n",
    "+ When a new thread is started using the 'start()' method, it runs independently of the main thread of execution. If you want to wait for the new thread to complete before continuing with the main thread, you can call the 'join()' method on the new 'Thread' object.\n",
    "\n",
    "+ The 'join()' method blocks the main thread of execution and waits for the new thread to complete. Once the new thread is finished, the main thread continues executing."
   ]
  },
  {
   "cell_type": "code",
   "execution_count": null,
   "id": "cafbeb72-28a8-4ca8-8d77-757816f2b368",
   "metadata": {},
   "outputs": [],
   "source": [
    "# Here's an example of how to use the 'join()' method:\n",
    "import threading\n",
    "\n",
    "def my_function():\n",
    "    print(\"Thread started\")\n",
    "    # Simulate some work\n",
    "    for i in range(10000000):\n",
    "        pass\n",
    "    print(\"Thread finished\")\n",
    "\n",
    "# Create a new thread and start it\n",
    "thread = threading.Thread(target=my_function)\n",
    "thread.start()\n",
    "\n",
    "# Wait for the thread to complete\n",
    "thread.join()\n",
    "\n",
    "print(\"Main thread finished\")\n"
   ]
  },
  {
   "cell_type": "markdown",
   "id": "afeb2375-4cb8-4922-b162-c1aa98667a65",
   "metadata": {},
   "source": [
    "# In the above  example, we define a function 'my_function()' that prints \"Thread started\", simulates some work by looping 10,000,000 times, and then prints \"Thread finished\". Then, we create a new 'Thread' object and pass the 'my_function()' function as the target for the new thread. Finally, we call the 'join()' method on the new thread object to wait for the new thread to complete.\n",
    "\n",
    "+ Once the new thread is started, the \"Thread started\" message is printed in the new thread, followed by a delay while the loop runs, and then the \"Thread finished\" message is printed in the new thread. Meanwhile, the main thread is blocked waiting for the new thread to complete.\n",
    "\n",
    "+ Once the new thread is finished, the main thread continues executing and the \"Main thread finished\" message is printed."
   ]
  },
  {
   "cell_type": "code",
   "execution_count": null,
   "id": "bf80da35-4513-4779-9298-452700bbbed3",
   "metadata": {},
   "outputs": [],
   "source": [
    "# The output of the program would be:\n",
    "Thread started\n",
    "Thread finished\n",
    "Main thread finished\n"
   ]
  },
  {
   "cell_type": "markdown",
   "id": "a9b36d87-27ef-4c93-a1b7-8dfdb9d48c7d",
   "metadata": {},
   "source": [
    "# Since we only created one thread, the \"Thread started\" and \"Thread finished\" messages are printed once each. If you were to create multiple threads using the 'Thread' class and call 'join()' on each thread object, the main thread would block until all of the threads have completed."
   ]
  },
  {
   "cell_type": "markdown",
   "id": "3578c023-435f-4f7b-b053-5d6fea7201f6",
   "metadata": {},
   "source": [
    "# 4: isAlive()\n",
    "+ 'isAlive()' is a method in the 'Thread' class in Python that is used to check whether a thread is currently running or not.\n",
    "\n",
    "+ When a new thread is created using the 'Thread' class and started using the 'start()' method, it runs independently of the main thread of execution. You can use the 'isAlive()' method to check whether the new thread is currently running or has finished executing.\n",
    "\n",
    "+ The 'isAlive()' method returns 'True' if the thread is currently running and 'False' if the thread has finished executing or has not been started yet."
   ]
  },
  {
   "cell_type": "code",
   "execution_count": null,
   "id": "83c83c02-0bfe-4040-bc5d-dd1cb56a273c",
   "metadata": {},
   "outputs": [],
   "source": [
    "# Here's an example of how to use the 'isAlive()' method:\n",
    "\n",
    "import threading\n",
    "import time\n",
    "\n",
    "def my_function():\n",
    "    print(\"Thread started\")\n",
    "    time.sleep(2)\n",
    "    print(\"Thread finished\")\n",
    "\n",
    "# Create a new thread and start it\n",
    "thread = threading.Thread(target=my_function)\n",
    "thread.start()\n",
    "\n",
    "# Check if the thread is still running\n",
    "if thread.isAlive():\n",
    "    print(\"Thread is still running\")\n",
    "else:\n",
    "    print(\"Thread has finished\")\n",
    "\n",
    "# Wait for the thread to complete\n",
    "thread.join()\n",
    "\n",
    "# Check if the thread is still running\n",
    "if thread.isAlive():\n",
    "    print(\"Thread is still running\")\n",
    "else:\n",
    "    print(\"Thread has finished\")\n"
   ]
  },
  {
   "cell_type": "markdown",
   "id": "c33dd34b-dc0d-48b2-8377-dffd6fdb222d",
   "metadata": {},
   "source": [
    "# In the above  example, we define a function 'my_function()' that prints \"Thread started\", sleeps for 2 seconds, and then prints \"Thread finished\". Then, we create a new 'Thread' object and pass the 'my_function()' function as the target for the new thread. We call the 'start()' method on the new thread object to start the new thread, and then immediately check whether the thread is still running using the 'isAlive()' method.\n",
    "\n",
    "## Since the new thread is still running, the \"Thread is still running\" message is printed. We then call the ''join()' method on the new thread object to wait for the new thread to complete. Once the new thread is finished, we check again whether the thread is still running using the 'isAlive()' method.\n",
    "\n",
    "+ Since the new thread has finished executing, the \"Thread has finished\" message is printed."
   ]
  },
  {
   "cell_type": "code",
   "execution_count": null,
   "id": "6a60a987-5e2c-429b-93a4-61749b54dba8",
   "metadata": {},
   "outputs": [],
   "source": [
    "# The output of the program would be:\n",
    "Thread started\n",
    "Thread is still running\n",
    "Thread finished\n",
    "Thread has finished\n"
   ]
  },
  {
   "cell_type": "markdown",
   "id": "4ea8e744-dbfc-45be-bc9b-3c6460d41ba6",
   "metadata": {},
   "source": [
    "# Since we only created one thread, the \"Thread started\" and \"Thread finished\" messages are printed once each. If you were to create multiple threads using the 'Thread' class and call 'isAlive()' on each thread object, you could check whether each thread is still running independently."
   ]
  },
  {
   "cell_type": "markdown",
   "id": "3762f26a-19f4-4f9b-b24a-4212ecd172c4",
   "metadata": {},
   "source": [
    "# 4: write a python program to create two threads. Thread one must print the list of squares and thread two must print the list of cubes\n",
    "Here's an example Python program that creates two threads. The first thread calculates and prints a list of squares of numbers from 1 to 10, and the second thread calculates and prints a list of cubes of numbers from 1 to 10.\n"
   ]
  },
  {
   "cell_type": "code",
   "execution_count": null,
   "id": "72153829-5f7b-4a3f-9afe-0c1d134ed01c",
   "metadata": {},
   "outputs": [],
   "source": [
    "# two threads\n",
    "import threading\n",
    "\n",
    "def print_squares():\n",
    "    for i in range(1, 11):\n",
    "        print(i**2)\n",
    "\n",
    "def print_cubes():\n",
    "    for i in range(1, 11):\n",
    "        print(i**3)\n",
    "\n",
    "# Create two threads\n",
    "thread1 = threading.Thread(target=print_squares)\n",
    "thread2 = threading.Thread(target=print_cubes)\n",
    "\n",
    "# Start the threads\n",
    "thread1.start()\n",
    "thread2.start()\n",
    "\n",
    "# Wait for the threads to complete\n",
    "thread1.join()\n",
    "thread2.join()\n",
    "\n",
    "print(\"Main thread finished\")\n"
   ]
  },
  {
   "cell_type": "markdown",
   "id": "01c739f8-df65-4bde-8bcb-19132e258d80",
   "metadata": {},
   "source": [
    "# Q5: State advantages and disadvantages of multithreading\n",
    "# Multithreading is a programming technique that allows multiple threads of execution to run concurrently within a single process. Here are some advantages and disadvantages of multithreading:\n",
    "\n",
    "# Advantages:\n",
    "\n",
    "1.  Improved performance: Multithreading can improve the performance of an application by allowing multiple threads to execute concurrently, thereby taking advantage of the available resources of a system.\n",
    "\n",
    "2. Resource sharing: Multithreading allows threads to share resources such as memory and CPU time, reducing the overhead associated with creating and managing multiple processes.\n",
    "\n",
    "3. Responsiveness: Multithreading can improve the responsiveness of an application by allowing it to perform multiple tasks simultaneously. For example, a user interface can remain responsive while a background task is running.\n",
    "\n",
    "4. Simplified coding: Multithreading can simplify coding by allowing different tasks to be implemented as separate threads within a single program. This can make the code easier to understand and maintain.\n",
    "\n",
    "5. Scalability: Multithreading can improve the scalability of an application by allowing it to take advantage of additional processing power as it becomes available. This can make it easier to support larger numbers of users or higher volumes of data.\n",
    "\n",
    "# Disadvantages:\n",
    "\n",
    "1. Complexity: Multithreading can increase the complexity of an application by introducing issues such as race conditions, deadlocks, and thread safety. These issues can be difficult to debug and resolve.\n",
    "\n",
    "2. Overhead: Multithreading can introduce overhead associated with context switching and synchronization between threads. This can reduce the overall performance of an application.\n",
    "\n",
    "3. Increased memory usage: Multithreading can increase the memory usage of an application by requiring additional resources to manage and synchronize threads.\n",
    "\n",
    "4. Debugging difficulty: Debugging multithreaded applications can be difficult, as thread interactions can be hard to reproduce and diagnose.\n",
    "\n",
    "5. Portability: Multithreading can introduce portability issues, as different operating systems and hardware platforms may have different thread scheduling policies and behaviors.\n",
    "\n",
    "+ In summary, multithreading can provide significant advantages in terms of performance, responsiveness, and scalability, but it can also introduce complexity, overhead, and debugging difficulties. The decision to use multithreading should be based on the specific requirements of the application and the trade-offs involved in using this programming technique.\n"
   ]
  },
  {
   "cell_type": "markdown",
   "id": "0e04b388-292b-4b28-a411-972e9bbc7256",
   "metadata": {},
   "source": [
    "# 6: Explain deadlocks and race conditions.\n",
    "\n",
    "# When race conditions occur\n",
    "\n",
    "## A race condition occurs when two threads access a shared variable at the same time. The first thread reads the variable, and the second thread reads the same value from the variable. Then the first thread and second thread perform their operations on the value, and they race to see which thread can write the value last to the shared variable. The value of the thread that writes its value last is preserved, because the thread is writing over the value that the previous thread wrote.\n",
    "\n",
    "# When deadlocks occur\n",
    "\n",
    "## A deadlock occurs when two threads each lock a different variable at the same time and then try to lock the variable that the other thread already locked. As a result, each thread stops executing and waits for the other thread to release the variable. Because each thread is holding the variable that the other thread wants, nothing occurs, and the threads remain deadlocked."
   ]
  },
  {
   "cell_type": "code",
   "execution_count": null,
   "id": "1b4de16d-35b5-438b-bdcb-5091343853b1",
   "metadata": {},
   "outputs": [],
   "source": []
  }
 ],
 "metadata": {
  "kernelspec": {
   "display_name": "Python 3 (ipykernel)",
   "language": "python",
   "name": "python3"
  },
  "language_info": {
   "codemirror_mode": {
    "name": "ipython",
    "version": 3
   },
   "file_extension": ".py",
   "mimetype": "text/x-python",
   "name": "python",
   "nbconvert_exporter": "python",
   "pygments_lexer": "ipython3",
   "version": "3.10.8"
  }
 },
 "nbformat": 4,
 "nbformat_minor": 5
}
