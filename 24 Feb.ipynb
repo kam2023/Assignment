{
 "cells": [
  {
   "cell_type": "code",
   "execution_count": null,
   "id": "f4a88ffa-0053-4de2-a125-a3ac72d98bcd",
   "metadata": {},
   "outputs": [],
   "source": [
    "Q1: List any five functions of the pandas library with execution.\n",
    "\n",
    "# 'read_csv()': This function is used to read data from a CSV file and create a pandas DataFrame.\n",
    "import pandas as pd\n",
    "df = pd.read_csv('mydata.csv')\n"
   ]
  },
  {
   "cell_type": "code",
   "execution_count": null,
   "id": "3f1475ed-b346-4404-8a31-db67c661f363",
   "metadata": {},
   "outputs": [],
   "source": [
    "# 'head()': This function is used to display the first n rows of a pandas DataFrame.\n",
    "\n",
    "df.head(10) # display the first 10 rows\n"
   ]
  },
  {
   "cell_type": "code",
   "execution_count": null,
   "id": "0cc3af10-83dd-40f4-bed7-e73e0fe7f068",
   "metadata": {},
   "outputs": [],
   "source": [
    "#'describe()': This function is used to generate descriptive statistics of a pandas DataFrame.\n",
    "\n",
    "df.describe() # generate descriptive statistics of the DataFrame\n"
   ]
  },
  {
   "cell_type": "code",
   "execution_count": null,
   "id": "9f990433-2378-4109-acbd-ec13a7dffa52",
   "metadata": {},
   "outputs": [],
   "source": [
    "# 'groupby()': This function is used to group the data in a pandas DataFrame by one or more columns.\n",
    "\n",
    "df.groupby(['category', 'sub_category']).sum() # group the data by 'category' and 'sub_category' columns and compute the sum of each group\n"
   ]
  },
  {
   "cell_type": "code",
   "execution_count": null,
   "id": "c852d3a6-f7cb-44d3-a390-fa39f065da36",
   "metadata": {},
   "outputs": [],
   "source": [
    "# 'plot()': This function is used to plot data from a pandas DataFrame.\n",
    "df.plot(kind='bar', x='year', y='sales') # plot a bar chart of the 'sales' column by 'year'\n"
   ]
  },
  {
   "cell_type": "code",
   "execution_count": 1,
   "id": "9ac51562-319d-4186-850a-b633f82f6479",
   "metadata": {},
   "outputs": [],
   "source": [
    "# Q2. Given a Pandas DataFrame df with columns 'A', 'B', and 'C', write a Python function to re-index the\n",
    "# DataFrame with a new index that starts from 1 and increments by 2 for each row.\n",
    "\n",
    "# We can use the 'set_index()' function of the pandas DataFrame to set a new index for the DataFrame. Here's how we can do it:\n",
    "\n",
    "import pandas as pd\n",
    "\n",
    "def reindex_dataframe(df):\n",
    "    new_index = pd.Index(range(1, 2*len(df)+1, 2), name='new_index')\n",
    "    df.set_index(new_index, inplace=True)\n",
    "    return df\n",
    "\n"
   ]
  },
  {
   "cell_type": "code",
   "execution_count": 2,
   "id": "df98d320-4d7f-4053-a8d3-c6195d032a8a",
   "metadata": {},
   "outputs": [
    {
     "name": "stdout",
     "output_type": "stream",
     "text": [
      "   A  B  C\n",
      "0  1  4  7\n",
      "1  2  5  8\n",
      "2  3  6  9\n",
      "           A  B  C\n",
      "new_index         \n",
      "1          1  4  7\n",
      "3          2  5  8\n",
      "5          3  6  9\n"
     ]
    }
   ],
   "source": [
    "# You can call this function with your DataFrame as an argument to re-index the DataFrame with the new index. \n",
    "df = pd.DataFrame({'A': [1, 2, 3], 'B': [4, 5, 6], 'C': [7, 8, 9]})\n",
    "print(df)\n",
    "\n",
    "# Output:\n",
    "#    A  B  C\n",
    "# 0  1  4  7\n",
    "# 1  2  5  8\n",
    "# 2  3  6  9\n",
    "\n",
    "df = reindex_dataframe(df)\n",
    "print(df)\n",
    "\n",
    "# Output:\n",
    "#            A  B  C\n",
    "# new_index         \n",
    "# 1          1  4  7\n",
    "# 3          2  5  8\n",
    "# 5          3  6  9\n"
   ]
  },
  {
   "cell_type": "code",
   "execution_count": 3,
   "id": "c93967ee-ebe7-4ef1-8d98-bc78cb1bc1f2",
   "metadata": {},
   "outputs": [],
   "source": [
    "#Q3. You have a Pandas DataFrame df with a column named 'Values'. Write a Python function that\n",
    "# iterates over the DataFrame and calculates the sum of the first three values in the 'Values' column. The\n",
    "# function should print the sum to the console.\n",
    "\n",
    "# Python function that iterates over a Pandas DataFrame and calculates the sum of the first three values in the 'Values' column:\n",
    "\n",
    "import pandas as pd\n",
    "\n",
    "def sum_first_three(df):\n",
    "    sum = 0\n",
    "    for i in range(3):\n",
    "        sum += df.loc[i, 'Values']\n",
    "    print('Sum of the first three values:', sum)\n"
   ]
  },
  {
   "cell_type": "code",
   "execution_count": 4,
   "id": "6a972fdc-6ff9-4cc0-b9a2-691d10220aa2",
   "metadata": {},
   "outputs": [
    {
     "name": "stdout",
     "output_type": "stream",
     "text": [
      "Sum of the first three values: 60\n"
     ]
    }
   ],
   "source": [
    "# You can call this function with your DataFrame as an argument to calculate the sum of the first three values in the 'Values' column.\n",
    "\n",
    "df = pd.DataFrame({'Values': [10, 20, 30, 40, 50]})\n",
    "sum_first_three(df)\n",
    "\n",
    "# Output:\n",
    "# Sum of the first three values: 6\n"
   ]
  },
  {
   "cell_type": "code",
   "execution_count": 5,
   "id": "48e857e1-63d9-444b-bbce-a8b4e9315c3a",
   "metadata": {},
   "outputs": [],
   "source": [
    "# Q4. Given a Pandas DataFrame df with a column 'Text', write a Python function to create a new column\n",
    "# 'Word_Count' that contains the number of words in each row of the 'Text' column.\n",
    "\n",
    "#You can use the 'apply()' function of the Pandas DataFrame to apply a function to each row of a column and create a \n",
    "# new column based on the result. Here's how you can create a new column 'Word_Count' in a Pandas DataFrame 'df' that \n",
    "# contains the number of words in each row of the  'Text' column:\n",
    "\n",
    "import pandas as pd\n",
    "\n",
    "def count_words(row):\n",
    "    return len(row['Text'].split())\n",
    "\n",
    "def add_word_count(df):\n",
    "    df['Word_Count'] = df.apply(count_words, axis=1)\n",
    "    return df\n",
    "\n"
   ]
  },
  {
   "cell_type": "code",
   "execution_count": 6,
   "id": "e3f50015-3bca-4913-9438-be0618fef2ca",
   "metadata": {},
   "outputs": [
    {
     "name": "stdout",
     "output_type": "stream",
     "text": [
      "                     Text\n",
      "0   This is the first row\n",
      "1  This is the second row\n",
      "2   This is the third row\n",
      "                     Text  Word_Count\n",
      "0   This is the first row           5\n",
      "1  This is the second row           5\n",
      "2   This is the third row           5\n"
     ]
    }
   ],
   "source": [
    "# You can call this function with your DataFrame as an argument to create a new column \n",
    "# 'Word_Count' that contains the number of words  in each row of the 'Text' column. \n",
    "\n",
    "df = pd.DataFrame({'Text': ['This is the first row', 'This is the second row', 'This is the third row']})\n",
    "print(df)\n",
    "\n",
    "# Output:\n",
    "#                     Text\n",
    "# 0   This is the first row\n",
    "# 1  This is the second row\n",
    "# 2    This is the third row\n",
    "\n",
    "df = add_word_count(df)\n",
    "print(df)\n",
    "\n",
    "# Output:\n",
    "#                     Text  Word_Count\n",
    "# 0   This is the first row           5\n",
    "# 1  This is the second row           5\n",
    "# 2    This is the third row           5\n"
   ]
  },
  {
   "cell_type": "markdown",
   "id": "a877394d-ab07-48c8-a871-6fbbcc412d36",
   "metadata": {},
   "source": [
    "# Q5. How are DataFrame.size() and DataFrame.shape() different?\n",
    "## 'DataFrame.size()' and 'DataFrame.shape()' are two different methods of the Pandas DataFrame object that return different information about the DataFrame.\n",
    "\n",
    "### 'DataFrame.size()' returns the number of elements in the DataFrame, which is equal to the total number of cells or values in the DataFrame. It is equivalent to the product of the number of rows and columns in the DataFrame.\n"
   ]
  },
  {
   "cell_type": "code",
   "execution_count": 7,
   "id": "1ce47b3b-b2f8-4fd1-868b-b684710fe0a9",
   "metadata": {},
   "outputs": [
    {
     "name": "stdout",
     "output_type": "stream",
     "text": [
      "6\n"
     ]
    }
   ],
   "source": [
    "# Example \n",
    "\n",
    "import pandas as pd\n",
    "\n",
    "df = pd.DataFrame({'A': [1, 2, 3], 'B': [4, 5, 6]})\n",
    "print(df.size)   # Output: 6\n"
   ]
  },
  {
   "cell_type": "markdown",
   "id": "bf6046b8-0a60-4910-92e3-51375919379f",
   "metadata": {},
   "source": [
    "# 'DataFrame.shape()' returns a tuple that contains the number of rows and columns in the DataFrame. The first element of the tuple is the number of rows, and the second element is the number of columns"
   ]
  },
  {
   "cell_type": "code",
   "execution_count": 8,
   "id": "8aa80a85-0f71-4085-8dd6-366d878be5e7",
   "metadata": {},
   "outputs": [
    {
     "name": "stdout",
     "output_type": "stream",
     "text": [
      "(3, 2)\n"
     ]
    }
   ],
   "source": [
    "# Example\n",
    "\n",
    "import pandas as pd\n",
    "\n",
    "df = pd.DataFrame({'A': [1, 2, 3], 'B': [4, 5, 6]})\n",
    "print(df.shape)  # Output: (3, 2)\n"
   ]
  },
  {
   "cell_type": "code",
   "execution_count": null,
   "id": "e86563b7-00cc-4bdc-a109-44dc15e73fa2",
   "metadata": {},
   "outputs": [],
   "source": [
    "# Q6. Which function of pandas do we use to read an excel file?\n",
    "\n",
    "# To read an Excel file into a Pandas DataFrame, we can use the 'read_excel()' function of Pandas. \n",
    "# Here is the syntax for the 'read_excel()' function:\n",
    "\n",
    "import pandas as pd\n",
    "\n",
    "df = pd.read_excel('filename.xlsx', sheet_name='sheetname')\n"
   ]
  },
  {
   "cell_type": "markdown",
   "id": "7456e8a5-0b4f-48f2-8bc7-5f0f58dcf20a",
   "metadata": {},
   "source": [
    "# Q7. You have a Pandas DataFrame df that contains a column named 'Email' that contains email\n",
    "# addresses in the format 'username@domain.com'. Write a Python function that creates a new column\n",
    "# 'Username' in df that contains only the username part of each email address.\n",
    "\n",
    "### To extract the username part of each email address in a Pandas DataFrame 'df' that contains a column named 'Email', we can use the 'str' attribute of the DataFrame and the 'split()' function. \n"
   ]
  },
  {
   "cell_type": "code",
   "execution_count": 10,
   "id": "d5b95a92-c1aa-44ae-8907-2c810b4d26f2",
   "metadata": {},
   "outputs": [],
   "source": [
    "# Here is how we can create a new column 'Username' in the DataFrame that contains only the username part of each email address:\n",
    "\n",
    "import pandas as pd\n",
    "\n",
    "def extract_username(email):\n",
    "    return email.split('@')[0]\n",
    "\n",
    "def add_username(df):\n",
    "    df['Username'] = df['Email'].str.extract('(\\w+)', expand=False)\n",
    "    return df\n"
   ]
  },
  {
   "cell_type": "code",
   "execution_count": 12,
   "id": "92dd1c01-82cf-4801-beb4-b0f371235603",
   "metadata": {},
   "outputs": [
    {
     "name": "stdout",
     "output_type": "stream",
     "text": [
      "                  Email\n",
      "0  john.doe@example.com\n",
      "1  jane.doe@example.com\n",
      "2     james@example.com\n",
      "                  Email Username\n",
      "0  john.doe@example.com     john\n",
      "1  jane.doe@example.com     jane\n",
      "2     james@example.com    james\n"
     ]
    }
   ],
   "source": [
    "# You can call this function with your DataFrame as an argument to create a new column 'Username' that contains only the username \n",
    "# part of each email address. For example:\n",
    "\n",
    "df = pd.DataFrame({'Email': ['john.doe@example.com', 'jane.doe@example.com', 'james@example.com']})\n",
    "print(df)\n",
    "\n",
    "# Output:\n",
    "#                    Email\n",
    "# 0   john.doe@example.com\n",
    "# 1   jane.doe@example.com\n",
    "# 2       james@example.com\n",
    "\n",
    "df = add_username(df)\n",
    "print(df)\n",
    "\n",
    "# Output:\n",
    "#                    Email Username\n",
    "# 0   john.doe@example.com     john\n",
    "# 1   jane.doe@example.com     jane\n",
    "# 2       james@example.com    james\n",
    "\n",
    "\n",
    "## As you can see, the function creates a new column 'Username' that contains only the username part of each email address. \n",
    "# The 'str.extract()' function is another way to extract the username using regular expressions. \n",
    "# In this case, we use the regular expression '(\\w+)' to match one or more word characters,\n",
    "# which correspond to the username part of the email address.\n"
   ]
  },
  {
   "cell_type": "code",
   "execution_count": 13,
   "id": "322ccdd0-7cd6-4177-9a8c-31a58c11c303",
   "metadata": {},
   "outputs": [],
   "source": [
    "# Q8. You have a Pandas DataFrame df with columns 'A', 'B', and 'C'. Write a Python function that selects\n",
    "# all rows where the value in column 'A' is greater than 5 and the value in column 'B' is less than 10. The\n",
    "# function should return a new DataFrame that contains only the selected rows.\n",
    "\n",
    "## To select all rows from a Pandas DataFrame 'df' where the value in column 'A' is greater than 5 and the value \n",
    "## in column 'B' is less than 10, we can use boolean indexing. Here is how we can write a function that \n",
    "## selects the rows and returns a new DataFrame:\n",
    "\n",
    "import pandas as pd\n",
    "\n",
    "def select_rows(df):\n",
    "    selected_rows = df[(df['A'] > 5) & (df['B'] < 10)]\n",
    "    return selected_rows\n"
   ]
  },
  {
   "cell_type": "code",
   "execution_count": 14,
   "id": "f99d18c7-8811-4d86-9b93-9d7473c1c45c",
   "metadata": {},
   "outputs": [
    {
     "name": "stdout",
     "output_type": "stream",
     "text": [
      "   A  B   C\n",
      "0  1  5  10\n",
      "1  6  2  20\n",
      "2  7  9  30\n",
      "3  3  7  40\n",
      "   A  B   C\n",
      "1  6  2  20\n",
      "2  7  9  30\n"
     ]
    }
   ],
   "source": [
    "# You can call this function with your DataFrame as an argument to select the rows that \n",
    "# satisfy the conditions and return a new DataFrame that contains only the selected rows. For example:\n",
    "\n",
    "df = pd.DataFrame({'A': [1, 6, 7, 3], 'B': [5, 2, 9, 7], 'C': [10, 20, 30, 40]})\n",
    "print(df)\n",
    "\n",
    "# Output:\n",
    "#    A  B   C\n",
    "# 0  1  5  10\n",
    "# 1  6  2  20\n",
    "# 2  7  9  30\n",
    "# 3  3  7  40\n",
    "\n",
    "selected_rows = select_rows(df)\n",
    "print(selected_rows)\n",
    "\n",
    "# Output:\n",
    "#    A  B   C\n",
    "# 2  7  9  30\n",
    "\n",
    "# As you can see, the function selects only the row with index 2, which satisfies both conditions, and returns a\n",
    "# new DataFrame that contains only this row."
   ]
  },
  {
   "cell_type": "code",
   "execution_count": 15,
   "id": "1575018d-3c60-4070-84ea-e0eafc4a5c06",
   "metadata": {},
   "outputs": [],
   "source": [
    "# Q9. Given a Pandas DataFrame df with a column 'Values', write a Python function to calculate the mean,\n",
    "# median, and standard deviation of the values in the 'Values' column.\n",
    "\n",
    "## To calculate the mean, median, and standard deviation of the values in a Pandas DataFrame 'df' with a column 'Values', \n",
    "## we can use the mean(), median(), and std() functions of the DataFrame object in Pandas. Here is how we can write a \n",
    "## function to calculate these statistics:\n",
    "\n",
    "import pandas as pd\n",
    "\n",
    "def calculate_statistics(df):\n",
    "    mean = df['Values'].mean()\n",
    "    median = df['Values'].median()\n",
    "    std = df['Values'].std()\n",
    "    return mean, median, std\n"
   ]
  },
  {
   "cell_type": "code",
   "execution_count": 17,
   "id": "1afb8143-01e9-4b7e-b53b-003020fad1a5",
   "metadata": {},
   "outputs": [
    {
     "name": "stdout",
     "output_type": "stream",
     "text": [
      "   Values\n",
      "0       1\n",
      "1       2\n",
      "2       3\n",
      "3       4\n",
      "4       5\n",
      "Mean: 3.0\n",
      "Median: 3.0\n",
      "Standard deviation: 1.5811388300841898\n"
     ]
    }
   ],
   "source": [
    "# In the above function, we use the mean(), median(), and std() functions of the DataFrame object to calculate \n",
    "# the mean, median, and standard deviation of the values in the 'Values' column of the DataFrame. \n",
    "# We store these values in separate variables  and return them as a tuple.\n",
    "\n",
    "## You can call this function with your DataFrame as an argument to calculate the mean, median, and standard \n",
    "## deviation of the values in the 'Values' column.  For example:\n",
    "\n",
    "df = pd.DataFrame({'Values': [1, 2, 3, 4, 5]})\n",
    "print(df)\n",
    "\n",
    "# Output:\n",
    "#    Values\n",
    "# 0       1\n",
    "# 1       2\n",
    "# 2       3\n",
    "# 3       4\n",
    "# 4       5\n",
    "\n",
    "mean, median, std = calculate_statistics(df)\n",
    "print('Mean:', mean)\n",
    "print('Median:', median)\n",
    "print('Standard deviation:', std)\n",
    "\n",
    "# Output:\n",
    "# Mean: 3.0\n",
    "# Median: 3.0\n",
    "# Standard deviation: 1.5811388300841898\n",
    "\n",
    "\n",
    "## As you can see, the function calculates the mean, median, and standard deviation of the values in the \n",
    "## 'Values' column of the DataFrame and returns them as a tuple. You can print these values or use them\n",
    "## for further analysis or visualization.\n"
   ]
  },
  {
   "cell_type": "code",
   "execution_count": 18,
   "id": "0b5128d7-1fe1-47c6-9b34-4d092fe1e5fe",
   "metadata": {},
   "outputs": [],
   "source": [
    "# Q10. Given a Pandas DataFrame df with a column 'Sales' and a column 'Date', write a Python function to\n",
    "# create a new column 'MovingAverage' that contains the moving average of the sales for the past 7 days\n",
    "# for each row in the DataFrame. The moving average should be calculated using a window of size 7 and\n",
    "# should include the current day.\n",
    "\n",
    "## To calculate the moving average of the sales for the past 7 days for each row in a Pandas DataFrame 'df' with \n",
    "## columns 'Sales' and 'Date', we can use the rolling() function of the DataFrame object in Pandas. Here is how we can write a \n",
    "## function to calculate the moving average:\n",
    "\n",
    "import pandas as pd\n",
    "\n",
    "def calculate_moving_average(df):\n",
    "    ma = df['Sales'].rolling(window=7, min_periods=1).mean()\n",
    "    df['MovingAverage'] = ma\n",
    "    return df\n",
    "\n"
   ]
  },
  {
   "cell_type": "code",
   "execution_count": 19,
   "id": "aab040f8-2966-496e-ae57-90058efaf06e",
   "metadata": {},
   "outputs": [
    {
     "name": "stdout",
     "output_type": "stream",
     "text": [
      "        Date  Sales\n",
      "0 2023-02-25     10\n",
      "1 2023-02-26     20\n",
      "2 2023-02-27     30\n",
      "3 2023-02-28     40\n",
      "4 2023-03-01     50\n",
      "5 2023-03-02     60\n",
      "6 2023-03-03     70\n",
      "        Date  Sales  MovingAverage\n",
      "0 2023-02-25     10           10.0\n",
      "1 2023-02-26     20           15.0\n",
      "2 2023-02-27     30           20.0\n",
      "3 2023-02-28     40           25.0\n",
      "4 2023-03-01     50           30.0\n",
      "5 2023-03-02     60           35.0\n",
      "6 2023-03-03     70           40.0\n"
     ]
    }
   ],
   "source": [
    "# You can call this function with your DataFrame as an argument to calculate the moving average of the sales for \n",
    "# the past 7 days for each row. \n",
    "\n",
    "df = pd.DataFrame({'Date': ['2023-02-25', '2023-02-26', '2023-02-27', '2023-02-28', '2023-03-01', '2023-03-02', '2023-03-03'],\n",
    "                   'Sales': [10, 20, 30, 40, 50, 60, 70]})\n",
    "df['Date'] = pd.to_datetime(df['Date'])\n",
    "print(df)\n",
    "\n",
    "# Output:\n",
    "#         Date  Sales\n",
    "# 0 2023-02-25     10\n",
    "# 1 2023-02-26     20\n",
    "# 2 2023-02-27     30\n",
    "# 3 2023-02-28     40\n",
    "# 4 2023-03-01     50\n",
    "# 5 2023-03-02     60\n",
    "# 6 2023-03-03     70\n",
    "\n",
    "df = calculate_moving_average(df)\n",
    "print(df)\n",
    "\n",
    "# Output:\n",
    "#         Date  Sales  MovingAverage\n",
    "# 0 2023-02-25     10      10.000000\n",
    "# 1 2023-02-26     20      15.000000\n",
    "# 2 2023-02-27     30      20.000000\n",
    "# 3 2023-02-28     40      25.000000\n",
    "# 4 2023-03-01     50      30.000000\n",
    "# 5 2023-03-02     60      35.000000\n",
    "# 6 2023-03-03     70      40.000000\n",
    "\n"
   ]
  },
  {
   "cell_type": "code",
   "execution_count": 20,
   "id": "7c6b8479-4a32-4b94-800a-7ae9e616b266",
   "metadata": {},
   "outputs": [],
   "source": [
    "# Q11. You have a Pandas DataFrame df with a column 'Date'. Write a Python function that creates a new\n",
    "# column 'Weekday' in the DataFrame. The 'Weekday' column should contain the weekday name (e.g.\n",
    "# Monday, Tuesday) corresponding to each date in the 'Date' column.\n",
    "\n",
    "## To create a new column 'Weekday' in the DataFrame containing the weekday name corresponding to each date in the \n",
    "## 'Date' column, you can use  the dt.weekday_name attribute of the pandas DatetimeIndex.\n",
    "\n",
    "import pandas as pd\n",
    "\n",
    "def add_weekday_column(df):\n",
    "    df['Weekday'] = pd.to_datetime(df['Date']).dt.weekday_name\n",
    "    return df\n"
   ]
  },
  {
   "cell_type": "code",
   "execution_count": 28,
   "id": "a277861a-f234-43c0-9042-556bad109720",
   "metadata": {},
   "outputs": [],
   "source": [
    "import pandas as pd\n",
    "\n",
    "def add_weekday_column(df):\n",
    "    # Convert the 'Date' column to a pandas datetime object\n",
    "    df['Date'] = pd.to_datetime(df['Date'])\n",
    "    \n",
    "    # Extract the weekday from the 'Date' column and add it as a new column 'Weekday'\n",
    "    df['Weekday'] = df['Date'].dt.weekday_name\n",
    "    \n",
    "    return df\n"
   ]
  },
  {
   "cell_type": "code",
   "execution_count": null,
   "id": "68be9bc4-d270-4732-9437-113728c453c0",
   "metadata": {},
   "outputs": [],
   "source": [
    "# You can call this function by passing your Pandas DataFrame as an argument:\n",
    "\n",
    "df = pd.DataFrame({'Date': ['2023-03-01', '2023-03-02', '2023-03-03']})\n",
    "df['Date'] = pd.to_datetime(df['Date'])\n",
    "df = add_weekday_column(df)\n",
    "print(df)"
   ]
  },
  {
   "cell_type": "code",
   "execution_count": 33,
   "id": "c4603311-61a2-47f7-ad5c-3c8e988d1967",
   "metadata": {},
   "outputs": [],
   "source": [
    "# Q12. Given a Pandas DataFrame df with a column 'Date' that contains timestamps, write a Python\n",
    "# function to select all rows where the date is between '2023-01-01' and '2023-01-31'.\n",
    "\n",
    "# You can use the pandas.DataFrame.loc accessor with a boolean mask to select the rows where the date is \n",
    "# between '2023-01-01' and '2023-01-31'. Here's a sample function that you can use:\n",
    "\n",
    "import pandas as pd\n",
    "\n",
    "def select_january_dates(df):\n",
    "    mask = (df['Date'] >= '2023-01-01') & (df['Date'] <= '2023-01-31')\n",
    "    return df.loc[mask]\n"
   ]
  },
  {
   "cell_type": "code",
   "execution_count": 34,
   "id": "9973f32c-5e81-4093-ac7c-60f3c26c2493",
   "metadata": {},
   "outputs": [
    {
     "name": "stdout",
     "output_type": "stream",
     "text": [
      "        Date\n",
      "0 2023-01-01\n",
      "1 2023-01-15\n",
      "2 2023-01-31\n"
     ]
    }
   ],
   "source": [
    "# To use this function, you can simply pass your DataFrame to it:\n",
    "\n",
    "df = pd.DataFrame({'Date': ['2023-01-01', '2023-01-15', '2023-01-31', '2023-02-15']})\n",
    "df['Date'] = pd.to_datetime(df['Date'])\n",
    "january_dates = select_january_dates(df)\n",
    "print(january_dates)\n"
   ]
  },
  {
   "cell_type": "code",
   "execution_count": null,
   "id": "d67d6459-4a7a-4a4a-8cde-ad113302757a",
   "metadata": {},
   "outputs": [],
   "source": [
    "# Q13. To use the basic functions of pandas, what is the first and foremost necessary library that needs to be imported?\n",
    "\n",
    "#To use the basic functions of pandas, you need to import the pandas library. You can import pandas using the following code:\n",
    "\n",
    "import pandas as pd\n",
    "\n",
    "# The'pd'alias is commonly used for pandas, but you can choose any other alias \n",
    "# that you prefer. Once you have imported pandas, you can use its functions and classes to create, \n",
    "# manipulate, and analyze data in various ways. Some of the commonly used functions and classes in pandas include 'pandas.DataFrame',\n",
    "# 'pandas.Series', 'pandas.read_csv()', 'pandas.concat()', 'pandas.merge()', and many others.\n"
   ]
  }
 ],
 "metadata": {
  "kernelspec": {
   "display_name": "Python 3 (ipykernel)",
   "language": "python",
   "name": "python3"
  },
  "language_info": {
   "codemirror_mode": {
    "name": "ipython",
    "version": 3
   },
   "file_extension": ".py",
   "mimetype": "text/x-python",
   "name": "python",
   "nbconvert_exporter": "python",
   "pygments_lexer": "ipython3",
   "version": "3.10.8"
  }
 },
 "nbformat": 4,
 "nbformat_minor": 5
}
