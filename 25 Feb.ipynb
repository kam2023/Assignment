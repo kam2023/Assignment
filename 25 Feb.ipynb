{
 "cells": [
  {
   "cell_type": "code",
   "execution_count": null,
   "id": "60274945-5118-40ca-a11d-2024be378fe5",
   "metadata": {},
   "outputs": [],
   "source": [
    "# Consider following code to answer further questions:\n",
    "\n",
    "import pandas as pd\n",
    "course_name = [‘Data Science’, ‘Machine Learning’, ‘Big Data’, ‘Data Engineer’]\n",
    "duration = [2,3,6,4]\n",
    "df = pd.DataFrame(data = {‘course_name’ : course_name, ‘duration’ : duration})"
   ]
  },
  {
   "cell_type": "code",
   "execution_count": 2,
   "id": "772265f9-bca7-4333-9f73-621dce944aef",
   "metadata": {},
   "outputs": [
    {
     "name": "stdout",
     "output_type": "stream",
     "text": [
      "course_name    Machine Learning\n",
      "duration                      3\n",
      "Name: 1, dtype: object\n"
     ]
    }
   ],
   "source": [
    "# Q1. Write a code to print the data present in the second row of the dataframe, df.\n",
    "\n",
    "import pandas as pd\n",
    "\n",
    "course_name = ['Data Science', 'Machine Learning', 'Big Data', 'Data Engineer']\n",
    "duration = [2,3,6,4]\n",
    "df = pd.DataFrame(data = {'course_name': course_name, 'duration': duration})\n",
    "\n",
    "# Select the second row and print its contents\n",
    "print(df.iloc[1])\n"
   ]
  },
  {
   "cell_type": "markdown",
   "id": "93a38fc7-c2f9-4b5f-962a-3231868ea81c",
   "metadata": {},
   "source": [
    "# Q2. What is the difference between the functions loc and iloc in pandas.DataFrame?\n",
    "## 'loc' and 'iloc' are both used to select data from a pandas DataFrame, but they differ in the way that they are used to specify the rows and columns to select.\n",
    "\n",
    "### 'loc' is used to select data based on the labels of the rows and columns. It takes two arguments: the first specifies the labels of the rows to select, and the second specifies the labels of the columns to select. You can use single labels, lists of labels, or slices to specify the rows and columns."
   ]
  },
  {
   "cell_type": "code",
   "execution_count": 3,
   "id": "9d26add5-0d4c-4219-8f26-b7a4e7717aad",
   "metadata": {},
   "outputs": [],
   "source": [
    "# Example:\n",
    "\n",
    "import pandas as pd\n",
    "\n",
    "# create a DataFrame\n",
    "data = {'name': ['Alice', 'Bob', 'Charlie', 'David'],\n",
    "        'age': [25, 32, 18, 47],\n",
    "        'gender': ['F', 'M', 'M', 'M']}\n",
    "df = pd.DataFrame(data)\n",
    "\n",
    "# select rows with index labels 1 and 3, and columns 'name' and 'age'\n",
    "subset = df.loc[[1, 3], ['name', 'age']]\n"
   ]
  },
  {
   "cell_type": "markdown",
   "id": "8a45fd0b-d49d-46b7-b374-b886a6ca298b",
   "metadata": {},
   "source": [
    "## In contrast, 'iloc' is used to select data based on the integer positions of the rows and columns. It takes two arguments: the first specifies the integer positions of the rows to select, and the second specifies the integer positions of the columns to select. You can use single integers, lists of integers, or slices to specify the rows and columns."
   ]
  },
  {
   "cell_type": "code",
   "execution_count": 4,
   "id": "11d12099-1db5-4960-9841-87924b01ecc3",
   "metadata": {},
   "outputs": [],
   "source": [
    "# Example:\n",
    "import pandas as pd\n",
    "\n",
    "# create a DataFrame\n",
    "data = {'name': ['Alice', 'Bob', 'Charlie', 'David'],\n",
    "        'age': [25, 32, 18, 47],\n",
    "        'gender': ['F', 'M', 'M', 'M']}\n",
    "df = pd.DataFrame(data)\n",
    "\n",
    "# select rows with integer positions 1 and 3, and columns with integer positions 0 and 1\n",
    "subset = df.iloc[[1, 3], [0, 1]]\n",
    "\n",
    "### In general, you should use 'loc' when you want to select data based on the labels of the rows \n",
    "### and columns, and 'iloc' when you want to select data based on the integer positions of the rows and columns."
   ]
  },
  {
   "cell_type": "code",
   "execution_count": 5,
   "id": "19ccab83-4583-41ce-a3fc-344db718404f",
   "metadata": {},
   "outputs": [
    {
     "name": "stdout",
     "output_type": "stream",
     "text": [
      "column_1    0.800642\n",
      "column_2    0.244912\n",
      "column_3    0.069761\n",
      "column_4    0.114299\n",
      "column_5    0.354298\n",
      "column_6    0.441637\n",
      "Name: 2, dtype: float64\n",
      "column_1    0.097857\n",
      "column_2    0.258030\n",
      "column_3    0.702109\n",
      "column_4    0.961717\n",
      "column_5    0.494186\n",
      "column_6    0.184013\n",
      "Name: 1, dtype: float64\n"
     ]
    }
   ],
   "source": [
    "# Q3. Reindex the given dataframe using a variable, reindex = [3,0,1,2] and store it in the variable, new_df\n",
    "# then find the output for both new_df.loc[2] and new_df.iloc[2].\n",
    "\n",
    "### To reindex the DataFrame, you can use the 'reindex' method and pass the new index order as an argument. Here's how you can do it:\n",
    "\n",
    "import pandas as pd\n",
    "import numpy as np\n",
    "\n",
    "# create a DataFrame\n",
    "columns = ['column_1', 'column_2', 'column_3', 'column_4', 'column_5', 'column_6']\n",
    "indices = [1,2,3,4,5,6]\n",
    "df1 = pd.DataFrame(np.random.rand(6,6), columns=columns, index=indices)\n",
    "\n",
    "# create the new index order\n",
    "reindex = [3, 0, 1, 2]\n",
    "# reindex the DataFrame\n",
    "new_df = df1.reindex(reindex)\n",
    "\n",
    "# select the row with label 2 using loc\n",
    "print(new_df.loc[2])\n",
    "# select the row with integer position 2 using iloc\n",
    "print(new_df.iloc[2])\n",
    "\n",
    "\n",
    "# In other words, 'new_df.loc[2]' and 'new_df.iloc[2]' will select different rows because they are using \n",
    "# different methods to identify the row that they want to select."
   ]
  },
  {
   "cell_type": "code",
   "execution_count": 6,
   "id": "509e7ced-cb52-4a24-bbff-6b0773d0b9db",
   "metadata": {},
   "outputs": [
    {
     "name": "stdout",
     "output_type": "stream",
     "text": [
      "Mean of each column:\n",
      " column_1    0.278477\n",
      "column_2    0.388490\n",
      "column_3    0.243192\n",
      "column_4    0.542715\n",
      "column_5    0.382059\n",
      "column_6    0.564061\n",
      "dtype: float64\n",
      "Standard deviation of column_2: 0.2898448199723716\n"
     ]
    }
   ],
   "source": [
    "# Q4. Write a code to find the following statistical measurements for the above dataframe df1:\n",
    "# (i) mean of each and every column present in the dataframe.\n",
    "# (ii) standard deviation of column, ‘column_2’\n",
    "\n",
    "# Here's the code to find the mean of each column and the standard deviation of the 'column_2' in the DataFrame 'df1':\n",
    "\n",
    "import pandas as pd\n",
    "import numpy as np\n",
    "\n",
    "# create a DataFrame\n",
    "columns = ['column_1', 'column_2', 'column_3', 'column_4', 'column_5', 'column_6']\n",
    "indices = [1,2,3,4,5,6]\n",
    "df1 = pd.DataFrame(np.random.rand(6,6), columns=columns, index=indices)\n",
    "\n",
    "# calculate the mean of each column\n",
    "means = df1.mean()\n",
    "print(\"Mean of each column:\\n\", means)\n",
    "\n",
    "# calculate the standard deviation of column_2\n",
    "std_dev = df1['column_2'].std()\n",
    "print(\"Standard deviation of column_2:\", std_dev)\n"
   ]
  },
  {
   "cell_type": "markdown",
   "id": "7b0d573d-a138-4a78-ab3d-5b1a71979e0c",
   "metadata": {},
   "source": [
    "# The 'mean()' method is used to calculate the mean of each column in the DataFrame. The resulting object is a Series containing the mean of each column.\n",
    "\n",
    "# The 'std()' method is used to calculate the standard deviation of a column in the DataFrame. We pass the name of the column we want to calculate the standard deviation for as an argument to the 'std()' method. The resulting output is a scalar value representing the standard deviation of the column."
   ]
  },
  {
   "cell_type": "code",
   "execution_count": null,
   "id": "40d2fa65-a749-4e50-82bb-562a8c455da7",
   "metadata": {},
   "outputs": [],
   "source": [
    "# Q5. Replace the data present in the second row of column, ‘column_2’ by a string variable then find the mean of column, column_2.\n",
    "# If you are getting errors in executing it then explain why.\n",
    "# [Hint: To replace the data use df1.loc[] and equate this to string data of your choice.]\n",
    "\n",
    "# Here's the code to replace the data in the second row of 'column_2' with a string variable and find the mean of 'column_2':\n",
    "\n",
    "import pandas as pd\n",
    "import numpy as np\n",
    "\n",
    "# create a DataFrame\n",
    "columns = ['column_1', 'column_2', 'column_3', 'column_4', 'column_5', 'column_6']\n",
    "indices = [1,2,3,4,5,6]\n",
    "df1 = pd.DataFrame(np.random.rand(6,6), columns=columns, index=indices)\n",
    "\n",
    "# replace the data in the second row of 'column_2' with a string variable\n",
    "df1.loc[2, 'column_2'] = 'hello'\n",
    "\n",
    "# calculate the mean of 'column_2'\n",
    "mean = df1['column_2'].mean()\n",
    "print(\"Mean of column_2:\", mean)\n"
   ]
  },
  {
   "cell_type": "markdown",
   "id": "b2307d0b-1cb2-4472-b3e8-84965adb134c",
   "metadata": {},
   "source": [
    "## The reason for this error is that the data in 'column_2' is a mixture of numbers and strings, and we can't calculate the mean of a column that contains strings. When we try to calculate the mean using 'df1['column_2'].mean()', Pandas tries to convert all the values in 'column_2' to a numeric data type. However, it can't convert the string 'hello' to a number, which leads to the TypeError.\n",
    "\n",
    "## To avoid this error, we should ensure that all the values in 'column_2' are numeric before calculating the mean. We could either replace the string 'hello' with a numeric value or remove the row altogether if it's not relevant to the analysis."
   ]
  },
  {
   "cell_type": "markdown",
   "id": "fe2aca0b-2d4a-4f93-a326-df77b3bc20f9",
   "metadata": {},
   "source": [
    "# Q6. What do you understand about the windows function in pandas and list the types of windows functions?\n",
    "\n",
    "## In Pandas, a window function is a way of performing a rolling or expanding calculation over a dataset. It is applied on a defined window size to compute a summary statistic or transformation of the data. The window can be based on a time period, such as days or hours, or it can be based on a fixed-size window.\n",
    "\n",
    "### Pandas provides several types of window functions:\n",
    "\n",
    "1. Rolling Window Functions: These functions apply a rolling window to a time-series or DataFrame. The window is defined by a size and is moved along the index of the data. Examples include mean(), sum(), min(), max(), etc.\n",
    "\n",
    "2. Expanding Window Functions: These functions apply a cumulative calculation to the data up to each point in time. The window starts with the first observation and expands to include each subsequent observation. Examples include cumsum(), cumprod(), etc.\n",
    "\n",
    "3. Exponential Weighted Moving Average (EWMA): These functions calculate a weighted moving average of a time-series, where more recent values are given greater weight. The weights are typically specified by an exponential decay factor. Examples include ewm(), ewma(), etc.\n",
    "\n",
    "4. Rolling Apply: These functions allow the user to apply a custom function to a rolling window of data. The function can operate on a single window or on overlapping windows. Examples include rolling_apply(), rolling_agg(), etc.\n",
    "\n",
    "5. GroupBy with Rolling: These functions allow the user to apply a rolling window function to groups within a DataFrame. Examples include groupby().rolling(), etc.\n",
    "\n",
    "+ Overall, window functions are useful for analyzing time-series data and for computing summary statistics over sliding windows of data. They are a powerful tool in the data analyst's toolkit."
   ]
  },
  {
   "cell_type": "code",
   "execution_count": 9,
   "id": "da02a85c-ba32-4b47-ad10-8cad655afc06",
   "metadata": {},
   "outputs": [
    {
     "name": "stdout",
     "output_type": "stream",
     "text": [
      "Current month and year: 3 / 2023\n"
     ]
    }
   ],
   "source": [
    "# Q7. Write a code to print only the current month and year at the time of answering this question.\n",
    "# [Hint: Use pandas.datetime function]\n",
    "\n",
    "# The pandas.datetime function is deprecated since pandas version 0.23.4. Instead, we can use the datetime module \n",
    "# from the Python Standard Library to get the current month and year.\n",
    "\n",
    "import datetime\n",
    "\n",
    "# get the current month and year\n",
    "now = datetime.datetime.now()\n",
    "month = now.month\n",
    "year = now.year\n",
    "\n",
    "# print the current month and year\n",
    "print(\"Current month and year:\", month, \"/\", year)\n"
   ]
  },
  {
   "cell_type": "code",
   "execution_count": 10,
   "id": "bf5390cd-1376-412c-a44b-33d13cd2edff",
   "metadata": {},
   "outputs": [
    {
     "name": "stdin",
     "output_type": "stream",
     "text": [
      "Enter the first date (YYYY-MM-DD):  2023-02-04\n",
      "Enter the second date (YYYY-MM-DD):  2023-03-04\n"
     ]
    },
    {
     "name": "stdout",
     "output_type": "stream",
     "text": [
      "The difference between 2023-02-04 and 2023-03-04 is:\n",
      "28 days, 0 hours, 0 minutes.\n"
     ]
    }
   ],
   "source": [
    "# Q8. Write a Python program that takes in two dates as input (in the format YYYY-MM-DD) and\n",
    "# calculates the difference between them in days, hours, and minutes using Pandas time delta. The\n",
    "# program should prompt the user to enter the dates and display the result.\n",
    "\n",
    "# Here's a Python program that takes in two dates as input and calculates the difference between them in days, \n",
    "# hours, and minutes using Pandas timedelta:\n",
    "\n",
    "import pandas as pd\n",
    "\n",
    "# prompt user to enter the two dates\n",
    "date1 = input(\"Enter the first date (YYYY-MM-DD): \")\n",
    "date2 = input(\"Enter the second date (YYYY-MM-DD): \")\n",
    "\n",
    "# convert the input strings to pandas datetime objects\n",
    "date1 = pd.to_datetime(date1)\n",
    "date2 = pd.to_datetime(date2)\n",
    "\n",
    "# calculate the difference between the two dates\n",
    "diff = date2 - date1\n",
    "\n",
    "# extract the days, hours, and minutes from the timedelta object\n",
    "days = diff.days\n",
    "hours = diff.seconds // 3600\n",
    "minutes = (diff.seconds % 3600) // 60\n",
    "\n",
    "# display the result\n",
    "print(\"The difference between\", date1.date(), \"and\", date2.date(), \"is:\")\n",
    "print(days, \"days,\", hours, \"hours,\", minutes, \"minutes.\")\n",
    "\n"
   ]
  },
  {
   "cell_type": "code",
   "execution_count": null,
   "id": "8e9c7c1a-1a72-4df9-8163-dd70ac6d8935",
   "metadata": {},
   "outputs": [],
   "source": [
    "# Q9. Write a Python program that reads a CSV file containing categorical data and converts a specified\n",
    "# column to a categorical data type. The program should prompt the user to enter the file path, column\n",
    "# name, and category order, and then display the sorted data.\n",
    "\n",
    "# Here's a Python program that reads a CSV file containing categorical data and converts a specified column to a categorical data type:\n",
    "\n",
    "import pandas as pd\n",
    "\n",
    "# prompt user to enter the file path, column name, and category order\n",
    "file_path = input(\"Enter the file path: \")\n",
    "col_name = input(\"Enter the column name: \")\n",
    "cat_order = input(\"Enter the category order (comma-separated): \").split(',')\n",
    "\n",
    "# read the CSV file into a pandas DataFrame\n",
    "df = pd.read_csv(file_path)\n",
    "\n",
    "# convert the specified column to a categorical data type\n",
    "df[col_name] = pd.Categorical(df[col_name], categories=cat_order)\n",
    "\n",
    "# sort the DataFrame by the specified column\n",
    "df = df.sort_values(col_name)\n",
    "\n",
    "# display the sorted data\n",
    "print(df)\n"
   ]
  },
  {
   "cell_type": "code",
   "execution_count": null,
   "id": "4266c223-b1c1-446b-943e-86e0ab38a1d3",
   "metadata": {},
   "outputs": [],
   "source": [
    "# Q10. Write a Python program that reads a CSV file containing sales data for different products and\n",
    "# visualizes the data using a stacked bar chart to show the sales of each product category over time. The\n",
    "# program should prompt the user to enter the file path and display the chart.\n",
    "\n",
    "# Here's a Python program that reads a CSV file containing sales data for different products\n",
    "# and visualizes the data using a stacked bar chart:\n",
    "\n",
    "import pandas as pd\n",
    "import matplotlib.pyplot as plt\n",
    "\n",
    "# prompt user to enter the file path\n",
    "file_path = input(\"Enter the file path: \")\n",
    "\n",
    "# read the CSV file into a pandas DataFrame\n",
    "df = pd.read_csv(file_path)\n",
    "\n",
    "# convert the date column to a pandas datetime object\n",
    "df['Date'] = pd.to_datetime(df['Date'])\n",
    "\n",
    "# group the sales data by product category and date\n",
    "grouped_df = df.groupby(['Product Category', 'Date']).sum().reset_index()\n",
    "\n",
    "# pivot the DataFrame to create a table with product categories as rows and dates as columns\n",
    "pivot_df = grouped_df.pivot(index='Product Category', columns='Date', values='Sales')\n",
    "\n",
    "# plot a stacked bar chart of the sales data\n",
    "pivot_df.plot(kind='bar', stacked=True)\n",
    "\n",
    "# set the title and axis labels\n",
    "plt.title('Sales by Product Category')\n",
    "plt.xlabel('Product Category')\n",
    "plt.ylabel('Sales')\n",
    "\n",
    "# display the chart\n",
    "plt.show()\n"
   ]
  },
  {
   "cell_type": "code",
   "execution_count": null,
   "id": "1d31a061-a97b-4f5f-998b-b426f65acea8",
   "metadata": {},
   "outputs": [],
   "source": [
    "# Q11. You are given a CSV file containing student data that includes the student ID and their test score. Write\n",
    "# a Python program that reads the CSV file, calculates the mean, median, and mode of the test scores, and\n",
    "# displays the results in a table.\n",
    "# The program should do the followingM\n",
    "# Prompt the user to enter the file path of the CSV file containing the student dataR\n",
    "# Read the CSV file into a Pandas DataFrameR\n",
    "# Calculate the mean, median, and mode of the test scores using Pandas toolsR\n",
    "# Display the mean, median, and mode in a table.\n",
    "\n",
    "# solution- Here's a Python program that reads a CSV file containing student data, calculates the mean, median, and mode of the test scores,\n",
    "# and displays the results in a table:\n",
    "\n",
    "import pandas as pd\n",
    "\n",
    "# prompt user to enter the file path\n",
    "file_path = input(\"Enter the file path: \")\n",
    "\n",
    "# read the CSV file into a pandas DataFrame\n",
    "df = pd.read_csv(file_path)\n",
    "\n",
    "# calculate the mean, median, and mode of the test scores\n",
    "mean_score = df['Test Score'].mean()\n",
    "median_score = df['Test Score'].median()\n",
    "mode_score = df['Test Score'].mode().values[0]\n",
    "\n",
    "# create a dictionary to store the results\n",
    "results = {\n",
    "    'Mean': [mean_score],\n",
    "    'Median': [median_score],\n",
    "    'Mode': [mode_score]\n",
    "}\n",
    "\n",
    "# create a pandas DataFrame from the dictionary\n",
    "results_df = pd.DataFrame(data=results)\n",
    "\n",
    "# display the results table\n",
    "print(results_df)\n"
   ]
  },
  {
   "cell_type": "code",
   "execution_count": null,
   "id": "7f4f35d4-4a82-4dff-b874-02620479ce88",
   "metadata": {},
   "outputs": [],
   "source": []
  },
  {
   "cell_type": "code",
   "execution_count": null,
   "id": "11b147bb-8611-44c0-abfb-f913556b8f27",
   "metadata": {},
   "outputs": [],
   "source": []
  }
 ],
 "metadata": {
  "kernelspec": {
   "display_name": "Python 3 (ipykernel)",
   "language": "python",
   "name": "python3"
  },
  "language_info": {
   "codemirror_mode": {
    "name": "ipython",
    "version": 3
   },
   "file_extension": ".py",
   "mimetype": "text/x-python",
   "name": "python",
   "nbconvert_exporter": "python",
   "pygments_lexer": "ipython3",
   "version": "3.10.8"
  }
 },
 "nbformat": 4,
 "nbformat_minor": 5
}
