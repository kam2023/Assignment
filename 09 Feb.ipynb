{
 "cells": [
  {
   "cell_type": "code",
   "execution_count": 1,
   "id": "799402be-d4c4-4814-95a6-55bd0967d448",
   "metadata": {},
   "outputs": [],
   "source": [
    "#Q1:\n",
    "class Vehicle:\n",
    "    def __init__(self, name_of_vehicle, max_speed, average_of_vehicle):\n",
    "        self.name_of_vehicle = name_of_vehicle\n",
    "        self.max_speed = max_speed\n",
    "        self.average_of_vehicle = average_of_vehicle\n"
   ]
  },
  {
   "cell_type": "code",
   "execution_count": 2,
   "id": "19c6823b-94fe-4360-895b-c0f5de4c59bf",
   "metadata": {},
   "outputs": [],
   "source": [
    "car = Vehicle(\"Toyota Camry\", 120, 30)\n"
   ]
  },
  {
   "cell_type": "code",
   "execution_count": 3,
   "id": "c6831491-3255-47ad-b12a-808f425b0ee6",
   "metadata": {},
   "outputs": [
    {
     "name": "stdout",
     "output_type": "stream",
     "text": [
      "Toyota Camry\n",
      "120\n",
      "30\n"
     ]
    }
   ],
   "source": [
    "print(car.name_of_vehicle)    # output: Toyota Camry\n",
    "print(car.max_speed)          # output: 120\n",
    "print(car.average_of_vehicle) # output: 30\n"
   ]
  },
  {
   "cell_type": "code",
   "execution_count": 16,
   "id": "f0824ea9-727e-4a06-baea-fe26f7eb806f",
   "metadata": {},
   "outputs": [],
   "source": [
    "#Q:2class Car(Vehicle):\n",
    "def __init__(self, name_of_vehicle, max_speed, average_of_vehicle):\n",
    "        super().__init__(name_of_vehicle, max_speed, average_of_vehicle)\n",
    "\n",
    "def seating_capacity(self, capacity):\n",
    "     return f\"{self.name_of_vehicle} has a seating capacity of {capacity} passengers.\"\n",
    "\n"
   ]
  },
  {
   "cell_type": "code",
   "execution_count": 25,
   "id": "42ec997e-e9e2-42c2-b73c-aeb46a8a4f9d",
   "metadata": {},
   "outputs": [],
   "source": [
    "car = Vehicle(\"Toyota Camry\", 120, 30)\n"
   ]
  },
  {
   "cell_type": "code",
   "execution_count": 26,
   "id": "a1e2d17f-39b9-4f47-b3d7-9f6a47489f61",
   "metadata": {},
   "outputs": [
    {
     "name": "stdout",
     "output_type": "stream",
     "text": [
      "Toyota Camry\n"
     ]
    }
   ],
   "source": [
    "\n",
    "print(car.name_of_vehicle)   # output: Toyota Camry has a seating capacity of 5 passengers.\n"
   ]
  },
  {
   "cell_type": "markdown",
   "id": "568c9f76-bf23-45d9-9717-4a671f138e2b",
   "metadata": {},
   "source": [
    "# Q3:\n",
    "Multiple inheritance is a feature in object-oriented programming where a subclass can inherit from multiple parent classes. In other words, a subclass can have multiple parent classes, each providing a different set of features."
   ]
  },
  {
   "cell_type": "code",
   "execution_count": 27,
   "id": "d07277cc-bf7a-4837-97c3-73e73fd6cfee",
   "metadata": {},
   "outputs": [],
   "source": [
    "# python code to  demonstrates multiple inheritance\n",
    "class Shape:\n",
    "    def __init__(self, color):\n",
    "        self.color = color\n",
    "\n",
    "    def get_color(self):\n",
    "        return self.color\n",
    "\n",
    "\n",
    "class Circle:\n",
    "    def __init__(self, radius):\n",
    "        self.radius = radius\n",
    "\n",
    "    def area(self):\n",
    "        return 3.14 * self.radius ** 2\n",
    "\n",
    "\n",
    "class ColoredCircle(Circle, Shape):\n",
    "    def __init__(self, radius, color):\n",
    "        Circle.__init__(self, radius)\n",
    "        Shape.__init__(self, color)\n",
    "\n",
    "    def display(self):\n",
    "        print(\"Color:\", self.get_color())\n",
    "        print(\"Area:\", self.area())\n"
   ]
  },
  {
   "cell_type": "code",
   "execution_count": 28,
   "id": "d449237f-03a9-49f6-89d2-a6d04a1e24c5",
   "metadata": {},
   "outputs": [
    {
     "name": "stdout",
     "output_type": "stream",
     "text": [
      "Color: red\n",
      "Area: 78.5\n"
     ]
    }
   ],
   "source": [
    "#To create an instance of ColoredCircle, we can call its __init__ method and pass in the radius and color parameters:\n",
    "cc = ColoredCircle(5, \"red\")\n",
    "cc.display()\n"
   ]
  },
  {
   "cell_type": "markdown",
   "id": "78bd01c4-6e70-47d8-9aff-f33a6ee420d4",
   "metadata": {},
   "source": [
    "#Q4:\n",
    "In Python, getter and setter methods are a way to encapsulate class instance variables and provide controlled access to them. The getter method is used to get the value of an instance variable, while the setter method is used to set the value of an instance variable."
   ]
  },
  {
   "cell_type": "code",
   "execution_count": 30,
   "id": "9314b94b-ad7d-4ce6-9d5f-23cd6582caf1",
   "metadata": {},
   "outputs": [],
   "source": [
    "class Student:\n",
    "    def __init__(self, name, age):\n",
    "        self._name = name\n",
    "        self._age = age\n",
    "\n",
    "    def get_name(self):\n",
    "        return self._name\n",
    "\n",
    "    def set_name(self, name):\n",
    "        self._name = name\n",
    "\n",
    "    def get_age(self):\n",
    "        return self._age\n",
    "\n",
    "    def set_age(self, age):\n",
    "        if age < 0:\n",
    "            raise ValueError(\"Age cannot be negative.\")\n",
    "        self._age = age\n"
   ]
  },
  {
   "cell_type": "code",
   "execution_count": 31,
   "id": "78f14698-0e7b-4bc4-b43b-d049cf426f01",
   "metadata": {},
   "outputs": [
    {
     "name": "stdout",
     "output_type": "stream",
     "text": [
      "John\n",
      "Jane\n",
      "20\n",
      "25\n"
     ]
    }
   ],
   "source": [
    "# We can create an instance of the Student class and use the getter and setter methods like this:\n",
    "s = Student(\"John\", 20)\n",
    "print(s.get_name())  # output: John\n",
    "s.set_name(\"Jane\")\n",
    "print(s.get_name())  # output: Jane\n",
    "print(s.get_age())   # output: 20\n",
    "s.set_age(25)\n",
    "print(s.get_age())   # output: 25\n"
   ]
  },
  {
   "cell_type": "markdown",
   "id": "c0771e20-e7d0-46e7-8915-8201dd5d9918",
   "metadata": {},
   "source": [
    "#Q5:\n",
    "Method overriding is a feature in object-oriented programming where a subclass can provide its own implementation of a method that is already defined in its parent class. When a method is overridden in the subclass, the new implementation replaces the old implementation inherited from the parent class."
   ]
  },
  {
   "cell_type": "code",
   "execution_count": 32,
   "id": "4a9f82ec-c109-4c94-adcd-c637e299ce41",
   "metadata": {},
   "outputs": [
    {
     "name": "stdout",
     "output_type": "stream",
     "text": [
      "The animal makes a sound.\n",
      "Meow\n",
      "Woof\n",
      "The animal makes a sound.\n"
     ]
    }
   ],
   "source": [
    "# code that demonstrates method overriding in Python\n",
    "class Animal:\n",
    "    def make_sound(self):\n",
    "        print(\"The animal makes a sound.\")\n",
    "\n",
    "\n",
    "class Cat(Animal):\n",
    "    def make_sound(self):\n",
    "        print(\"Meow\")\n",
    "\n",
    "\n",
    "class Dog(Animal):\n",
    "    def make_sound(self):\n",
    "        print(\"Woof\")\n",
    "\n",
    "\n",
    "class Cow(Animal):\n",
    "    pass\n",
    "\n",
    "\n",
    "a = Animal()\n",
    "a.make_sound()  # output: The animal makes a sound.\n",
    "\n",
    "c = Cat()\n",
    "c.make_sound()  # output: Meow\n",
    "\n",
    "d = Dog()\n",
    "d.make_sound()  # output: Woof\n",
    "\n",
    "w = Cow()\n",
    "w.make_sound()  # output: The animal makes a sound.\n"
   ]
  },
  {
   "cell_type": "code",
   "execution_count": null,
   "id": "0691b2b9-db59-45a7-85b6-15c12bea97ac",
   "metadata": {},
   "outputs": [],
   "source": []
  }
 ],
 "metadata": {
  "kernelspec": {
   "display_name": "Python 3 (ipykernel)",
   "language": "python",
   "name": "python3"
  },
  "language_info": {
   "codemirror_mode": {
    "name": "ipython",
    "version": 3
   },
   "file_extension": ".py",
   "mimetype": "text/x-python",
   "name": "python",
   "nbconvert_exporter": "python",
   "pygments_lexer": "ipython3",
   "version": "3.10.8"
  }
 },
 "nbformat": 4,
 "nbformat_minor": 5
}
