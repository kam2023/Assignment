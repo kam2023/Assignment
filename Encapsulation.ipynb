{
 "cells": [
  {
   "cell_type": "code",
   "execution_count": 2,
   "id": "b7b1cf7f-8916-46fc-a4c4-ff1e9658b7b4",
   "metadata": {},
   "outputs": [],
   "source": [
    "class test :\n",
    "    def __init__(self , a,b) :\n",
    "        self.a = a\n",
    "        self.b = b"
   ]
  },
  {
   "cell_type": "code",
   "execution_count": 3,
   "id": "f023a123-6dbb-4d96-9091-4995d22442f6",
   "metadata": {},
   "outputs": [],
   "source": [
    "t = test(45,56)"
   ]
  },
  {
   "cell_type": "code",
   "execution_count": 4,
   "id": "e1ae65a7-c939-4be5-b06f-9f7bb531b110",
   "metadata": {},
   "outputs": [
    {
     "data": {
      "text/plain": [
       "45"
      ]
     },
     "execution_count": 4,
     "metadata": {},
     "output_type": "execute_result"
    }
   ],
   "source": [
    "t.a"
   ]
  },
  {
   "cell_type": "code",
   "execution_count": 5,
   "id": "1bf1346a-dc83-4569-a7b5-255f3b44fe1d",
   "metadata": {},
   "outputs": [
    {
     "data": {
      "text/plain": [
       "56"
      ]
     },
     "execution_count": 5,
     "metadata": {},
     "output_type": "execute_result"
    }
   ],
   "source": [
    "t.b"
   ]
  },
  {
   "cell_type": "code",
   "execution_count": 6,
   "id": "e32446a0-677f-4156-8f08-1e69aa965463",
   "metadata": {},
   "outputs": [],
   "source": [
    "t.a= 3243"
   ]
  },
  {
   "cell_type": "code",
   "execution_count": 7,
   "id": "5003e1c5-a92a-4f83-be78-a623489922ef",
   "metadata": {},
   "outputs": [
    {
     "data": {
      "text/plain": [
       "3243"
      ]
     },
     "execution_count": 7,
     "metadata": {},
     "output_type": "execute_result"
    }
   ],
   "source": [
    "t.a"
   ]
  },
  {
   "cell_type": "code",
   "execution_count": 24,
   "id": "c6a9d5f5-216d-43f6-b579-752ad34796f3",
   "metadata": {},
   "outputs": [],
   "source": [
    "class car:\n",
    "    def __init__(self,year,make,model,speed) :\n",
    "        self.__year = year\n",
    "        self.__make = make\n",
    "        self.__model = model\n",
    "        self.__speed = 0\n",
    "        \n",
    "    def set_speed(self,speed) : \n",
    "        self.__speed = 0 if speed < 0 else speed\n",
    "    def get_speed(self) :\n",
    "        return self.__speed\n",
    "        "
   ]
  },
  {
   "cell_type": "code",
   "execution_count": null,
   "id": "82847a72-3a64-4068-b530-2df72553e7e2",
   "metadata": {},
   "outputs": [],
   "source": [
    "obj_car.get_speed()"
   ]
  },
  {
   "cell_type": "code",
   "execution_count": null,
   "id": "f2e1f862-2a08-426e-b0ff-ae378d5f8df7",
   "metadata": {},
   "outputs": [],
   "source": [
    "obj_car.set_speed(-1234)"
   ]
  },
  {
   "cell_type": "code",
   "execution_count": 14,
   "id": "f18fe8ed-a9cd-4a08-a649-e7439d0deb60",
   "metadata": {},
   "outputs": [],
   "source": [
    "obj_car.set_speed(3453)\n"
   ]
  },
  {
   "cell_type": "code",
   "execution_count": 10,
   "id": "61ddde60-253e-461f-8efb-85e0e6c771e9",
   "metadata": {},
   "outputs": [],
   "source": [
    "obj_car= car(2012,\"toyota\",\"innova\",12)"
   ]
  },
  {
   "cell_type": "code",
   "execution_count": 11,
   "id": "e4784957-c001-403a-ad27-032605744190",
   "metadata": {},
   "outputs": [],
   "source": [
    "obj_car._car__year = 2023"
   ]
  },
  {
   "cell_type": "code",
   "execution_count": 12,
   "id": "11765bb1-b36d-4d92-b11a-59eca03ea343",
   "metadata": {},
   "outputs": [
    {
     "data": {
      "text/plain": [
       "2023"
      ]
     },
     "execution_count": 12,
     "metadata": {},
     "output_type": "execute_result"
    }
   ],
   "source": [
    "obj_car._car__year"
   ]
  },
  {
   "cell_type": "code",
   "execution_count": 16,
   "id": "8c985702-8d50-4141-81b0-666cbf600905",
   "metadata": {},
   "outputs": [
    {
     "data": {
      "text/plain": [
       "3453"
      ]
     },
     "execution_count": 16,
     "metadata": {},
     "output_type": "execute_result"
    }
   ],
   "source": [
    "obj_car._car__speed"
   ]
  },
  {
   "cell_type": "code",
   "execution_count": 28,
   "id": "ac013802-9b72-49f8-a7be-b7b4bd4a87be",
   "metadata": {},
   "outputs": [],
   "source": [
    "class bank_account:\n",
    "    def __init__(self , balance):\n",
    "        self.__balance = balance\n",
    "        \n",
    "    def deposit(self , amount ) :\n",
    "        self.__balance = self.__balance + amount\n",
    "        \n",
    "    def withdraw(self , amount):\n",
    "        if self.__balance >= amount :\n",
    "            self.__balance = self.__balance - amount\n",
    "            return True\n",
    "        else:\n",
    "            return False\n",
    "    def get_balance(self) :\n",
    "        return self.__balance"
   ]
  },
  {
   "cell_type": "code",
   "execution_count": 29,
   "id": "745f9c9c-1fe7-4365-a101-925e08588327",
   "metadata": {},
   "outputs": [],
   "source": [
    "obj_bank_account = bank_account(1000)"
   ]
  },
  {
   "cell_type": "code",
   "execution_count": 30,
   "id": "6d13a921-7093-46d1-878a-55bbd0cc2569",
   "metadata": {},
   "outputs": [
    {
     "data": {
      "text/plain": [
       "1000"
      ]
     },
     "execution_count": 30,
     "metadata": {},
     "output_type": "execute_result"
    }
   ],
   "source": [
    "obj_bank_account.get_balance()"
   ]
  },
  {
   "cell_type": "code",
   "execution_count": 31,
   "id": "d95e70af-1fc6-4e22-b0f4-4354880e448b",
   "metadata": {},
   "outputs": [],
   "source": [
    "obj_bank_account.deposit(6000)"
   ]
  },
  {
   "cell_type": "code",
   "execution_count": 32,
   "id": "ddc7a56c-caff-4d9d-8efa-5ef5bf261be5",
   "metadata": {},
   "outputs": [
    {
     "data": {
      "text/plain": [
       "7000"
      ]
     },
     "execution_count": 32,
     "metadata": {},
     "output_type": "execute_result"
    }
   ],
   "source": [
    "obj_bank_account.get_balance()"
   ]
  },
  {
   "cell_type": "code",
   "execution_count": 33,
   "id": "9dffa4f1-5296-49d8-ac4b-b5646ef45765",
   "metadata": {},
   "outputs": [
    {
     "data": {
      "text/plain": [
       "False"
      ]
     },
     "execution_count": 33,
     "metadata": {},
     "output_type": "execute_result"
    }
   ],
   "source": [
    "obj_bank_account.withdraw(10000)"
   ]
  },
  {
   "cell_type": "code",
   "execution_count": 34,
   "id": "e7245997-4337-4817-bf8e-34ff0ffaefa7",
   "metadata": {},
   "outputs": [
    {
     "data": {
      "text/plain": [
       "True"
      ]
     },
     "execution_count": 34,
     "metadata": {},
     "output_type": "execute_result"
    }
   ],
   "source": [
    "obj_bank_account.withdraw(2000)"
   ]
  },
  {
   "cell_type": "code",
   "execution_count": 35,
   "id": "3c476234-4bdf-4943-a386-5d1e2da9a7fb",
   "metadata": {},
   "outputs": [
    {
     "data": {
      "text/plain": [
       "5000"
      ]
     },
     "execution_count": 35,
     "metadata": {},
     "output_type": "execute_result"
    }
   ],
   "source": [
    "obj_bank_account.get_balance()"
   ]
  },
  {
   "cell_type": "markdown",
   "id": "8f9de188-5ef3-4def-abd2-87436aadec14",
   "metadata": {},
   "source": [
    "# Inheritance"
   ]
  },
  {
   "cell_type": "code",
   "execution_count": 36,
   "id": "7d3fc836-53f5-4b96-b7d4-a9ea83f11673",
   "metadata": {},
   "outputs": [],
   "source": [
    "class parent:\n",
    "    \n",
    "    def test_parent(self):\n",
    "        print(\"this is my parent class\")"
   ]
  },
  {
   "cell_type": "code",
   "execution_count": 37,
   "id": "87d0fd07-b3f0-431c-96fb-dc4085b99ea3",
   "metadata": {},
   "outputs": [],
   "source": [
    "class child(parent):\n",
    "    pass"
   ]
  },
  {
   "cell_type": "code",
   "execution_count": 38,
   "id": "b9aed7e0-248b-425c-b0b1-2530701abc3c",
   "metadata": {},
   "outputs": [],
   "source": [
    "child_obj= child()"
   ]
  },
  {
   "cell_type": "code",
   "execution_count": 40,
   "id": "a55f3eb5-6a6f-4b70-b943-cb322eae1d72",
   "metadata": {},
   "outputs": [
    {
     "name": "stdout",
     "output_type": "stream",
     "text": [
      "this is my parent class\n"
     ]
    }
   ],
   "source": [
    "child_obj.test_parent()"
   ]
  },
  {
   "cell_type": "code",
   "execution_count": 3,
   "id": "9d6b0199-b310-4c1f-849e-2e17de3ec7ff",
   "metadata": {},
   "outputs": [],
   "source": [
    "class class1:\n",
    "    def test_class1(self):\n",
    "        print(\"this is my class1\")"
   ]
  },
  {
   "cell_type": "code",
   "execution_count": 4,
   "id": "a38bd1c2-ab88-4e42-96e5-ab2913c82494",
   "metadata": {},
   "outputs": [],
   "source": [
    "class class2(class1):\n",
    "    def test_class2(self):\n",
    "        print(\"this is my class2\")\n",
    "        "
   ]
  },
  {
   "cell_type": "code",
   "execution_count": 5,
   "id": "71267745-2a0c-43b4-be15-dbcc7a809339",
   "metadata": {},
   "outputs": [],
   "source": [
    "class class3(class2):\n",
    "    def test_class3(self):\n",
    "        print(\"this is my class3\")\n",
    "        \n",
    "## multilable in heritance"
   ]
  },
  {
   "cell_type": "code",
   "execution_count": 6,
   "id": "5a2b6a6d-1ef4-460e-92ab-e598f39397d9",
   "metadata": {},
   "outputs": [],
   "source": [
    "obj_class3 = class3()"
   ]
  },
  {
   "cell_type": "code",
   "execution_count": 7,
   "id": "764f91b9-a86b-460f-b8c8-757afb44256e",
   "metadata": {},
   "outputs": [
    {
     "name": "stdout",
     "output_type": "stream",
     "text": [
      "this is my class1\n"
     ]
    }
   ],
   "source": [
    "obj_class3.test_class1()"
   ]
  },
  {
   "cell_type": "code",
   "execution_count": 8,
   "id": "f1c662a6-3951-4d67-911a-3f59d09fc0ba",
   "metadata": {},
   "outputs": [
    {
     "name": "stdout",
     "output_type": "stream",
     "text": [
      "this is my class1\n"
     ]
    }
   ],
   "source": [
    "obj_class3.test_class1()"
   ]
  },
  {
   "cell_type": "code",
   "execution_count": 9,
   "id": "d2517f09-5e44-4724-b7cc-a1d99de1759c",
   "metadata": {},
   "outputs": [
    {
     "name": "stdout",
     "output_type": "stream",
     "text": [
      "this is my class2\n"
     ]
    }
   ],
   "source": [
    "obj_class3.test_class2()"
   ]
  },
  {
   "cell_type": "code",
   "execution_count": 10,
   "id": "404deb64-f013-4503-9a06-e6f79cc08757",
   "metadata": {},
   "outputs": [
    {
     "name": "stdout",
     "output_type": "stream",
     "text": [
      "this is my class3\n"
     ]
    }
   ],
   "source": [
    "obj_class3.test_class3()"
   ]
  },
  {
   "cell_type": "code",
   "execution_count": 24,
   "id": "5c41f4be-27f2-4087-a0ea-5dcdfa0c8519",
   "metadata": {},
   "outputs": [],
   "source": [
    "class class1:\n",
    "    def test_class1(self):\n",
    "        print(\"this is my class1\")"
   ]
  },
  {
   "cell_type": "code",
   "execution_count": 25,
   "id": "8f463391-d0a9-430a-a0bd-c9270aa66bb2",
   "metadata": {},
   "outputs": [],
   "source": [
    "class class2:\n",
    "    def test_class2(self):\n",
    "        print(\"this is my class2\")"
   ]
  },
  {
   "cell_type": "code",
   "execution_count": 26,
   "id": "de0ee861-cec2-42c6-856d-512ec342f68b",
   "metadata": {},
   "outputs": [],
   "source": [
    "# multiple argument wherein many classes are access at one goal\n",
    "class class3(class1, class2):\n",
    "    pass"
   ]
  },
  {
   "cell_type": "code",
   "execution_count": 29,
   "id": "6b877cd2-a370-4ccf-87dd-a9bd7d86e01f",
   "metadata": {},
   "outputs": [],
   "source": [
    "obj_class3=class3()"
   ]
  },
  {
   "cell_type": "code",
   "execution_count": 30,
   "id": "9db0553a-30a0-4a6d-8f83-b709912cd087",
   "metadata": {},
   "outputs": [
    {
     "name": "stdout",
     "output_type": "stream",
     "text": [
      "this is my class1\n"
     ]
    }
   ],
   "source": [
    "obj_class3.test_class1()"
   ]
  },
  {
   "cell_type": "code",
   "execution_count": 31,
   "id": "3a6e964e-41f6-48fa-9ab8-ed4995161e9c",
   "metadata": {},
   "outputs": [
    {
     "name": "stdout",
     "output_type": "stream",
     "text": [
      "this is my class2\n"
     ]
    }
   ],
   "source": [
    "obj_class3.test_class2()"
   ]
  },
  {
   "cell_type": "markdown",
   "id": "ad7f40d9-08b0-4466-b092-c3793d1abb7b",
   "metadata": {},
   "source": [
    "# Abstraction"
   ]
  },
  {
   "cell_type": "code",
   "execution_count": 32,
   "id": "78109cda-8e1e-445a-bc9b-da8fea4993f0",
   "metadata": {},
   "outputs": [],
   "source": [
    "import abc\n",
    "\n",
    "class pwskills:\n",
    "    @abc.abstractmethod\n",
    "    def student_details(self):\n",
    "        pass\n",
    "    @abc.abstractmethod\n",
    "    def student_assignment(self):\n",
    "        pass\n",
    "    \n",
    "    @abc.abstractmethod\n",
    "    def student_marks(self):\n",
    "        pass"
   ]
  },
  {
   "cell_type": "code",
   "execution_count": 33,
   "id": "e45a4700-9876-429e-ace7-586ab748f927",
   "metadata": {},
   "outputs": [],
   "source": [
    "class data_science(pwskills):\n",
    "    def student_details(self):\n",
    "        return \"it will try to return details of data science masters\"\n",
    "    \n",
    "    def student_assignment(self):\n",
    "        return \"it will return student assignment for data science masters\"\n",
    "    \n",
    "    "
   ]
  },
  {
   "cell_type": "code",
   "execution_count": 34,
   "id": "6e31acf1-ad6c-49c3-8df0-1d5e6c451c2f",
   "metadata": {},
   "outputs": [],
   "source": [
    "class web_dev(pwskills):\n",
    "    def student_details(self):\n",
    "        return \"this will return a detail of web dev\"\n",
    "    \n",
    "    def student_marks(self):\n",
    "        return \"this will return a mark of web dev class \""
   ]
  },
  {
   "cell_type": "code",
   "execution_count": 35,
   "id": "ca5f6b83-9424-4af6-9efa-7c6f7c071e09",
   "metadata": {},
   "outputs": [
    {
     "data": {
      "text/plain": [
       "'it will try to return details of data science masters'"
      ]
     },
     "execution_count": 35,
     "metadata": {},
     "output_type": "execute_result"
    }
   ],
   "source": [
    "ds= data_science()\n",
    "ds.student_details()"
   ]
  },
  {
   "cell_type": "code",
   "execution_count": 36,
   "id": "c86a2185-1c67-4d8e-aa3d-6dbb1d30e404",
   "metadata": {},
   "outputs": [
    {
     "data": {
      "text/plain": [
       "'this will return a detail of web dev'"
      ]
     },
     "execution_count": 36,
     "metadata": {},
     "output_type": "execute_result"
    }
   ],
   "source": [
    "wb= web_dev()\n",
    "wb.student_details()"
   ]
  },
  {
   "cell_type": "code",
   "execution_count": null,
   "id": "6642f411-5713-493d-a38a-14a2f1c1d3f0",
   "metadata": {},
   "outputs": [],
   "source": []
  }
 ],
 "metadata": {
  "kernelspec": {
   "display_name": "Python 3 (ipykernel)",
   "language": "python",
   "name": "python3"
  },
  "language_info": {
   "codemirror_mode": {
    "name": "ipython",
    "version": 3
   },
   "file_extension": ".py",
   "mimetype": "text/x-python",
   "name": "python",
   "nbconvert_exporter": "python",
   "pygments_lexer": "ipython3",
   "version": "3.10.8"
  }
 },
 "nbformat": 4,
 "nbformat_minor": 5
}
