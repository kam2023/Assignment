{
 "cells": [
  {
   "cell_type": "code",
   "execution_count": 1,
   "id": "35b74504-cfcd-4512-9aa2-8aec72e45ed3",
   "metadata": {},
   "outputs": [],
   "source": [
    "# Q1. How can you create a Bokeh plot using Python code?\n",
    "\n",
    "## Bokeh is a Python library used for creating interactive data visualizations in web browsers. \n",
    "from bokeh.plotting import figure, output_file, show\n",
    "\n",
    "# create some data\n",
    "x = [1, 2, 3, 4, 5]\n",
    "y = [6, 7, 2, 4, 5]\n",
    "\n",
    "# output to static HTML file\n",
    "output_file(\"line.html\")\n",
    "\n",
    "# create a new plot with a title and axis labels\n",
    "p = figure(title=\"Simple Line Plot\", x_axis_label='x', y_axis_label='y')\n",
    "\n",
    "# add a line renderer with legend and line thickness\n",
    "p.line(x, y, legend_label=\"Line\", line_width=2)\n",
    "\n",
    "# show the results\n",
    "show(p)\n"
   ]
  },
  {
   "cell_type": "markdown",
   "id": "9a87e35d-6ad0-4e33-aed3-7fe3fa8df0f8",
   "metadata": {},
   "source": [
    "# Q2. What are glyphs in Bokeh, and how can you add them to a Bokeh plot? Explain with an example.\n",
    "## Glyphs in Bokeh refer to the basic visual building blocks that can be added to a plot to represent data, such as lines, circles, rectangles, and text. Each glyph corresponds to a specific glyph method in Bokeh, and can be customized with a variety of properties, such as color, size, and alpha."
   ]
  },
  {
   "cell_type": "code",
   "execution_count": 2,
   "id": "f30d9be5-3ee5-4ff0-a909-784393f789d0",
   "metadata": {},
   "outputs": [],
   "source": [
    "# how to add glyphs to a Bokeh plot using the circle method:\n",
    "from bokeh.plotting import figure, output_file, show\n",
    "\n",
    "# create some data\n",
    "x = [1, 2, 3, 4, 5]\n",
    "y = [6, 7, 2, 4, 5]\n",
    "\n",
    "# output to static HTML file\n",
    "output_file(\"glyphs.html\")\n",
    "\n",
    "# create a new plot with a title and axis labels\n",
    "p = figure(title=\"Glyphs Example\", x_axis_label='x', y_axis_label='y')\n",
    "\n",
    "# add a circle renderer with legend and color\n",
    "p.circle(x, y, legend_label=\"Circle\", color='red', size=10, alpha=0.5)\n",
    "\n",
    "# show the results\n",
    "show(p)\n"
   ]
  },
  {
   "cell_type": "markdown",
   "id": "adea68c0-cdea-402f-af28-ba6dadab5ec7",
   "metadata": {},
   "source": [
    "# Q3. How can you customize the appearance of a Bokeh plot, including the axes, title, and legend?\n",
    "# Bokeh provides several ways to customize the appearance of a plot, including its axes, title, and legend.\n",
    "\n",
    "+ Axes customization\n",
    "You can customize the appearance of the x and y axes using the 'xaxis' and 'yaxis' attributes of the 'figure()' object. For example, you can change the axis label font size using the 'axis_label_text_font_size' property, like this:"
   ]
  },
  {
   "cell_type": "code",
   "execution_count": 3,
   "id": "8d74a196-275d-4563-aa34-6359272e7817",
   "metadata": {},
   "outputs": [],
   "source": [
    "# you can change the axis label font size using the 'axis_label_text_font_size' property, like this:\n",
    "p.xaxis.axis_label = \"X Label\"\n",
    "p.xaxis.axis_label_text_font_size = \"14pt\"\n",
    "\n",
    "p.yaxis.axis_label = \"Y Label\"\n",
    "p.yaxis.axis_label_text_font_size = \"14pt\"\n"
   ]
  },
  {
   "cell_type": "markdown",
   "id": "4b25168b-ef32-406a-90ff-2de61a53825f",
   "metadata": {},
   "source": [
    "# Title customization\n",
    "You can customize the title of a plot using the 'title' attribute of the 'figure()' object. For example, you can change the title font size using the 'text_font_size' property, like this:"
   ]
  },
  {
   "cell_type": "code",
   "execution_count": 4,
   "id": "b6f69755-abe6-49ef-bea3-ced3200f98b2",
   "metadata": {},
   "outputs": [],
   "source": [
    "p.title.text = \"Plot Title\"\n",
    "p.title.text_font_size = \"16pt\"\n"
   ]
  },
  {
   "cell_type": "markdown",
   "id": "5d98893f-2ade-4fc8-b6bc-669d86a5da39",
   "metadata": {},
   "source": [
    "# Legend customization\n",
    "You can customize the legend of a plot using the 'legend' attribute of each glyph method. For example, you can change the legend label font size using the 'label_text_font_size' property, like this:"
   ]
  },
  {
   "cell_type": "code",
   "execution_count": null,
   "id": "96220b73-9cff-4baa-b638-d3ecbf3f024e",
   "metadata": {},
   "outputs": [],
   "source": [
    "p.circle(x, y, legend_label=\"Circle\", color='red', size=10, alpha=0.5, \n",
    "         legend_label_text_font_size=\"12pt\")\n"
   ]
  },
  {
   "cell_type": "code",
   "execution_count": null,
   "id": "c37bd5bb-6428-430f-9f1e-9269c199cb9c",
   "metadata": {},
   "outputs": [],
   "source": [
    "# You can also position the legend using the 'location' property, like this:\n",
    "\n",
    "p.legend.location = \"top_right\"\n"
   ]
  },
  {
   "cell_type": "markdown",
   "id": "f350b501-a11f-48fb-b661-cc2794a391fc",
   "metadata": {},
   "source": [
    "+ These are just a few examples of the many ways you can customize the appearance of a Bokeh plot. For more information, check out the Bokeh documentation on Styling Visual Attributes."
   ]
  },
  {
   "cell_type": "markdown",
   "id": "1da8bb8f-5294-4a33-9a93-a3580fdeb3c5",
   "metadata": {},
   "source": [
    "# Q4. What is a Bokeh server, and how can you use it to create interactive plots that can be updated in real time?\n",
    "+ A Bokeh server is a way to create and serve interactive Bokeh plots using Python, and allows for real-time updates and interactions with the plot. The Bokeh server provides a web-based user interface that runs on a server and communicates with the Python backend to update the plot in response to user actions, such as clicking on a button or dragging a slider."
   ]
  },
  {
   "cell_type": "code",
   "execution_count": null,
   "id": "1f8aa5d8-db4d-4bc5-97d0-755d51225853",
   "metadata": {},
   "outputs": [],
   "source": [
    "# how to use the Bokeh server to create an interactive plot that updates in real time:\n",
    "\n",
    "\n",
    "from bokeh.io import curdoc\n",
    "from bokeh.models import ColumnDataSource\n",
    "from bokeh.plotting import figure\n",
    "from bokeh.layouts import column, row\n",
    "from random import random\n",
    "\n",
    "# create some data\n",
    "x = [0]\n",
    "y = [random()]\n",
    "\n",
    "# create a ColumnDataSource object\n",
    "source = ColumnDataSource(data=dict(x=x, y=y))\n",
    "\n",
    "# create a plot with a line renderer\n",
    "p = figure(plot_height=300, plot_width=600, y_range=(0, 1), title='Real-time Plot')\n",
    "p.line(x='x', y='y', source=source)\n",
    "\n",
    "# define a callback function to update the plot\n",
    "def update():\n",
    "    new_data = dict(x=[source.data['x'][-1]+1], y=[random()])\n",
    "    source.stream(new_data, rollover=100)\n",
    "\n",
    "# create a button to update the plot\n",
    "button = Button(label='Update')\n",
    "button.on_click(update)\n",
    "\n",
    "# add the plot and button to a layout\n",
    "layout = column(row(p), row(button))\n",
    "\n",
    "# add the layout to the document\n",
    "curdoc().add_root(layout)\n",
    "\n"
   ]
  },
  {
   "cell_type": "markdown",
   "id": "4d6d6e0e-c568-4914-af3f-b90e0b7da543",
   "metadata": {},
   "source": [
    "# Q5. How can you embed a Bokeh plot into a web page or dashboard using Flask or Django?\n",
    "\n",
    "# Bokeh provides several ways to embed plots into web pages or dashboards built using Flask or Django. \n",
    "\n",
    "# Flask\n",
    "+ To embed a Bokeh plot into a Flask web page, you can use the 'bokeh.embed.components()' function to \n",
    "# generate the JavaScript and HTML code needed to display the plot. Here's an example \n",
    "# Flask route that creates a simple Bokeh plot and embeds it into a Flask template:\n",
    "\n",
    "\n",
    "from flask import Flask, render_template\n",
    "from bokeh.plotting import figure, output_file, show\n",
    "from bokeh.embed import components\n",
    "\n",
    "app = Flask(__name__)\n",
    "\n",
    "@app.route('/')\n",
    "def index():\n",
    "    # create a Bokeh plot\n",
    "    plot = figure()\n",
    "    plot.line([1, 2, 3], [4, 5, 6])\n",
    "\n",
    "    # generate the plot components\n",
    "    script, div = components(plot)\n",
    "\n",
    "    # render the template with the plot components\n",
    "    return render_template('index.html', script=script, div=div)\n",
    "\n",
    "if __name__ == '__main__':\n",
    "    app.run(debug=True)\n"
   ]
  },
  {
   "cell_type": "markdown",
   "id": "b6f1ffad-7bf4-4741-8738-5705bb27310f",
   "metadata": {},
   "source": [
    "# In this example, we create a simple Bokeh plot using the 'figure()' method, generate the plot components using the 'components()' method, and then pass the script and div components to the 'render_template()' method to be inserted into a Flask template. We then start the Flask server and navigate to the appropriate URL to see the embedded Bokeh plot."
   ]
  },
  {
   "cell_type": "markdown",
   "id": "c3a0b92a-3d47-4dc1-b527-2edcde0e3c9d",
   "metadata": {},
   "source": [
    "# Django\n",
    "+ To embed a Bokeh plot into a Django web page, you can use the 'bokeh.embed.components()' function in a view function to generate the + + JavaScript and HTML code needed to display the plot, and then pass the components to a Django template using the 'render()' function. Here's + an example Django view function that creates a simple Bokeh plot and embeds it into a Django template:"
   ]
  },
  {
   "cell_type": "code",
   "execution_count": null,
   "id": "f76a5576-8d10-41a6-b668-78db80600a53",
   "metadata": {},
   "outputs": [],
   "source": [
    "\n",
    "from django.shortcuts import render\n",
    "from bokeh.plotting import figure\n",
    "from bokeh.embed import components\n",
    "\n",
    "def index(request):\n",
    "    # create a Bokeh plot\n",
    "    plot = figure()\n",
    "    plot.line([1, 2, 3], [4, 5, 6])\n",
    "\n",
    "    # generate the plot components\n",
    "    script, div = components(plot)\n",
    "\n",
    "    # render the template with the plot components\n",
    "    return render(request, 'index.html', {'script': script, 'div': div})\n"
   ]
  },
  {
   "cell_type": "markdown",
   "id": "3d4d9724-6166-4e35-bada-999a1eae4e26",
   "metadata": {},
   "source": [
    "# In this example, we create a simple Bokeh plot using the 'figure()' method, generate the plot components using the 'components()' method, and then pass the script and div components to the 'render()' function to be inserted into a Django template. We then define a URL pattern that maps to this view function and navigate to the appropriate URL to see the embedded Bokeh plot.\n",
    "\n",
    "+ These are just a few examples of how to embed Bokeh plots into web pages or dashboards built using Flask or Django. Bokeh provides detailed documentation on Embedding Bokeh content in web pages that covers many other use cases and options."
   ]
  },
  {
   "cell_type": "code",
   "execution_count": null,
   "id": "f44b6926-410f-462c-8628-de05655396c7",
   "metadata": {},
   "outputs": [],
   "source": []
  }
 ],
 "metadata": {
  "kernelspec": {
   "display_name": "Python 3 (ipykernel)",
   "language": "python",
   "name": "python3"
  },
  "language_info": {
   "codemirror_mode": {
    "name": "ipython",
    "version": 3
   },
   "file_extension": ".py",
   "mimetype": "text/x-python",
   "name": "python",
   "nbconvert_exporter": "python",
   "pygments_lexer": "ipython3",
   "version": "3.10.8"
  }
 },
 "nbformat": 4,
 "nbformat_minor": 5
}
