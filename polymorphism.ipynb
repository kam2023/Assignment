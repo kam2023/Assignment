{
 "cells": [
  {
   "cell_type": "code",
   "execution_count": 1,
   "id": "f245b474-c83f-4d95-a4c8-e409acef69d7",
   "metadata": {},
   "outputs": [],
   "source": [
    "def test(a,b):\n",
    "    return a+b"
   ]
  },
  {
   "cell_type": "code",
   "execution_count": 2,
   "id": "25bb3b19-de1e-48db-8df8-426bb750b4bf",
   "metadata": {},
   "outputs": [
    {
     "data": {
      "text/plain": [
       "9"
      ]
     },
     "execution_count": 2,
     "metadata": {},
     "output_type": "execute_result"
    }
   ],
   "source": [
    "test(4,5)"
   ]
  },
  {
   "cell_type": "code",
   "execution_count": 4,
   "id": "9e0827c3-5f00-4de8-861b-e47f9aaf62e9",
   "metadata": {},
   "outputs": [
    {
     "data": {
      "text/plain": [
       "'sudhkanur'"
      ]
     },
     "execution_count": 4,
     "metadata": {},
     "output_type": "execute_result"
    }
   ],
   "source": [
    "test(\"sudh\" , \"kanur\")"
   ]
  },
  {
   "cell_type": "code",
   "execution_count": 5,
   "id": "98b184b4-c7eb-4d3b-83f5-0da6aa5c071c",
   "metadata": {},
   "outputs": [
    {
     "data": {
      "text/plain": [
       "[2, 3, 4, 5, 5, 4, 5, 6, 7]"
      ]
     },
     "execution_count": 5,
     "metadata": {},
     "output_type": "execute_result"
    }
   ],
   "source": [
    "test([2,3,4,5,5], [4,5,6,7])"
   ]
  },
  {
   "cell_type": "code",
   "execution_count": 17,
   "id": "b320c64b-ad4a-44bb-9e3e-2e6edda7954f",
   "metadata": {},
   "outputs": [],
   "source": [
    "class data_science:\n",
    "    def syllabus(self) :\n",
    "        print(\"this is my method for data science syllabus \" )"
   ]
  },
  {
   "cell_type": "code",
   "execution_count": 18,
   "id": "6b510c5f-2555-48aa-a572-c1d538aeef8e",
   "metadata": {},
   "outputs": [],
   "source": [
    "class web_dev:\n",
    "    def syllabus(self) :\n",
    "        print(\"this my method for web dev \" )"
   ]
  },
  {
   "cell_type": "code",
   "execution_count": 28,
   "id": "c815a902-a900-49ca-93de-009a0209ed75",
   "metadata": {},
   "outputs": [],
   "source": [
    "def class_parcer(class_obj):\n",
    "    for i in class_obj:\n",
    "        i.syllabus() "
   ]
  },
  {
   "cell_type": "code",
   "execution_count": 20,
   "id": "0a3bd61b-d607-4919-ac05-3deaad01e3a7",
   "metadata": {},
   "outputs": [],
   "source": [
    "obj_data_science=data_science()"
   ]
  },
  {
   "cell_type": "code",
   "execution_count": 21,
   "id": "c653d9b3-62a7-4719-b572-40711b5710b9",
   "metadata": {},
   "outputs": [],
   "source": [
    "obj_web_dev=web_dev()"
   ]
  },
  {
   "cell_type": "code",
   "execution_count": 24,
   "id": "e7faaedc-8d69-42a2-a4a4-ac2e69bd3d78",
   "metadata": {},
   "outputs": [],
   "source": [
    "class_ojb=[obj_data_science, obj_web_dev]"
   ]
  },
  {
   "cell_type": "markdown",
   "id": "ce5aac0b-f58f-4a34-a9bd-e0f35afd5c9d",
   "metadata": {},
   "source": [
    "# Encapsulation"
   ]
  },
  {
   "cell_type": "code",
   "execution_count": 1,
   "id": "334ef17c-5765-4a5a-a0d2-542a825dba4c",
   "metadata": {},
   "outputs": [
    {
     "ename": "SyntaxError",
     "evalue": "invalid syntax (2487453327.py, line 2)",
     "output_type": "error",
     "traceback": [
      "\u001b[0;36m  Cell \u001b[0;32mIn[1], line 2\u001b[0;36m\u001b[0m\n\u001b[0;31m    def__init__(self ,a,b):\u001b[0m\n\u001b[0m                          ^\u001b[0m\n\u001b[0;31mSyntaxError\u001b[0m\u001b[0;31m:\u001b[0m invalid syntax\n"
     ]
    }
   ],
   "source": [
    "class test :\n",
    "    def__init__(self ,a,b):\n",
    "        self.a = a\n",
    "        self.b = b"
   ]
  },
  {
   "cell_type": "code",
   "execution_count": 14,
   "id": "2a91d8a7-7e6f-4fc7-86dc-3989d77be25a",
   "metadata": {},
   "outputs": [
    {
     "ename": "NameError",
     "evalue": "name 't' is not defined",
     "output_type": "error",
     "traceback": [
      "\u001b[0;31m---------------------------------------------------------------------------\u001b[0m",
      "\u001b[0;31mNameError\u001b[0m                                 Traceback (most recent call last)",
      "Cell \u001b[0;32mIn[14], line 1\u001b[0m\n\u001b[0;32m----> 1\u001b[0m \u001b[43mt\u001b[49m\u001b[38;5;241m.\u001b[39ma\u001b[38;5;241m=\u001b[39m\u001b[38;5;241m3243\u001b[39m\n",
      "\u001b[0;31mNameError\u001b[0m: name 't' is not defined"
     ]
    }
   ],
   "source": [
    "t.a=3243"
   ]
  },
  {
   "cell_type": "code",
   "execution_count": null,
   "id": "a5bb14c2-d828-42a6-9ab9-1ef2b21ada14",
   "metadata": {},
   "outputs": [],
   "source": []
  }
 ],
 "metadata": {
  "kernelspec": {
   "display_name": "Python 3 (ipykernel)",
   "language": "python",
   "name": "python3"
  },
  "language_info": {
   "codemirror_mode": {
    "name": "ipython",
    "version": 3
   },
   "file_extension": ".py",
   "mimetype": "text/x-python",
   "name": "python",
   "nbconvert_exporter": "python",
   "pygments_lexer": "ipython3",
   "version": "3.10.8"
  }
 },
 "nbformat": 4,
 "nbformat_minor": 5
}
