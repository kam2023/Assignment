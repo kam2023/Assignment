{
 "cells": [
  {
   "cell_type": "code",
   "execution_count": 29,
   "id": "6dbb183e-7a16-428e-84e9-5900bd4c0cca",
   "metadata": {},
   "outputs": [
    {
     "name": "stdout",
     "output_type": "stream",
     "text": [
      "this is my print statement\n"
     ]
    }
   ],
   "source": [
    "print(\"this is my print statement\")"
   ]
  },
  {
   "cell_type": "code",
   "execution_count": 2,
   "id": "bfd750db-f866-4c6f-821b-2eff77a062e1",
   "metadata": {},
   "outputs": [],
   "source": [
    "import logging"
   ]
  },
  {
   "cell_type": "code",
   "execution_count": 31,
   "id": "02a75768-cce0-413a-aa5d-1447e28e8e3c",
   "metadata": {},
   "outputs": [],
   "source": [
    "logging.basicConfig(filename=\"test.log\", level = logging.INFO)"
   ]
  },
  {
   "cell_type": "code",
   "execution_count": 32,
   "id": "b7cc1a65-fef7-4498-8a3b-8a0b9bbc1c20",
   "metadata": {},
   "outputs": [],
   "source": [
    "logging.info(\"this is my line of excution\")"
   ]
  },
  {
   "cell_type": "code",
   "execution_count": 33,
   "id": "4d6ce3b0-f9f6-4ce5-a7e2-f01f1609bde6",
   "metadata": {},
   "outputs": [],
   "source": [
    "logging.error(\"this is my error\")"
   ]
  },
  {
   "cell_type": "code",
   "execution_count": 34,
   "id": "fe3d83fe-f4e0-4e37-b9d1-e55ecd63829d",
   "metadata": {},
   "outputs": [],
   "source": [
    "logging .critical(\"this is my critical\")"
   ]
  },
  {
   "cell_type": "code",
   "execution_count": 35,
   "id": "a93ccc32-9c74-4197-9024-5c3ba8e46204",
   "metadata": {},
   "outputs": [],
   "source": [
    "logging.debug(\"this is my info r\")"
   ]
  },
  {
   "cell_type": "code",
   "execution_count": 36,
   "id": "efb7616e-bb56-4518-a8f0-9fd29d03b9d0",
   "metadata": {},
   "outputs": [
    {
     "ename": "AttributeError",
     "evalue": "module 'logging' has no attribute 'noset'",
     "output_type": "error",
     "traceback": [
      "\u001b[0;31m---------------------------------------------------------------------------\u001b[0m",
      "\u001b[0;31mAttributeError\u001b[0m                            Traceback (most recent call last)",
      "Cell \u001b[0;32mIn[36], line 1\u001b[0m\n\u001b[0;32m----> 1\u001b[0m \u001b[43mlogging\u001b[49m\u001b[38;5;241;43m.\u001b[39;49m\u001b[43mnoset\u001b[49m(\u001b[38;5;124m\"\u001b[39m\u001b[38;5;124mthis is my noset related log\u001b[39m\u001b[38;5;124m\"\u001b[39m)\n",
      "\u001b[0;31mAttributeError\u001b[0m: module 'logging' has no attribute 'noset'"
     ]
    }
   ],
   "source": [
    "logging.noset(\"this is my noset related log\")"
   ]
  },
  {
   "cell_type": "code",
   "execution_count": 37,
   "id": "95349f2b-7174-45d6-8353-6b18fa660aa1",
   "metadata": {},
   "outputs": [],
   "source": [
    "logging.shutdown()"
   ]
  },
  {
   "cell_type": "code",
   "execution_count": null,
   "id": "dd82af52-f430-474b-99c1-4d2e47c9ec40",
   "metadata": {},
   "outputs": [],
   "source": [
    "1. NOSET\n",
    "2. DEBUG\n",
    "3.INFO\n",
    "4.WARNING\n",
    "5. ERROR\n",
    "7. CRITICAL"
   ]
  },
  {
   "cell_type": "code",
   "execution_count": 38,
   "id": "522aec84-37a4-421a-913e-7c90702c766f",
   "metadata": {},
   "outputs": [],
   "source": [
    "logging.basicConfig(filename=\"test.log\", level = logging.DEBUG, format = \"%(asctime)s %(message)s\")"
   ]
  },
  {
   "cell_type": "code",
   "execution_count": 39,
   "id": "331b89a6-3737-4025-bb86-10829f36b6b3",
   "metadata": {},
   "outputs": [],
   "source": [
    "logging.info(\"this is my info log\")"
   ]
  },
  {
   "cell_type": "code",
   "execution_count": 40,
   "id": "4d20da1d-bdf0-443e-a084-7d68ef7a5897",
   "metadata": {},
   "outputs": [],
   "source": [
    "logging.debug(\"this is my debug log\")"
   ]
  },
  {
   "cell_type": "code",
   "execution_count": 41,
   "id": "6fa01019-2032-4f82-9801-fc8c5d43f470",
   "metadata": {},
   "outputs": [],
   "source": [
    "logging.warning(\"this is my warning log\")"
   ]
  },
  {
   "cell_type": "code",
   "execution_count": 42,
   "id": "5da412aa-af6b-485a-89cd-21b3b679f52d",
   "metadata": {},
   "outputs": [],
   "source": [
    "logging.shutdown()"
   ]
  },
  {
   "cell_type": "code",
   "execution_count": 4,
   "id": "4aef394a-bb7f-4368-bbe2-f0facd9f8261",
   "metadata": {},
   "outputs": [],
   "source": [
    "logging.basicConfig(filename=\"test3.log\", level = logging.DEBUG, format =  \"%(asctime)s %(name)s %(lavelname)s %(message)s\"  )"
   ]
  },
  {
   "cell_type": "code",
   "execution_count": 45,
   "id": "d39ae3a9-5557-42ac-b2d4-f870ad0202ef",
   "metadata": {},
   "outputs": [],
   "source": [
    "logging.info(\"this is my info log\")"
   ]
  },
  {
   "cell_type": "code",
   "execution_count": 3,
   "id": "0658574b-9cf5-4a97-8e35-684dab1d2dc3",
   "metadata": {},
   "outputs": [],
   "source": [
    "l = [1,2,3,4, [4,5,6],\"sudh\",\"kumar\"]"
   ]
  },
  {
   "cell_type": "code",
   "execution_count": 5,
   "id": "9ee2a818-6b1e-4ead-b70b-bdc2ed2accbc",
   "metadata": {},
   "outputs": [],
   "source": [
    "# create two seprate list# remember that there are always list inside a list\n",
    "l1_int = []\n",
    "l2_str = []\n",
    "for i in l:\n",
    "    logging.info(\"this is the start of my first for loop {}\".format (l))\n",
    "    logging.info(\"this is the value of i an loggin {}\".format (i))\n",
    "    if type(i) == list:\n",
    "        for j in i:\n",
    "            logging.info(\"logging my j {j} and i is {i}\".format(i=i,j=j))\n",
    "            if type(j) == int:\n",
    "                l1_int.append(j)\n",
    "    elif type(i) == int:\n",
    "        l1_int.append(i)\n",
    "    else:\n",
    "        if type(i) == str:\n",
    "            l2_str.append(i)\n",
    "logging.info(\"this is my final result with all int {l1}, with all str {l2}\".format(l1=l1_int, l2=l2_str))"
   ]
  },
  {
   "cell_type": "code",
   "execution_count": 5,
   "id": "97c2fca0-3503-489e-8d75-45f8a080fcee",
   "metadata": {},
   "outputs": [
    {
     "data": {
      "text/plain": [
       "[1, 2, 3, 4, 4, 5, 6]"
      ]
     },
     "execution_count": 5,
     "metadata": {},
     "output_type": "execute_result"
    }
   ],
   "source": [
    "l1_int"
   ]
  },
  {
   "cell_type": "code",
   "execution_count": 6,
   "id": "698a4fb3-846a-45e3-bb45-8f4259e69d82",
   "metadata": {},
   "outputs": [
    {
     "data": {
      "text/plain": [
       "['sudh', 'kumar']"
      ]
     },
     "execution_count": 6,
     "metadata": {},
     "output_type": "execute_result"
    }
   ],
   "source": [
    "l2_str"
   ]
  },
  {
   "cell_type": "code",
   "execution_count": null,
   "id": "00384fd7-b3f4-46ff-9e05-7e1b48fb44fc",
   "metadata": {},
   "outputs": [],
   "source": []
  }
 ],
 "metadata": {
  "kernelspec": {
   "display_name": "Python 3 (ipykernel)",
   "language": "python",
   "name": "python3"
  },
  "language_info": {
   "codemirror_mode": {
    "name": "ipython",
    "version": 3
   },
   "file_extension": ".py",
   "mimetype": "text/x-python",
   "name": "python",
   "nbconvert_exporter": "python",
   "pygments_lexer": "ipython3",
   "version": "3.10.8"
  }
 },
 "nbformat": 4,
 "nbformat_minor": 5
}
