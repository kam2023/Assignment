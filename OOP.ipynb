{
 "cells": [
  {
   "cell_type": "markdown",
   "id": "0e8ac093-3c4a-4c49-a286-be2a7772cbca",
   "metadata": {},
   "source": [
    "# Oops stand for object oriented programming system"
   ]
  },
  {
   "cell_type": "code",
   "execution_count": 1,
   "id": "b84cd58f-bb1c-4473-9f0e-8580093bd984",
   "metadata": {},
   "outputs": [],
   "source": [
    "a=1"
   ]
  },
  {
   "cell_type": "code",
   "execution_count": 2,
   "id": "8637a1f9-6b13-47bb-8c4f-bab9971c825a",
   "metadata": {},
   "outputs": [
    {
     "name": "stdout",
     "output_type": "stream",
     "text": [
      "<class 'int'>\n"
     ]
    }
   ],
   "source": [
    "print(type(a))"
   ]
  },
  {
   "cell_type": "code",
   "execution_count": 3,
   "id": "e49fad94-16df-4135-9ee3-ad9570010c96",
   "metadata": {},
   "outputs": [
    {
     "name": "stdout",
     "output_type": "stream",
     "text": [
      "<class 'str'>\n"
     ]
    }
   ],
   "source": [
    "print(type(\"pwskills\"))"
   ]
  },
  {
   "cell_type": "code",
   "execution_count": 4,
   "id": "9e462bcf-d547-4ab3-90e3-8143f9c69bd5",
   "metadata": {},
   "outputs": [],
   "source": [
    "class test:\n",
    "    pass"
   ]
  },
  {
   "cell_type": "code",
   "execution_count": 5,
   "id": "1c10d0f3-13ef-45ea-8fe2-66b5c9177e35",
   "metadata": {},
   "outputs": [],
   "source": [
    "a=test()"
   ]
  },
  {
   "cell_type": "code",
   "execution_count": 6,
   "id": "25833fdb-a200-4061-b250-fb75f78f6375",
   "metadata": {},
   "outputs": [
    {
     "name": "stdout",
     "output_type": "stream",
     "text": [
      "<class '__main__.test'>\n"
     ]
    }
   ],
   "source": [
    "print(type(a))"
   ]
  },
  {
   "cell_type": "code",
   "execution_count": 15,
   "id": "615ddbac-8955-4d10-8f16-9101e882a1e5",
   "metadata": {},
   "outputs": [],
   "source": [
    "class pwskills:\n",
    "    def welcome_msg(self):\n",
    "         print(\"welcome to pwskills\")"
   ]
  },
  {
   "cell_type": "code",
   "execution_count": 16,
   "id": "611bd765-f926-46c2-837c-d7b9d82a0717",
   "metadata": {},
   "outputs": [],
   "source": [
    "rohan=pwskills()"
   ]
  },
  {
   "cell_type": "code",
   "execution_count": 17,
   "id": "40824439-5afe-4a98-9fef-e7c100d22861",
   "metadata": {},
   "outputs": [
    {
     "name": "stdout",
     "output_type": "stream",
     "text": [
      "welcome to pwskills\n"
     ]
    }
   ],
   "source": [
    "rohan.welcome_msg() "
   ]
  },
  {
   "cell_type": "code",
   "execution_count": 24,
   "id": "c8364565-b968-4b1f-8060-e65b96b207a4",
   "metadata": {},
   "outputs": [],
   "source": [
    "sohan = pwskills()"
   ]
  },
  {
   "cell_type": "code",
   "execution_count": 25,
   "id": "5cca68d3-1440-4296-8147-24c2e72d47b4",
   "metadata": {},
   "outputs": [
    {
     "name": "stdout",
     "output_type": "stream",
     "text": [
      "welcome to pwskills\n"
     ]
    }
   ],
   "source": [
    "sohan.welcome_msg()"
   ]
  },
  {
   "cell_type": "code",
   "execution_count": 26,
   "id": "644b78bc-3d7d-43bd-854b-124ed764b373",
   "metadata": {},
   "outputs": [],
   "source": [
    "a=1"
   ]
  },
  {
   "cell_type": "code",
   "execution_count": 27,
   "id": "a82f81ea-8f19-4eca-8d51-9ec952f5fc95",
   "metadata": {},
   "outputs": [],
   "source": [
    "b=2"
   ]
  },
  {
   "cell_type": "code",
   "execution_count": 28,
   "id": "e95327ae-92fb-460e-8927-3c704e29dcd5",
   "metadata": {},
   "outputs": [
    {
     "data": {
      "text/plain": [
       "1"
      ]
     },
     "execution_count": 28,
     "metadata": {},
     "output_type": "execute_result"
    }
   ],
   "source": [
    "a"
   ]
  },
  {
   "cell_type": "code",
   "execution_count": 29,
   "id": "261b12b2-b5de-4152-aaed-152be34b8391",
   "metadata": {},
   "outputs": [
    {
     "data": {
      "text/plain": [
       "2"
      ]
     },
     "execution_count": 29,
     "metadata": {},
     "output_type": "execute_result"
    }
   ],
   "source": [
    "b"
   ]
  },
  {
   "cell_type": "code",
   "execution_count": 77,
   "id": "1981ad4b-e13e-40ad-8036-1373e36bd257",
   "metadata": {},
   "outputs": [],
   "source": [
    "# constructor\n",
    "class pwskills1:\n",
    "    def __init__(self, phone_number, email_id, student_id):\n",
    "    \n",
    "    \n",
    "        self.phone_number1=phone_number\n",
    "        self.email_id=email_id\n",
    "        self.student_id=student_id\n",
    "        \n",
    "        \n",
    "    def return_student_details(self):\n",
    "        \n",
    "        return self_phone_number, self.email_id, self.student_id\n",
    "    "
   ]
  },
  {
   "cell_type": "code",
   "execution_count": 78,
   "id": "256f11b5-8a97-4299-ab9d-7d9183ce1954",
   "metadata": {},
   "outputs": [],
   "source": [
    "sohan = pwskills1(55362559, \"sohan@gmail com\" ,102)"
   ]
  },
  {
   "cell_type": "code",
   "execution_count": 112,
   "id": "4970bc99-6ef1-40a9-b6a7-51f8e2790d69",
   "metadata": {},
   "outputs": [
    {
     "data": {
      "text/plain": [
       "55362559"
      ]
     },
     "execution_count": 112,
     "metadata": {},
     "output_type": "execute_result"
    }
   ],
   "source": [
    "sohan.phone_number"
   ]
  },
  {
   "cell_type": "code",
   "execution_count": 84,
   "id": "b06f87ce-25b1-403a-a60d-f3b7e924fa08",
   "metadata": {},
   "outputs": [],
   "source": [
    "# constructor\n",
    "class pwskills2:\n",
    "    def __init__(sudh, phone_number, email_id, student_id):\n",
    "    \n",
    "    \n",
    "        sudh.phone_number1=phone_number\n",
    "        sudh.email_id=email_id\n",
    "        sudh.student_id=student_id\n",
    "        \n",
    "        \n",
    "    def return_student_details(sudh):\n",
    "        \n",
    "        return sudh_phone_number,sudh.email_id, sudh.student_id"
   ]
  },
  {
   "cell_type": "code",
   "execution_count": 91,
   "id": "f4498577-7dcc-44f5-9195-a146fb839bbd",
   "metadata": {},
   "outputs": [],
   "source": [
    "mohan=pwskills2(99968972,\"mohan@gmail.com\",246)"
   ]
  },
  {
   "cell_type": "code",
   "execution_count": 113,
   "id": "ff8cc1c0-4a3b-42ca-a4ae-f288ab2f18bf",
   "metadata": {},
   "outputs": [
    {
     "data": {
      "text/plain": [
       "99968972"
      ]
     },
     "execution_count": 113,
     "metadata": {},
     "output_type": "execute_result"
    }
   ],
   "source": [
    "mohan.phone_number"
   ]
  },
  {
   "cell_type": "code",
   "execution_count": 114,
   "id": "f9032c37-1e73-4914-adcc-27b8ebd61f40",
   "metadata": {},
   "outputs": [
    {
     "ename": "NameError",
     "evalue": "name 'sudh_phone_number' is not defined",
     "output_type": "error",
     "traceback": [
      "\u001b[0;31m---------------------------------------------------------------------------\u001b[0m",
      "\u001b[0;31mNameError\u001b[0m                                 Traceback (most recent call last)",
      "Cell \u001b[0;32mIn[114], line 1\u001b[0m\n\u001b[0;32m----> 1\u001b[0m \u001b[43mmohan\u001b[49m\u001b[38;5;241;43m.\u001b[39;49m\u001b[43mreturn_student_details\u001b[49m\u001b[43m(\u001b[49m\u001b[43m)\u001b[49m\n",
      "Cell \u001b[0;32mIn[84], line 13\u001b[0m, in \u001b[0;36mpwskills2.return_student_details\u001b[0;34m(sudh)\u001b[0m\n\u001b[1;32m     11\u001b[0m \u001b[38;5;28;01mdef\u001b[39;00m \u001b[38;5;21mreturn_student_details\u001b[39m(sudh):\n\u001b[0;32m---> 13\u001b[0m     \u001b[38;5;28;01mreturn\u001b[39;00m \u001b[43msudh_phone_number\u001b[49m,sudh\u001b[38;5;241m.\u001b[39memail_id, sudh\u001b[38;5;241m.\u001b[39mstudent_id\n",
      "\u001b[0;31mNameError\u001b[0m: name 'sudh_phone_number' is not defined"
     ]
    }
   ],
   "source": [
    "mohan.return_student_details()"
   ]
  },
  {
   "cell_type": "code",
   "execution_count": 105,
   "id": "d3561b96-2607-4353-b366-404f38212f04",
   "metadata": {},
   "outputs": [],
   "source": [
    "# constructor\n",
    "class pwskills3:\n",
    "    def __init__(sudh, phone_number, email_id, student_id):\n",
    "    \n",
    "    \n",
    "        sudh.phone_number1=phone_number\n",
    "        sudh.email_id=email_id\n",
    "        sudh.student_id=student_id\n",
    "        \n",
    "        \n",
    "    def return_student_details(sudh):\n",
    "        \n",
    "        return sudh_phone_number,sudh.email_id, sudh.student_id"
   ]
  },
  {
   "cell_type": "code",
   "execution_count": 110,
   "id": "6ee0d1a7-e6e0-4cac-b433-5cd6299a8454",
   "metadata": {},
   "outputs": [],
   "source": [
    "rohan=(55563897,\"mohan@gmail.com\",400)"
   ]
  },
  {
   "cell_type": "code",
   "execution_count": 115,
   "id": "8cdc8ee4-2f22-4503-a409-1cd0e015aa51",
   "metadata": {},
   "outputs": [
    {
     "ename": "AttributeError",
     "evalue": "'tuple' object has no attribute 'phone_number1'",
     "output_type": "error",
     "traceback": [
      "\u001b[0;31m---------------------------------------------------------------------------\u001b[0m",
      "\u001b[0;31mAttributeError\u001b[0m                            Traceback (most recent call last)",
      "Cell \u001b[0;32mIn[115], line 1\u001b[0m\n\u001b[0;32m----> 1\u001b[0m \u001b[43mrohan\u001b[49m\u001b[38;5;241;43m.\u001b[39;49m\u001b[43mphone_number1\u001b[49m\n",
      "\u001b[0;31mAttributeError\u001b[0m: 'tuple' object has no attribute 'phone_number1'"
     ]
    }
   ],
   "source": [
    "rohan.phone_number1"
   ]
  },
  {
   "cell_type": "code",
   "execution_count": null,
   "id": "b7a31f26-85e7-4916-be00-961c67e784ed",
   "metadata": {},
   "outputs": [],
   "source": []
  }
 ],
 "metadata": {
  "kernelspec": {
   "display_name": "Python 3 (ipykernel)",
   "language": "python",
   "name": "python3"
  },
  "language_info": {
   "codemirror_mode": {
    "name": "ipython",
    "version": 3
   },
   "file_extension": ".py",
   "mimetype": "text/x-python",
   "name": "python",
   "nbconvert_exporter": "python",
   "pygments_lexer": "ipython3",
   "version": "3.10.8"
  }
 },
 "nbformat": 4,
 "nbformat_minor": 5
}
