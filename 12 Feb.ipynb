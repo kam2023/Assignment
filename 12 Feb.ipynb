{
 "cells": [
  {
   "cell_type": "markdown",
   "id": "f3b841b8-2566-4923-bd20-e8a38e9cf887",
   "metadata": {},
   "source": [
    "# Q1: What is an Exception in python? Write the difference betweeen Exceptions and syntax errors\n",
    "+ An Exception is an error that happens during the execution of a program. Whenever there is an error, Python generates an exception that could be handled. It basically prevents the program from getting crashed."
   ]
  },
  {
   "cell_type": "markdown",
   "id": "dcdd556b-442c-4e32-a7f6-bee98517d066",
   "metadata": {},
   "source": [
    "# A syntax error occurs when the structure of a program does not conform to the rules of the programming language. Syntax errors are usually detected by the compiler or interpreter when the program is being compiled or executed, and they prevent the program from running. Syntax errors are usually caused by mistakes in the source code, such as typos, omissions, or incorrect use of syntax.\n",
    "\n",
    "## An exception is an abnormal event that occurs during the execution of a program. Exceptions are usually caused by runtime errors, such as dividing by zero, trying to access an element in an array with an out-of-bounds index, or trying to access a file that does not exist. Exceptions are not syntax errors, but they can still prevent the program from running if they are not handled properly.\n",
    "\n",
    "### In many programming languages, exceptions are handled using try-catch blocks. When an exception is thrown, the program will try to execute the code in the catch block, which can handle the exception and allow the program to continue running. If the exception is not caught, the program will terminate.\n",
    "\n",
    "+ To summarize, a syntax error is a mistake in the structure of the program that prevents it from running, while an exception is an abnormal event that occurs during the execution of the program and can be handled to allow the program to continue running."
   ]
  },
  {
   "cell_type": "markdown",
   "id": "c7d89507-d7ed-4a60-828e-f2d0e10962b4",
   "metadata": {},
   "source": [
    "# Q2: what happens when an exception is not handled in python? Give examples\n",
    "\n",
    "+ As you saw in question 1, when syntactically correct code runs into an error, Python will throw an exception error. This exception error will crash the program if it is unhandled. The except clause determines how your program responds to exceptions.\n"
   ]
  },
  {
   "cell_type": "code",
   "execution_count": 1,
   "id": "559ec072-374e-4983-874d-05b9f4be3cd0",
   "metadata": {},
   "outputs": [],
   "source": [
    "# The following function can help you understand the try and except block:\n",
    "\n",
    "def linux_interaction():\n",
    "    assert ('linux' in sys.platform), \"Function can only run on Linux systems.\"\n",
    "    print('Doing something.')\n"
   ]
  },
  {
   "cell_type": "markdown",
   "id": "7533e258-c575-4e20-8351-677a63a37179",
   "metadata": {},
   "source": [
    "# The linux_interaction() can only run on a Linux system. The assert in this function will throw an AssertionError exception if you call it on an operating system other then Linux."
   ]
  },
  {
   "cell_type": "code",
   "execution_count": 2,
   "id": "d1e16438-8459-4e5b-813f-9f0f9bcc8c1c",
   "metadata": {},
   "outputs": [],
   "source": [
    "# You can give the function a try using the following code:\n",
    "try:\n",
    "    linux_interaction()\n",
    "except:\n",
    "    pass"
   ]
  },
  {
   "cell_type": "markdown",
   "id": "f7c822f2-dd0d-4b8f-a573-6f378ff49c67",
   "metadata": {},
   "source": [
    "# Q3: Try with Else Clause\n",
    "+ In python, you can also use the else clause on the try-except block which must be present after all the except clauses. The code enters the else block only if the try clause does not raise an exception."
   ]
  },
  {
   "cell_type": "code",
   "execution_count": 4,
   "id": "172cbd7d-e69a-45bd-8fae-571292d027ab",
   "metadata": {},
   "outputs": [
    {
     "name": "stdout",
     "output_type": "stream",
     "text": [
      "ZeroDivisionError Occurred and Handled\n"
     ]
    }
   ],
   "source": [
    "# Program to handle multiple errors with one\n",
    "# except statement\n",
    "# Python 3\n",
    "\n",
    "def fun(a):\n",
    "\tif a < 4:\n",
    "\n",
    "\t\t# throws ZeroDivisionError for a = 3\n",
    "\t\tb = a/(a-3)\n",
    "\n",
    "\t# throws NameError if a >= 4\n",
    "\tprint(\"Value of b = \", b)\n",
    "\t\n",
    "try:\n",
    "\tfun(3)\n",
    "\tfun(5)\n",
    "\n",
    "# note that braces () are necessary here for\n",
    "# multiple exceptions\n",
    "except ZeroDivisionError:\n",
    "\tprint(\"ZeroDivisionError Occurred and Handled\")\n",
    "except NameError:\n",
    "\tprint(\"NameError Occurred and Handled\")\n"
   ]
  },
  {
   "cell_type": "code",
   "execution_count": 3,
   "id": "1409d493-cf75-4574-b7f4-a0ede6e33e35",
   "metadata": {},
   "outputs": [
    {
     "name": "stdout",
     "output_type": "stream",
     "text": [
      "-5.0\n",
      "a/b result in 0\n"
     ]
    }
   ],
   "source": [
    "# Program to depict else clause with try-except\n",
    "# Python 3\n",
    "# Function which returns a/b\n",
    "def AbyB(a , b):\n",
    "\ttry:\n",
    "\t\tc = ((a+b) / (a-b))\n",
    "\texcept ZeroDivisionError:\n",
    "\t\tprint (\"a/b result in 0\")\n",
    "\telse:\n",
    "\t\tprint (c)\n",
    "\n",
    "# Driver program to test above function\n",
    "AbyB(2.0, 3.0)\n",
    "AbyB(3.0, 3.0)\n"
   ]
  },
  {
   "cell_type": "code",
   "execution_count": 5,
   "id": "b2136198-2a36-4007-ad21-374bc5f9d8da",
   "metadata": {},
   "outputs": [
    {
     "name": "stdout",
     "output_type": "stream",
     "text": [
      "Hello\n",
      "Nothing went wrong\n"
     ]
    }
   ],
   "source": [
    "# Q4: Try Else\n",
    "## You can use the else keyword to define a block of code to be executed if no errors were raised:\n",
    "###  the try block does not generate any error:\n",
    "try:\n",
    "  print(\"Hello\")\n",
    "except:\n",
    " print(\"Something went wrong\")\n",
    "else:\n",
    "  print(\"Nothing went wrong\")"
   ]
  },
  {
   "cell_type": "code",
   "execution_count": 6,
   "id": "c4a30d35-d6be-44cd-a7d7-35cf10bb7914",
   "metadata": {},
   "outputs": [
    {
     "name": "stdout",
     "output_type": "stream",
     "text": [
      "Something went wrong\n",
      "The try...except block is finished\n"
     ]
    }
   ],
   "source": [
    "# Python finally Keyword\n",
    "## The finally block will always be executed, no matter if the try block raises an error or not:\n",
    "try:\n",
    "  x > 3\n",
    "except:\n",
    "  print(\"Something went wrong\")\n",
    "else:\n",
    "  print(\"Nothing went wrong\")\n",
    "finally:\n",
    "  print(\"The try...except block is finished\")"
   ]
  },
  {
   "cell_type": "code",
   "execution_count": 7,
   "id": "2245fa3f-741c-4a23-92fb-8f1ba27a05c1",
   "metadata": {},
   "outputs": [
    {
     "ename": "Exception",
     "evalue": "Sorry, no numbers below zero",
     "output_type": "error",
     "traceback": [
      "\u001b[0;31m---------------------------------------------------------------------------\u001b[0m",
      "\u001b[0;31mException\u001b[0m                                 Traceback (most recent call last)",
      "Cell \u001b[0;32mIn[7], line 6\u001b[0m\n\u001b[1;32m      3\u001b[0m x \u001b[38;5;241m=\u001b[39m \u001b[38;5;241m-\u001b[39m\u001b[38;5;241m1\u001b[39m\n\u001b[1;32m      5\u001b[0m \u001b[38;5;28;01mif\u001b[39;00m x \u001b[38;5;241m<\u001b[39m \u001b[38;5;241m0\u001b[39m:\n\u001b[0;32m----> 6\u001b[0m   \u001b[38;5;28;01mraise\u001b[39;00m \u001b[38;5;167;01mException\u001b[39;00m(\u001b[38;5;124m\"\u001b[39m\u001b[38;5;124mSorry, no numbers below zero\u001b[39m\u001b[38;5;124m\"\u001b[39m)\n",
      "\u001b[0;31mException\u001b[0m: Sorry, no numbers below zero"
     ]
    }
   ],
   "source": [
    "# Python raise Keyword\n",
    "## Raise an error and stop the program if x is lower than 0:\n",
    "x = -1\n",
    "\n",
    "if x < 0:\n",
    "  raise Exception(\"Sorry, no numbers below zero\")"
   ]
  },
  {
   "cell_type": "markdown",
   "id": "f196af9e-4ccf-4ace-baf8-e54315c0e648",
   "metadata": {},
   "source": [
    "# Q5: what are user-defined exceptions in python?\n",
    "+ Python has many built-in exceptions with it, apart from these built-in list python has the capability to provide custom exceptions to the users. These custom exceptions are named as user-defined exceptions. Here the user-defined exceptions can be built defined by using a class declared for it. These customer exceptions are declared specifically to satisfy user necessities. All the user-defined exceptions will be derived from the user class."
   ]
  },
  {
   "cell_type": "code",
   "execution_count": 8,
   "id": "09287614-961b-45d1-809b-58a11ea095ac",
   "metadata": {},
   "outputs": [
    {
     "name": "stdout",
     "output_type": "stream",
     "text": [
      "This is my custom exception\n"
     ]
    }
   ],
   "source": [
    "# Q5: To raise the CustomException, you use the raise statement. For example, the following uses the raise statement to raise the CustomException:\n",
    "class CustomException(Exception):\n",
    "    \"\"\" my custom exception class \"\"\"\n",
    "\n",
    "\n",
    "try:\n",
    "    raise CustomException('This is my custom exception')\n",
    "except CustomException as ex:\n",
    "    print(ex)"
   ]
  },
  {
   "cell_type": "markdown",
   "id": "c69f27f6-112e-4d0c-b849-f11ea6168412",
   "metadata": {},
   "source": [
    "# Like standard exception classes, custom exceptions are also classes. Hence, you can add functionality to the custom exception classes like:\n",
    "+ Adding attributes and properties.\n",
    "+ Adding methods e.g., log the exception, format the output, etc.\n",
    "+ Overriding the __str__ and __repr__ methods\n",
    "+ And doing anything else that you can do with regular classes.\n",
    "\n",
    "## In practice, you’ll want to keep the custom exceptions organized by creating a custom exception hierarchy. The custom exception hierarchy allows you to catch exceptions at multiple levels, like the standard exception classes."
   ]
  },
  {
   "cell_type": "markdown",
   "id": "4e9d397f-2bec-43cf-a95b-aee84e13c203",
   "metadata": {},
   "source": [
    "# Q6: In Python, we can define custom exceptions by creating a new class that is derived from the built-in Exception class."
   ]
  },
  {
   "cell_type": "code",
   "execution_count": 9,
   "id": "682a8d7a-d309-40d2-b4dc-5d5650b03817",
   "metadata": {},
   "outputs": [
    {
     "name": "stdin",
     "output_type": "stream",
     "text": [
      "Enter a number:  15\n"
     ]
    },
    {
     "name": "stdout",
     "output_type": "stream",
     "text": [
      "Exception occurred: Invalid Age\n"
     ]
    }
   ],
   "source": [
    "# Q6: \n",
    "# define Python user-defined exceptions\n",
    "class InvalidAgeException(Exception):\n",
    "    \"Raised when the input value is less than 18\"\n",
    "    pass\n",
    "\n",
    "# you need to guess this number\n",
    "number = 18\n",
    "\n",
    "try:\n",
    "    input_num = int(input(\"Enter a number: \"))\n",
    "    if input_num < number:\n",
    "        raise InvalidAgeException\n",
    "    else:\n",
    "        print(\"Eligible to Vote\")\n",
    "        \n",
    "except InvalidAgeException:\n",
    "    print(\"Exception occurred: Invalid Age\")"
   ]
  },
  {
   "cell_type": "code",
   "execution_count": 11,
   "id": "e19118b0-c52f-497b-8b05-5d3e79549852",
   "metadata": {},
   "outputs": [
    {
     "name": "stdin",
     "output_type": "stream",
     "text": [
      "Enter salary amount:  12000\n"
     ]
    }
   ],
   "source": [
    "class SalaryNotInRangeError(Exception):\n",
    "    \"\"\"Exception raised for errors in the input salary.\n",
    "\n",
    "    Attributes:\n",
    "        salary -- input salary which caused the error\n",
    "        message -- explanation of the error\n",
    "    \"\"\"\n",
    "\n",
    "    def __init__(self, salary, message=\"Salary is not in (5000, 15000) range\"):\n",
    "        self.salary = salary\n",
    "        self.message = message\n",
    "        super().__init__(self.message)\n",
    "\n",
    "\n",
    "salary = int(input(\"Enter salary amount: \"))\n",
    "if not 5000 < salary < 15000:\n",
    "    raise SalaryNotInRangeError(salary)"
   ]
  },
  {
   "cell_type": "markdown",
   "id": "64fe0f4b-24a6-4fe4-bc68-e866251fa48b",
   "metadata": {},
   "source": [
    "# In the above example, we have defined the custom exception InvalidAgeException by creating a new class that is derived from the built-in Exception class.\n",
    "\n",
    " Here, when input_num is smaller than 18, this code generates an exception.\n",
    "\n",
    "When an exception occurs, the rest of the code inside the try block is skipped.\n",
    "\n",
    "The except block catches the user-defined InvalidAgeException exception and statements inside the except block are executed."
   ]
  },
  {
   "cell_type": "code",
   "execution_count": null,
   "id": "fab3a6dc-9c68-44cd-8055-b20b56b892a0",
   "metadata": {},
   "outputs": [],
   "source": []
  }
 ],
 "metadata": {
  "kernelspec": {
   "display_name": "Python 3 (ipykernel)",
   "language": "python",
   "name": "python3"
  },
  "language_info": {
   "codemirror_mode": {
    "name": "ipython",
    "version": 3
   },
   "file_extension": ".py",
   "mimetype": "text/x-python",
   "name": "python",
   "nbconvert_exporter": "python",
   "pygments_lexer": "ipython3",
   "version": "3.10.8"
  }
 },
 "nbformat": 4,
 "nbformat_minor": 5
}
