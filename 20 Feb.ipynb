{
 "cells": [
  {
   "cell_type": "markdown",
   "id": "90cfb5e1-44ed-48f3-8460-d5fed5bb0069",
   "metadata": {},
   "source": [
    "# Q1: Explain GET and POST methods.\n",
    "## GET and POST are two commonly used HTTP methods for communicating with web servers. Here's a brief explanation of both:\n",
    "1. GET Method:\n",
    "GET is used to request a resource from the server. It is a safe and idempotent method, which means that it does not modify any resources on the server and produces the same result every time it is used.\n",
    "\n",
    "+ When a client sends a GET request to the server, it includes the requested resource in the URL's query string. For example, a GET request for a web page might look like this:\n",
    "\n",
    "+ GET /mypage.html HTTP/1.1\n",
    "Host: www.example.com\n",
    "\n",
    "+ In the above , the client is requesting the \"mypage.html\" file from the \"www.example.com\" server using the GET method.\n",
    "\n",
    "2. POST Method:\n",
    "\n",
    "POST is used to submit data to the server for processing. Unlike GET, POST can modify resources on the server and is not idempotent, meaning that it may produce different results if it is used multiple times.\n",
    "\n",
    "+ When a client sends a POST request to the server, it includes the data being submitted in the request body. For example, a POST request to submit a form might look like this:\n",
    "\n",
    "+ POST /submitform.php HTTP/1.1\n",
    "Host: www.example.com\n",
    "Content-Type: application/x-www-form-urlencoded\n",
    "\n",
    "username=johndoe&password=letmein\n",
    "\n",
    "In the above , the client is submitting a form with a username and password to the \"submitform.php\" script on the \"www.example.com\" server using the POST method. The data is included in the request body in the \"application/x-www-form-urlencoded\" format.\n",
    "\n",
    "Overall, GET and POST are both important HTTP methods used in web development, with different purposes and behaviors."
   ]
  },
  {
   "cell_type": "markdown",
   "id": "95cd9e2f-0040-4a6b-9b6c-492751f05829",
   "metadata": {},
   "source": [
    "# Q2: Why is request used in Flask?\n",
    "\n",
    "In Flask, the 'request'  object is used to access incoming request data, such as form data, query string parameters, cookies, and more. It is a global object that is available to a Flask application, and it contains information about the current request such as the HTTP method used, the headers, the form data, and any files that were uploaded.\n",
    "\n",
    "Here are some examples of how the 'request' object can be used in Flask:\n",
    "\n",
    "1. Accessing Form Data:\n",
    "When a user submits a form on a webpage, the data from that form is sent to the server using the POST method. In Flask, the form data can be accessed using the 'request.form' attribute, which is a dictionary-like object that contains the form data.\n",
    "\n",
    "2. Query String Parameters:\n",
    "Query string parameters are key-value pairs that are appended to the end of a URL. In Flask, these parameters can be accessed using the 'request.args' attribute, which is also a dictionary-like object.\n",
    "\n",
    "3. Uploading Files:\n",
    "When a user uploads a file on a webpage, the file data is sent to the server using the POST method along with the other form data. In Flask, the uploaded file can be accessed using the 'request.files' attribute, which is a dictionary-like object that contains the uploaded files.\n",
    "\n",
    "+ Overall, the 'request' object is an important part of Flask because it allows developers to access incoming request data and use that data to generate dynamic responses.\n"
   ]
  },
  {
   "cell_type": "markdown",
   "id": "911fcb6d-ab6f-41c3-9dd2-5459f168528d",
   "metadata": {},
   "source": [
    "# Q3: Why is redirect() used in Flask?\n",
    "\n",
    "## In Flask, the 'redirect()' function is used to redirect a user to a different URL. This is often used in web applications when a user needs to be redirected to a different page after submitting a form or performing some other action.\n",
    "\n",
    "+ Here are a few examples of when you might use the 'redirect()' function in Flask:\n",
    "\n",
    "1. After a successful login:\n",
    "When a user logs into a web application, you might want to redirect them to a different page (such as their dashboard or home page) after their login credentials are verified. You can use the 'redirect()' function to send them to the appropriate URL.\n",
    "\n",
    "2. After submitting a form:\n",
    "When a user submits a form on a webpage, you might want to redirect them to a different page (such as a confirmation page) after the form data has been processed. You can use the 'redirect()' function to send them to the appropriate URL.\n",
    "\n",
    "3. After an error:\n",
    "If there is an error during a user's interaction with a web application, you might want to redirect them to an error page with more information. You can use the 'redirect()' function to send them to the appropriate error page.\n",
    "\n",
    "+ Overall, the 'redirect()' function is an important part of Flask because it allows developers to easily redirect users to different pages within a web application."
   ]
  },
  {
   "cell_type": "markdown",
   "id": "1b34ac46-eef9-4abe-9b4b-b80a9dbfbb00",
   "metadata": {},
   "source": [
    "# Q4: What are templates in Flask? Why is the render_template() function used?\n",
    "\n",
    "## In Flask, templates are used to generate dynamic HTML pages that can be returned as responses to client requests. Templates are essentially files that contain a mixture of HTML markup and placeholders for dynamic content. When a Flask application receives a request, it can use a template to dynamically generate an HTML response by filling in the placeholders with data specific to that request.\n",
    "\n",
    "+ The 'render_template()' function in Flask is used to render a template and generate an HTML response. This function takes the name of a template file as its first argument and any additional arguments as keyword arguments. The additional keyword arguments represent the dynamic data that will be used to populate the placeholders in the template."
   ]
  },
  {
   "cell_type": "code",
   "execution_count": null,
   "id": "9814e7b5-7d78-418f-9b46-4b9368737fb0",
   "metadata": {},
   "outputs": [],
   "source": [
    "# Here's an example of how you might use the render_template() function in a Flask application:\n",
    "\n",
    "from flask import Flask, render_template\n",
    "\n",
    "app = Flask(__name__)\n",
    "\n",
    "@app.route('/')\n",
    "def index():\n",
    "    name = 'John'\n",
    "    return render_template('index.html', name=name)\n"
   ]
  },
  {
   "cell_type": "markdown",
   "id": "58088272-fc04-4370-a2e8-c6cd2dee872f",
   "metadata": {},
   "source": [
    "+ In this example, the 'index()' function is mapped to the root URL of the Flask application. When a user navigates to the root URL, the 'index()' function will be called. The function defines a variable 'name' with a value of 'John'. It then uses the 'render_template()' function to render the 'index.html' template and pass in the 'name' variable as a keyword argument."
   ]
  },
  {
   "cell_type": "code",
   "execution_count": null,
   "id": "c84e2512-30ec-4c17-975f-e2e055310ea8",
   "metadata": {},
   "outputs": [],
   "source": [
    "# The 'index.html' template might look something like this:\n",
    "\n",
    "<!DOCTYPE html>\n",
    "<html>\n",
    "  <head>\n",
    "    <title>Hello, {{ name }}!</title>\n",
    "  </head>\n",
    "  <body>\n",
    "    <h1>Hello, {{ name }}!</h1>\n",
    "  </body>\n",
    "</html>\n"
   ]
  },
  {
   "cell_type": "markdown",
   "id": "a5ebfd32-0557-47c2-b10c-53a3ff262651",
   "metadata": {},
   "source": [
    "+ This template contains two placeholders ('{{ name }}') that will be replaced with the value of the 'name' variable when the template is rendered. When a user navigates to the root URL, the Flask application will generate an HTML response by rendering the 'index.html' template with the 'name' variable set to 'John'.\n",
    "\n",
    "+ Overall, templates are an important part of Flask because they allow developers to generate dynamic HTML pages that can be returned as responses to client requests. The 'render_template()' function is used to render templates and generate HTML responses by filling in placeholders with dynamic data."
   ]
  },
  {
   "cell_type": "code",
   "execution_count": null,
   "id": "966a462e-9989-4da8-af24-008b8e1fbec8",
   "metadata": {},
   "outputs": [],
   "source": [
    "# Q5. Create a simple API. Use Postman to test it. Attach the screenshot of the output in the Jupyter Notebook.\n",
    "## Flask API that you can test using Postman:\n",
    "\n",
    "from flask import Flask, jsonify, request\n",
    "\n",
    "app = Flask(__name__)\n",
    "\n",
    "@app.route('/hello', methods=['GET'])\n",
    "def hello():\n",
    "    return jsonify({'message': 'Hello, World!'})\n",
    "\n",
    "@app.route('/add', methods=['POST'])\n",
    "def add():\n",
    "    data = request.get_json()\n",
    "    num1 = data['num1']\n",
    "    num2 = data['num2']\n",
    "    result = num1 + num2\n",
    "    return jsonify({'result': result})\n",
    "\n",
    "if __name__ == '__main__':\n",
    "    app.run(debug=True)\n",
    "\n"
   ]
  },
  {
   "cell_type": "markdown",
   "id": "8750a4bc-770d-4f79-a6b5-35f356541d55",
   "metadata": {},
   "source": [
    "# This API has two endpoints:\n",
    "\n",
    "1 '/hello': This endpoint responds to a GET request with a simple \"Hello, World!\" message.\n",
    "2 '/add': This endpoint responds to a POST request with the sum of two numbers. The numbers are sent in the request body as a JSON object with keys \"num1\" and \"num2\".\n",
    "\n",
    "## To test this API using Postman, you can follow these steps:\n",
    "\n",
    "1. Open Postman and create a new request.\n",
    "2. Set the request method to GET and enter the URL' http://localhost:5000/hello'.\n",
    "3. Click the \"Send\" button to send the request. You should receive a JSON response with the message \"Hello, World!\".\n",
    "4. Create a new request and set the request method to POST.\n",
    "5. Enter the URL 'http://localhost:5000/add.\n",
    "6. Select the \"Body\" tab and choose \"raw\" format. Set the request body to a JSON object with keys \"num1\" and \"num2\". For example:\n"
   ]
  },
  {
   "cell_type": "code",
   "execution_count": 1,
   "id": "8d420dd3-ddc8-40e1-b5ed-5b3bdb859636",
   "metadata": {},
   "outputs": [
    {
     "data": {
      "text/plain": [
       "{'num1': 10, 'num2': 5}"
      ]
     },
     "execution_count": 1,
     "metadata": {},
     "output_type": "execute_result"
    }
   ],
   "source": [
    "{\n",
    "  \"num1\": 10,\n",
    "  \"num2\": 5\n",
    "}\n"
   ]
  },
  {
   "cell_type": "markdown",
   "id": "482c8a88-6622-4124-a36b-aec2bd77b77e",
   "metadata": {},
   "source": [
    "7. Click the \"Send\" button to send the request. You should receive a JSON response with the sum of the two numbers.\n",
    "\n",
    "That's it! You have now created a simple Flask API and tested it using Postman."
   ]
  },
  {
   "cell_type": "code",
   "execution_count": null,
   "id": "36051829-f7a5-4c90-b695-4e2c51d94270",
   "metadata": {},
   "outputs": [],
   "source": []
  }
 ],
 "metadata": {
  "kernelspec": {
   "display_name": "Python 3 (ipykernel)",
   "language": "python",
   "name": "python3"
  },
  "language_info": {
   "codemirror_mode": {
    "name": "ipython",
    "version": 3
   },
   "file_extension": ".py",
   "mimetype": "text/x-python",
   "name": "python",
   "nbconvert_exporter": "python",
   "pygments_lexer": "ipython3",
   "version": "3.10.8"
  }
 },
 "nbformat": 4,
 "nbformat_minor": 5
}
