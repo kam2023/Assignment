{
 "cells": [
  {
   "cell_type": "markdown",
   "id": "cc486b35-33ab-43a0-b75a-99884264bb86",
   "metadata": {},
   "source": [
    "#  tuples implement all of the common sequence operations, such as below in question 1: the sorting is done based on the integer value using lambda function\n",
    "\n",
    " - x in s - check if x is equal to any elements in s\n",
    " \n",
    "-  x not in s  - check if x is not equal to any elements in s\n",
    " \n",
    " - s + t - return the concatenation of s and t\n",
    " \n",
    " - s[i] - simple indexing, returns the i-th element of the tuple\n",
    " \n",
    " - s[i:j] , s[i:j:k] - slicing\n",
    " \n",
    " - len(s) - number of elements in s\n",
    " \n",
    " - min(s) , max(s) - the smallest/the largest value in s\n",
    " \n",
    "# Please check the below function for proper evaluation in especially question 1: Your comment is highly needed"
   ]
  },
  {
   "cell_type": "code",
   "execution_count": 1,
   "id": "ceaa8d27-6cf6-42df-9bde-9c639bae4fb8",
   "metadata": {},
   "outputs": [
    {
     "name": "stdout",
     "output_type": "stream",
     "text": [
      "[('Virat Kohli', 24936), ('Jack Kallis', 25534), ('Ricky Ponting', 27483), ('Sachin Tendulkar', 34357)]\n"
     ]
    }
   ],
   "source": [
    "# Q1: 04.Feb.2023 \n",
    "lst = [('Sachin Tendulkar', 34357), ('Ricky Ponting', 27483), ('Jack Kallis', 25534), ('Virat Kohli', 24936)]\n",
    "\n",
    "# Sort the list based on the integer value using a lambda function\n",
    "sorted_lst = sorted(lst, key=lambda x: x[1])\n",
    "\n",
    "# Print the sorted list\n",
    "print(sorted_lst)\n"
   ]
  },
  {
   "cell_type": "code",
   "execution_count": 2,
   "id": "64a756c0-7d17-4c4d-a8ae-b276ee999bc5",
   "metadata": {},
   "outputs": [
    {
     "name": "stdout",
     "output_type": "stream",
     "text": [
      "[1, 4, 9, 16, 25, 36, 49, 64, 81, 100]\n"
     ]
    }
   ],
   "source": [
    "#Q2:\n",
    "numbers = [1, 2, 3, 4, 5, 6, 7, 8, 9, 10]\n",
    "\n",
    "squares = list(map(lambda x: x**2, numbers))\n",
    "\n",
    "print(squares)\n"
   ]
  },
  {
   "cell_type": "code",
   "execution_count": 3,
   "id": "f3c6dbf7-b7b4-43c2-9b7f-25f65cf5c6c6",
   "metadata": {},
   "outputs": [
    {
     "name": "stdout",
     "output_type": "stream",
     "text": [
      "('1', '2', '3', '4', '5', '6', '7', '8', '9', '10')\n"
     ]
    }
   ],
   "source": [
    "#Q3:\n",
    "numbers = [1, 2, 3, 4, 5, 6, 7, 8, 9, 10]\n",
    "\n",
    "string_tuple = tuple(map(lambda x: str(x), numbers))\n",
    "\n",
    "print(string_tuple)\n"
   ]
  },
  {
   "cell_type": "code",
   "execution_count": 4,
   "id": "a5305e8f-c475-4626-9389-f52a33bde496",
   "metadata": {},
   "outputs": [
    {
     "name": "stdout",
     "output_type": "stream",
     "text": [
      "15511210043330985984000000\n"
     ]
    }
   ],
   "source": [
    "#Q4: reduce function to complete the product of a list containing numbers from 1 to 25\n",
    "from functools import reduce\n",
    "\n",
    "numbers = range(1, 26)\n",
    "\n",
    "product = reduce(lambda x, y: x*y, numbers)\n",
    "\n",
    "print(product)\n"
   ]
  },
  {
   "cell_type": "code",
   "execution_count": 1,
   "id": "f89bc84e-6eed-4455-a34b-9ddbd5879147",
   "metadata": {},
   "outputs": [
    {
     "name": "stdout",
     "output_type": "stream",
     "text": [
      "[6, 60, 90, 120]\n"
     ]
    }
   ],
   "source": [
    "#Q5:\n",
    "numbers = [2, 3, 6, 9, 27, 60, 90, 120, 55, 46]\n",
    "\n",
    "filtered_numbers = list(filter(lambda x: x % 2 == 0 and x % 3 == 0, numbers))\n",
    "\n",
    "print(filtered_numbers)\n",
    "\n"
   ]
  },
  {
   "cell_type": "markdown",
   "id": "ec7db0ed-543d-4c60-bc86-f5daa1b2e776",
   "metadata": {},
   "source": [
    "# A palindrome is nothing but any number or a string which remains unaltered when reversed."
   ]
  },
  {
   "cell_type": "code",
   "execution_count": 1,
   "id": "c00f4745-299b-4a29-9465-b5fbd47d29cb",
   "metadata": {},
   "outputs": [
    {
     "name": "stdout",
     "output_type": "stream",
     "text": [
      "original list of strings \n",
      "['python', 'php', 'aba', 'radar', 'level']\n",
      "\n",
      "List of palindromes:\n",
      "['php', 'aba', 'radar', 'level']\n"
     ]
    }
   ],
   "source": [
    "#Q6:Palindrome\n",
    "texts= [\"python\",\"php\",\"aba\",\"radar\",\"level\"]\n",
    "print(\"original list of strings \")\n",
    "print(texts)\n",
    "result = list(filter(lambda x: (x == \"\".join(reversed(x))), texts))\n",
    "print(\"\\nList of palindromes:\")\n",
    "print(result) "
   ]
  },
  {
   "cell_type": "code",
   "execution_count": null,
   "id": "ddc07231-6d42-4189-b665-e32e9a726db1",
   "metadata": {},
   "outputs": [],
   "source": []
  },
  {
   "cell_type": "code",
   "execution_count": null,
   "id": "89fc9a7a-8114-42f4-949e-8759ba51f02b",
   "metadata": {},
   "outputs": [],
   "source": []
  }
 ],
 "metadata": {
  "kernelspec": {
   "display_name": "Python 3 (ipykernel)",
   "language": "python",
   "name": "python3"
  },
  "language_info": {
   "codemirror_mode": {
    "name": "ipython",
    "version": 3
   },
   "file_extension": ".py",
   "mimetype": "text/x-python",
   "name": "python",
   "nbconvert_exporter": "python",
   "pygments_lexer": "ipython3",
   "version": "3.10.8"
  }
 },
 "nbformat": 4,
 "nbformat_minor": 5
}
