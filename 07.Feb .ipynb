{
 "cells": [
  {
   "cell_type": "code",
   "execution_count": 4,
   "id": "a408811a-b293-48d6-bc13-ae6420f7b74c",
   "metadata": {},
   "outputs": [],
   "source": [
    "import re\n",
    "\n",
    "def check_password(password):\n",
    "    # Check if the password meets all the guidelines\n",
    "    if len(password) != 10:\n",
    "        return \"invalid password\"\n",
    "    \n",
    "    if not re.search(r'[A-Z].*[A-Z]', password) or not re.search(r'[a-z].*[a-z]', password):\n",
    "        return \"invalid password\"\n",
    "    \n",
    "    if not re.search(r'\\d', password) or len(re.findall(r'[!@#$%^&*(),.?\":{}|<>]', password)) <3:\n",
    "        return \"invalid password\"\n",
    "    \n",
    "    return \"valid password\"\n"
   ]
  },
  {
   "cell_type": "code",
   "execution_count": 5,
   "id": "1b5ce633-2b19-4e3c-bff5-14da46b9202b",
   "metadata": {},
   "outputs": [
    {
     "name": "stdout",
     "output_type": "stream",
     "text": [
      "invalid password\n"
     ]
    }
   ],
   "source": [
    "password = \"MyPassword!!!!\"\n",
    "result = check_password(password)\n",
    "print(result) # Output: \"invalid password\" \n"
   ]
  },
  {
   "cell_type": "code",
   "execution_count": 11,
   "id": "bb37f03e-0f66-4a68-8979-1baaa38eaaca",
   "metadata": {},
   "outputs": [],
   "source": [
    "def check_password(password):\n",
    "    # Define the password guidelines\n",
    "    length = 10  # password should be at least 10 characters long\n",
    "    has_uppercase = False  # password should contain at least two uppercase letter\n",
    "    has_lowercase = False  # password should contain at least two lowercase letter\n",
    "    has_digit = False  # password should contain at least one digit\n",
    "    has_special = False  # password should contain at least one special character\n",
    "\n",
    "    # Check each character in the password\n",
    "    for char in password:\n",
    "        if char.isupper():\n",
    "            has_uppercase = True\n",
    "        elif char.islower():\n",
    "            has_lowercase = True\n",
    "        elif char.isdigit():\n",
    "            has_digit = True\n",
    "        else:\n",
    "            has_special = True\n",
    "\n",
    "    # Check if the password meets all the guidelines\n",
    "    if len(password) >= length and has_uppercase and has_lowercase and has_digit and has_special:\n",
    "        return \"valid password\"\n",
    "    else:\n",
    "        return \"invalid password\"\n"
   ]
  },
  {
   "cell_type": "code",
   "execution_count": 12,
   "id": "a1c7ea8d-2e1b-4002-94ac-e50a2e258015",
   "metadata": {},
   "outputs": [
    {
     "name": "stdout",
     "output_type": "stream",
     "text": [
      "valid password\n"
     ]
    }
   ],
   "source": [
    "password = \"MyPassword123$\"\n",
    "result = check_password(password)\n",
    "print(result)  # Output: \"valid password\"\n"
   ]
  },
  {
   "cell_type": "code",
   "execution_count": 6,
   "id": "9619cd1f-5059-4282-a947-9c06c798c2b0",
   "metadata": {},
   "outputs": [
    {
     "name": "stdout",
     "output_type": "stream",
     "text": [
      "True\n"
     ]
    }
   ],
   "source": [
    "# Q2: Lambda function Check if the string starts with a particular letter\n",
    "\n",
    "starts_with_letter = lambda string, letter: string.startswith(letter)\n",
    "\n",
    "# Example usage\n",
    "string = \"Hello, world!\"\n",
    "letter = \"H\"\n",
    "result = starts_with_letter(string, letter)\n",
    "print(result)  # Output: True\n"
   ]
  },
  {
   "cell_type": "code",
   "execution_count": 7,
   "id": "27f66964-c2a5-4511-8fae-8b6b4bf8339c",
   "metadata": {},
   "outputs": [
    {
     "name": "stdout",
     "output_type": "stream",
     "text": [
      "True\n"
     ]
    }
   ],
   "source": [
    "string = \"Hello, world!\"\n",
    "letter = \"H\"\n",
    "result = starts_with_letter(string, letter)\n",
    "print(result)  # Output: True\n"
   ]
  },
  {
   "cell_type": "code",
   "execution_count": 8,
   "id": "c7106f18-7389-4685-9849-2ddfa70910d1",
   "metadata": {},
   "outputs": [
    {
     "name": "stdout",
     "output_type": "stream",
     "text": [
      "False\n"
     ]
    }
   ],
   "source": [
    "string = \"Hello, world!\"\n",
    "letter = \"W\"\n",
    "result = starts_with_letter(string, letter)\n",
    "print(result)  # Output: False\n"
   ]
  },
  {
   "cell_type": "code",
   "execution_count": 9,
   "id": "3feeaa88-c13e-406a-aed4-281fdcc40653",
   "metadata": {},
   "outputs": [
    {
     "name": "stdout",
     "output_type": "stream",
     "text": [
      "['123', '3.14', '-42']\n"
     ]
    }
   ],
   "source": [
    "# Filter function check if the string is numeric\n",
    "def is_numeric(string):\n",
    "    try:\n",
    "        float(string)\n",
    "        return True\n",
    "    except ValueError:\n",
    "        return False\n",
    "\n",
    "# Example usage\n",
    "strings = [\"123\", \"3.14\", \"-42\", \"not numeric\", \"10,000\"]\n",
    "numeric_strings = list(filter(is_numeric, strings))\n",
    "print(numeric_strings)  # Output: ['123', '3.14', '-42']\n"
   ]
  },
  {
   "cell_type": "code",
   "execution_count": 1,
   "id": "d861e030-90b4-4eaa-9a00-cd1618811c01",
   "metadata": {},
   "outputs": [
    {
     "name": "stdout",
     "output_type": "stream",
     "text": [
      "[('orange', 80), ('mango', 99), ('grapes', 1000)]\n"
     ]
    }
   ],
   "source": [
    "# Filter function sort a list of tuples having fruit names and their quantity. [(\"mango\",99),(\"orange\",80), (\"grapes\", 1000)-\n",
    "fruits = [(\"mango\", 99), (\"orange\", 80), (\"grapes\", 1000)]\n",
    "\n",
    "# Define a lambda function to get the quantity from a fruit tuple\n",
    "get_quantity = lambda fruit: fruit[1]\n",
    "\n",
    "# Use the filter function to sort the list of fruits by quantity\n",
    "sorted_fruits = list(filter(lambda fruit: True, sorted(fruits, key=get_quantity)))\n",
    "\n",
    "# Print the sorted list of fruits\n",
    "print(sorted_fruits)  # Output: [('orange', 80), ('mango', 99), ('grapes', 1000)]\n"
   ]
  },
  {
   "cell_type": "code",
   "execution_count": 2,
   "id": "0c970022-da54-46bf-af07-7a359f4b4a4a",
   "metadata": {},
   "outputs": [
    {
     "name": "stdout",
     "output_type": "stream",
     "text": [
      "[1, 4, 9, 16, 25, 36, 49, 64, 81, 100]\n"
     ]
    }
   ],
   "source": [
    "# Lambda function Find the squares of numbers from 1 to 10\n",
    "squares = list(map(lambda x: x**2, range(1,11)))\n",
    "print(squares)\n"
   ]
  },
  {
   "cell_type": "code",
   "execution_count": 3,
   "id": "42f59562-7c4b-4aeb-873a-3583bdd82c90",
   "metadata": {},
   "outputs": [
    {
     "name": "stdout",
     "output_type": "stream",
     "text": [
      "[1.0, 1.2599210498948732, 1.4422495703074083, 1.5874010519681994, 1.7099759466766968, 1.8171205928321397, 1.912931182772389, 2.0, 2.080083823051904, 2.154434690031884]\n"
     ]
    }
   ],
   "source": [
    "# Lambda function Find the cube root of numbers from 1 to 10\n",
    "import math\n",
    "\n",
    "cube_roots = list(map(lambda x: math.pow(x, 1/3), range(1, 11)))\n",
    "print(cube_roots)\n"
   ]
  },
  {
   "cell_type": "code",
   "execution_count": 4,
   "id": "ffa6c262-9bb4-4256-909a-b2ea73c23e8b",
   "metadata": {},
   "outputs": [
    {
     "name": "stdout",
     "output_type": "stream",
     "text": [
      "[2, 4, 6, 8, 10]\n"
     ]
    }
   ],
   "source": [
    "#Filter function Check if a given number is even\n",
    "numbers = [1, 2, 3, 4, 5, 6, 7, 8, 9, 10]\n",
    "\n",
    "even_numbers = list(filter(lambda x: x % 2 == 0, numbers))\n",
    "print(even_numbers)\n"
   ]
  },
  {
   "cell_type": "code",
   "execution_count": 5,
   "id": "dd41f1d7-0de8-4d99-ab19-fa3d216709d7",
   "metadata": {},
   "outputs": [
    {
     "name": "stdout",
     "output_type": "stream",
     "text": [
      "[1, 3, 5, 7, 9]\n"
     ]
    }
   ],
   "source": [
    "#Filter odd numbers from the given list\n",
    "numbers = [1, 2, 3, 4, 5, 6, 7, 8, 9, 10]\n",
    "\n",
    "odd_numbers = list(filter(lambda x: x % 2 != 0, numbers))\n",
    "print(odd_numbers)\n"
   ]
  },
  {
   "cell_type": "code",
   "execution_count": 6,
   "id": "a0890594-87cc-4de0-831d-868ebc270c16",
   "metadata": {},
   "outputs": [
    {
     "name": "stdout",
     "output_type": "stream",
     "text": [
      "Positive Numbers: [1, 2, 3, 4, 5, 6]\n",
      "Negative Numbers: [-1, -2, -3, -4, -5]\n"
     ]
    }
   ],
   "source": [
    "#Sort a list of integers into positive and negative integers lists\n",
    "numbers = [1, 2, 3, 4, 5, 6, -1, -2, -3, -4, -5, 0]\n",
    "\n",
    "positive_numbers = []\n",
    "negative_numbers = []\n",
    "\n",
    "for num in numbers:\n",
    "    if num > 0:\n",
    "        positive_numbers.append(num)\n",
    "    elif num < 0:\n",
    "        negative_numbers.append(num)\n",
    "\n",
    "print(\"Positive Numbers:\", positive_numbers)\n",
    "print(\"Negative Numbers:\", negative_numbers)\n"
   ]
  },
  {
   "cell_type": "code",
   "execution_count": null,
   "id": "bea12324-f3c4-4995-873f-ea5b082679df",
   "metadata": {},
   "outputs": [],
   "source": []
  }
 ],
 "metadata": {
  "kernelspec": {
   "display_name": "Python 3 (ipykernel)",
   "language": "python",
   "name": "python3"
  },
  "language_info": {
   "codemirror_mode": {
    "name": "ipython",
    "version": 3
   },
   "file_extension": ".py",
   "mimetype": "text/x-python",
   "name": "python",
   "nbconvert_exporter": "python",
   "pygments_lexer": "ipython3",
   "version": "3.10.8"
  }
 },
 "nbformat": 4,
 "nbformat_minor": 5
}
