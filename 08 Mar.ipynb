{
 "cells": [
  {
   "cell_type": "markdown",
   "id": "9216db6b-8b9c-4020-a7f3-c8e3480e2631",
   "metadata": {},
   "source": [
    "# Q1. What is the Probability density function?\n",
    "\n",
    "+ The Probability Density Function (PDF) is a mathematical function that describes the relative likelihood or probability of observing a certain value or range of values for a continuous random variable. It represents the continuous counterpart of the Probability Mass Function (PMF), which is used for discrete random variables.\n",
    "\n",
    "+ The PDF is typically denoted by the symbol f(x) and is defined as the derivative of the cumulative distribution function (CDF) F(x) with respect to x, that is:\n",
    "\n",
    "f(x) = d/dx(F(x))\n",
    "\n",
    "+ The PDF is non-negative, that is f(x) >= 0 for all x, and the total area under the PDF curve is equal to 1, that is:\n",
    "\n",
    "∫f(x) dx = 1\n",
    "\n",
    "+ This means that the probability of observing any value within the range of the random variable is equal to the area under the PDF curve over that range.\n",
    "\n",
    "+ The PDF is an important tool in statistics and probability theory, as it allows us to compute the probability of a continuous random variable taking on a specific value or range of values, and to calculate various statistical measures such as the mean, variance, and higher moments of the random variable."
   ]
  },
  {
   "cell_type": "markdown",
   "id": "8cc6bd6f-2f10-4976-a4b0-ae3c40615cbd",
   "metadata": {},
   "source": [
    "# Q2. What are the types of Probability distribution?\n",
    "\n",
    "## There are many different types of probability distributions, but some of the most common ones are:\n",
    "\n",
    "1. Normal distribution: also known as the Gaussian distribution, it is a bell-shaped curve that is symmetric around its mean. Many natural phenomena follow this distribution, such as height, weight, and IQ.\n",
    "\n",
    "2. Binomial distribution: a discrete probability distribution that describes the number of successes in a fixed number of independent trials, where each trial has only two possible outcomes (e.g. heads or tails in a coin toss).\n",
    "\n",
    "3. Poisson distribution: a discrete probability distribution that describes the number of events occurring in a fixed interval of time or space, where the events occur randomly and independently of each other. This distribution is often used in modeling rare events, such as the number of accidents in a day.\n",
    "\n",
    "4. Exponential distribution: a continuous probability distribution that describes the time between two consecutive events in a Poisson process, where the events occur randomly and independently of each other. This distribution is often used in reliability analysis and queuing theory.\n",
    "\n",
    "5. Uniform distribution: a continuous probability distribution where all values within a specified interval are equally likely. This distribution is often used in simulations and random number generation.\n",
    "\n",
    "6. Gamma distribution: a continuous probability distribution that is used to model the waiting time until a certain number of events occur in a Poisson process. It is also used in reliability analysis and queuing theory.\n",
    "\n",
    "7. Chi-squared distribution: a continuous probability distribution that arises in statistical inference, particularly in hypothesis testing and confidence interval estimation. It is the distribution of the sum of squares of a specified number of independent standard normal random variables."
   ]
  },
  {
   "cell_type": "code",
   "execution_count": 2,
   "id": "4d5806fc-1c88-4887-ada6-337f90ffcc63",
   "metadata": {},
   "outputs": [],
   "source": [
    "# Q3. Write a Python function to calculate the probability density function of a normal distribution with\n",
    "# given mean and standard deviation at a given point.\n",
    "\n",
    "## Sure, here's an example Python function that calculates the probability density function (PDF) of a normal distribution with a given\n",
    "## mean and standard deviation at a given point x:\n",
    "\n",
    "import math\n",
    "\n",
    "def normal_pdf(x, mu, sigma):\n",
    "    \"\"\"\n",
    "    Returns the probability density function of a normal distribution with mean mu\n",
    "    and standard deviation sigma, evaluated at the point x.\n",
    "    \"\"\"\n",
    "    return math.exp(-(x-mu)**2/(2*sigma**2))/(sigma*math.sqrt(2*math.pi))\n",
    "\n",
    "\n",
    "## This function takes three arguments: x is the point at which we want to evaluate the PDF, mu is the mean of the normal distribution, and sigma is the standard deviation of the normal distribution.\n",
    "\n",
    "## The formula for the PDF of a normal distribution with mean mu and standard deviation sigma is:\n",
    "\n",
    "## f(x) = (1/(sigmasqrt(2pi))) * exp(-((x-mu)^2)/(2*sigma^2))\n",
    "\n",
    "## The function uses the math library to perform mathematical operations like exponentiation, square root, and pi. It returns the PDF of the normal distribution evaluated at the point x.\n"
   ]
  },
  {
   "cell_type": "markdown",
   "id": "0be456c3-853d-4663-887c-7de8b82d3192",
   "metadata": {},
   "source": [
    "# Q4. What are the properties of Binomial distribution? Give two examples of events where binomial distribution can be applied.\n",
    "\n",
    "## Properties of Binomial Distribution:\n",
    "\n",
    "+ It is a discrete probability distribution that models the number of successes in a fixed number of independent Bernoulli trials.\n",
    "+ Each trial has only two possible outcomes: success (with probability p) or failure (with probability 1-p).\n",
    "+ The trials are independent, meaning that the outcome of one trial does not affect the outcome of the others.\n",
    "+ The distribution is defined by two parameters: n, the number of trials, and p, the probability of success in each trial.\n",
    "+ The mean of the distribution is np, and the variance is np(1-p).\n",
    "+ The shape of the distribution is affected by the values of n and p. As n increases, the distribution becomes more bell-shaped and symmetric, and as p approaches 0 or 1, the distribution becomes more skewed.\n",
    "\n",
    "## Examples of events where Binomial Distribution can be applied:\n",
    "\n",
    "1. A company is launching a new product and wants to know the probability of a customer purchasing it. They conduct a survey of 100 potential customers and find that 60% are likely to purchase the product. The number of customers who purchase the product out of 100 can be modeled by a binomial distribution with n=100 and p=0.6.\n",
    "\n",
    "2. A doctor is treating a patient for a certain condition and wants to know the probability of a successful treatment. The treatment has a success rate of 80%, and the doctor treats 10 patients. The number of successful treatments out of 10 can be modeled by a binomial distribution with n=10 and p=0.8."
   ]
  },
  {
   "cell_type": "code",
   "execution_count": 3,
   "id": "8d24a074-7c8c-4882-bd22-4b1ec64cc257",
   "metadata": {},
   "outputs": [
    {
     "data": {
      "image/png": "[encoded data removed]",
      "text/plain": [
       "<Figure size 640x480 with 1 Axes>"
      ]
     },
     "metadata": {},
     "output_type": "display_data"
    }
   ],
   "source": [
    "# Q5. Generate a random sample of size 1000 from a binomial distribution with probability \n",
    "# of success 0.4 and plot a histogram of the results using matplotlib.\n",
    "\n",
    "# Sure! Here's an example Python code that generates a random sample of size 1000 from a binomial \n",
    "# distribution with probability of success 0.4 and plots a histogram of the results using Matplotlib:\n",
    "\n",
    "import numpy as np\n",
    "import matplotlib.pyplot as plt\n",
    "\n",
    "# Set parameters for the binomial distribution\n",
    "n = 100\n",
    "p = 0.4\n",
    "\n",
    "# Generate a random sample of size 1000 from the binomial distribution\n",
    "sample = np.random.binomial(n, p, 1000)\n",
    "\n",
    "# Plot a histogram of the sample using Matplotlib\n",
    "plt.hist(sample, bins=range(n+1), density=True, align='left')\n",
    "plt.xlabel('Number of Successes')\n",
    "plt.ylabel('Probability Density')\n",
    "plt.title('Binomial Distribution (n=100, p=0.4)')\n",
    "plt.show()\n"
   ]
  },
  {
   "cell_type": "markdown",
   "id": "12d9fbaa-6c29-456a-a1a5-9762d1d28b17",
   "metadata": {},
   "source": [
    "## This code uses the NumPy library to generate a random sample of size 1000 from a binomial distribution with parameters n=100 and p=0.4. It then uses Matplotlib to plot a histogram of the sample, where each bin represents a different number of successes and the height of the bar represents the probability density of that bin. The 'density=True' argument is used to normalize the histogram so that the total area under the curve is equal to 1. The 'align='left'' argument is used to align the bins with the integers on the x-axis. The resulting plot should show a distribution that is approximately symmetric and centered around 40, the expected number of successes."
   ]
  },
  {
   "cell_type": "code",
   "execution_count": 4,
   "id": "7d1acf5b-6f40-4076-8990-8689608c9488",
   "metadata": {},
   "outputs": [],
   "source": [
    "#Q6. Write a Python function to calculate the cumulative distribution function of a Poisson distribution\n",
    "## with given mean at a given point.\n",
    "\n",
    "## Python function that calculates the cumulative distribution function (CDF) of a Poisson distribution with a given mean at a given point x:\n",
    "\n",
    "import math\n",
    "\n",
    "def poisson_cdf(x, mu):\n",
    "    \"\"\"\n",
    "    Returns the cumulative distribution function of a Poisson distribution with mean mu,\n",
    "    evaluated at the point x.\n",
    "    \"\"\"\n",
    "    cdf = 0.0\n",
    "    for k in range(x+1):\n",
    "        cdf += math.exp(-mu) * mu**k / math.factorial(k)\n",
    "    return cdf\n"
   ]
  },
  {
   "cell_type": "markdown",
   "id": "e934cd44-4b43-4d6b-92be-19874e304b4c",
   "metadata": {},
   "source": [
    "# Q7. How Binomial distribution different from Poisson distribution?\n",
    "\n",
    "\n",
    "## Binomial distribution and Poisson distribution are two different types of probability distributions, although they both deal with the number of events that occur in a certain situation.\n",
    "\n",
    "+ The main difference between the two distributions is the way that the events occur. In a binomial distribution, there are a fixed number of independent trials, each with two possible outcomes (success or failure), and the probability of success is constant across all trials. In contrast, in a Poisson distribution, the events occur randomly and independently over a fixed interval of time or space, and the probability of an event occurring in a certain interval depends on the length of the interval.\n",
    "\n",
    "## Here are some key differences between Binomial and Poisson distributions:\n",
    "\n",
    "1. Parameters: In a binomial distribution, the parameters are the number of trials (n) and the probability of success (p) in each trial. In a Poisson distribution, the parameter is the mean number of events (λ) that occur in a certain interval.\n",
    "\n",
    "2. Probability Function: The probability mass function (PMF) of a binomial distribution gives the probability of getting k successes in n trials. The PMF of a Poisson distribution gives the probability of getting k events in a fixed interval of time or space.\n",
    "\n",
    "3. Shape: The shape of a binomial distribution is typically bell-shaped and symmetric, whereas the shape of a Poisson distribution is typically skewed to the right (positively skewed).\n",
    "\n",
    "4. Approximation: In some cases, a Poisson distribution can be used as an approximation of a binomial distribution when the number of trials is large and the probability of success is small. This is because the Poisson distribution models rare events, while the binomial distribution models events that occur with moderate frequency.\n",
    "\n",
    "+ In summary, the key difference between binomial and Poisson distributions is that the binomial distribution models a fixed number of independent trials with a constant probability of success, while the Poisson distribution models the random occurrence of events in a fixed interval of time or space."
   ]
  },
  {
   "cell_type": "code",
   "execution_count": 5,
   "id": "e7fc2f45-4dc4-43f7-9c15-54ce413b5f58",
   "metadata": {},
   "outputs": [
    {
     "name": "stdout",
     "output_type": "stream",
     "text": [
      "Sample mean: 4.843\n",
      "Sample variance: 4.678350999999998\n"
     ]
    }
   ],
   "source": [
    "# Q8. Generate a random sample of size 1000 from a Poisson distribution with mean 5 and calculate the\n",
    "# sample mean and variance.\n",
    "\n",
    "# Python code to generate a random sample of size 1000 from a Poisson distribution with mean 5, and calculate the sample \n",
    "# mean and variance using NumPy:\n",
    "\n",
    "import numpy as np\n",
    "\n",
    "# Set the mean of the Poisson distribution\n",
    "mean = 5\n",
    "\n",
    "# Generate a random sample of size 1000 from the Poisson distribution\n",
    "sample = np.random.poisson(mean, size=1000)\n",
    "\n",
    "# Calculate the sample mean and variance\n",
    "sample_mean = np.mean(sample)\n",
    "sample_var = np.var(sample)\n",
    "\n",
    "print(\"Sample mean:\", sample_mean)\n",
    "print(\"Sample variance:\", sample_var)\n"
   ]
  },
  {
   "cell_type": "markdown",
   "id": "fed7d1b9-5439-4d20-a573-a82d4913a3fc",
   "metadata": {},
   "source": [
    "# Q9. How mean and variance are related in Binomial distribution and Poisson distribution?\n",
    "\n",
    "+ The mean and variance are two important statistical properties of a probability distribution that provide information about the central tendency and spread of the distribution, respectively. In both Binomial and Poisson distributions, the mean and variance are related in a similar way, but with some key differences.\n",
    "\n",
    "+ In a Binomial distribution, the mean is equal to the product of the number of trials (n) and the probability of success (p), while the variance is equal to the product of the number of trials, the probability of failure (q = 1-p), and the probability of success:\n",
    "\n",
    "Mean = np\n",
    "Variance = np*q\n",
    "\n",
    "+ In contrast, in a Poisson distribution, the mean is equal to the parameter λ, while the variance is also equal to λ:\n",
    "\n",
    "Mean = λ\n",
    "Variance = λ\n",
    "\n",
    "+ So in both distributions, the variance is a function of the mean, but the specific relationship between the two varies. In the Binomial distribution, the variance is a function of both the mean and the probability of success, while in the Poisson distribution, the variance is directly equal to the mean.\n",
    "\n",
    "+ Intuitively, this means that in a Binomial distribution, as the probability of success or failure becomes more extreme (i.e., closer to 0 or 1), the variance decreases and the distribution becomes more tightly clustered around the mean. In contrast, in a Poisson distribution, as the mean increases, the variance also increases, reflecting the greater variability in the occurrence of rare events.\n",
    "\n",
    "+ Overall, the relationship between the mean and variance is an important aspect of both Binomial and Poisson distributions and can provide insight into the nature of the distribution and its underlying parameters."
   ]
  },
  {
   "cell_type": "markdown",
   "id": "f5fc2779-4a37-4a88-9a3d-ed0c3c37739d",
   "metadata": {},
   "source": [
    "# Q10. In normal distribution with respect to mean position, where does the least frequent data appear?\n",
    "\n",
    "+ In a normal distribution, the data is symmetrically distributed around the mean, with the highest frequency of data points located at the mean. The frequency of data points decreases as we move away from the mean in either direction.\n",
    "\n",
    "+ According to the Empirical Rule or the 68-95-99.7 rule, which applies to normal distributions, approximately 68% of the data points lie within one standard deviation of the mean, approximately 95% of the data points lie within two standard deviations of the mean, and approximately 99.7% of the data points lie within three standard deviations of the mean.\n",
    "\n",
    "+ Therefore, the least frequent data points in a normal distribution are located at the tails, which are the regions beyond two or three standard deviations from the mean. In a standard normal distribution (where the mean is 0 and the standard deviation is 1), the least frequent data points are located at z-scores of -2 and below, or 2 and above.\n",
    "\n",
    "+ It's important to note that even though the data points at the tails are less frequent, they can still be important and meaningful for certain analyses, such as identifying outliers or extreme values."
   ]
  },
  {
   "cell_type": "code",
   "execution_count": null,
   "id": "480308f9-dfc6-4bad-a587-1cc7e4ef1863",
   "metadata": {},
   "outputs": [],
   "source": []
  }
 ],
 "metadata": {
  "kernelspec": {
   "display_name": "Python 3 (ipykernel)",
   "language": "python",
   "name": "python3"
  },
  "language_info": {
   "codemirror_mode": {
    "name": "ipython",
    "version": 3
   },
   "file_extension": ".py",
   "mimetype": "text/x-python",
   "name": "python",
   "nbconvert_exporter": "python",
   "pygments_lexer": "ipython3",
   "version": "3.10.8"
  }
 },
 "nbformat": 4,
 "nbformat_minor": 5
}
