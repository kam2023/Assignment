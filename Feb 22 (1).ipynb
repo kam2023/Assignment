{
 "cells": [
  {
   "cell_type": "code",
   "execution_count": 1,
   "id": "64fc466f-06af-4aa1-9da7-5e3528437edd",
   "metadata": {},
   "outputs": [
    {
     "name": "stdout",
     "output_type": "stream",
     "text": [
      "0     4\n",
      "1     8\n",
      "2    15\n",
      "3    16\n",
      "4    23\n",
      "5    42\n",
      "dtype: int64\n"
     ]
    }
   ],
   "source": [
    "# Q1: Create a Pandas Series that contains the following data: 4, 8, 15, 16, 23, and 42. Then, print the series.\n",
    "\n",
    "import pandas as pd\n",
    "\n",
    "# create a Pandas Series with the given data\n",
    "data = [4, 8, 15, 16, 23, 42]\n",
    "series = pd.Series(data)\n",
    "\n",
    "# print the series\n",
    "print(series)\n"
   ]
  },
  {
   "cell_type": "code",
   "execution_count": 2,
   "id": "05233e4b-e9d8-4488-bbf3-b972fefe1ea6",
   "metadata": {},
   "outputs": [
    {
     "name": "stdout",
     "output_type": "stream",
     "text": [
      "0     1\n",
      "1     2\n",
      "2     3\n",
      "3     4\n",
      "4     5\n",
      "5     6\n",
      "6     7\n",
      "7     8\n",
      "8     9\n",
      "9    10\n",
      "dtype: int64\n"
     ]
    }
   ],
   "source": [
    "# Q2: Create a variable of list type containing 10 elements in it, and apply pandas.Series function on the variable print it.\n",
    "import pandas as pd\n",
    "\n",
    "# create a list of 10 elements\n",
    "my_list = [1, 2, 3, 4, 5, 6, 7, 8, 9, 10]\n",
    "\n",
    "# convert the list to a Pandas Series\n",
    "my_series = pd.Series(my_list)\n",
    "\n",
    "# print the series\n",
    "print(my_series)\n"
   ]
  },
  {
   "cell_type": "code",
   "execution_count": 3,
   "id": "a4c7fe91-9d93-4d71-abd4-8e6eb3dc92cc",
   "metadata": {},
   "outputs": [
    {
     "name": "stdout",
     "output_type": "stream",
     "text": [
      "     name  age  gender\n",
      "0   Alice   25  female\n",
      "1     Bob   30    male\n",
      "2  Claire   27  female\n"
     ]
    }
   ],
   "source": [
    "# Q3: Create a Pandas DataFrame that contains the following data:\n",
    "import pandas as pd\n",
    "\n",
    "# create a dictionary with the data\n",
    "data = {\"name\": [\"Alice\", \"Bob\", \"Claire\"],\n",
    "        \"age\": [25, 30, 27],\n",
    "        \"gender\": [\"female\", \"male\",  \"female\"]}\n",
    "\n",
    "# convert the dictionary to a Pandas DataFrame\n",
    "df = pd.DataFrame(data)\n",
    "\n",
    "# print the DataFrame\n",
    "print(df)\n"
   ]
  },
  {
   "cell_type": "markdown",
   "id": "115a7adc-f844-4034-a06c-86271b8bd07e",
   "metadata": {},
   "source": [
    "# Q4: What is ‘DataFrame’ in pandas and how is it different from pandas.series? Explain with an example.\n",
    "\n",
    "## In pandas, a DataFrame is a 2-dimensional labeled data structure that is used to represent tabular data. It is similar to a spreadsheet or SQL table, where each column can have a different data type (e.g., numeric, string, boolean, etc.) and each row represents an observation or record. A DataFrame can be created using a variety of data sources, such as lists, dictionaries, and other data frames.\n",
    "\n",
    "+ On the other hand, a pandas Series is a 1-dimensional labeled data structure that represents a single column of data. It is similar to a list or a 1-dimensional array in NumPy, but with additional indexing functionality. Each element in a Series has a label (an index) that can be used to access the element's value."
   ]
  },
  {
   "cell_type": "code",
   "execution_count": 4,
   "id": "1f5eae40-71c6-4a22-a7e4-b688fe75fe4a",
   "metadata": {},
   "outputs": [
    {
     "name": "stdout",
     "output_type": "stream",
     "text": [
      "DataFrame:\n",
      "      name  age  gender\n",
      "0    Alice   25  female\n",
      "1      Bob   30    male\n",
      "2  Charlie   35    male\n",
      "\n",
      "Series:\n",
      "0      Alice\n",
      "1        Bob\n",
      "2    Charlie\n",
      "Name: name, dtype: object\n"
     ]
    }
   ],
   "source": [
    "# Here is an example that demonstrates the difference between a DataFrame and a Series:\n",
    "\n",
    "import pandas as pd\n",
    "\n",
    "# create a dictionary with some data\n",
    "data = {\"name\": [\"Alice\", \"Bob\", \"Charlie\"],\n",
    "        \"age\": [25, 30, 35],\n",
    "        \"gender\": [\"female\", \"male\", \"male\"]}\n",
    "\n",
    "# create a DataFrame from the dictionary\n",
    "df = pd.DataFrame(data)\n",
    "\n",
    "# create a Series from the \"name\" column of the DataFrame\n",
    "name_series = df[\"name\"]\n",
    "\n",
    "# print the DataFrame and the Series\n",
    "print(\"DataFrame:\")\n",
    "print(df)\n",
    "print(\"\\nSeries:\")\n",
    "print(name_series)\n"
   ]
  },
  {
   "cell_type": "markdown",
   "id": "688be6c4-a50b-46b9-be9d-3353fad98547",
   "metadata": {},
   "source": [
    "# Q5. What are some common functions you can use to manipulate data in a Pandas DataFrame? \n",
    "# Can you give an example of when you might use one of these functions?\n",
    "### Pandas provides a wide range of functions for manipulating data in a DataFrame. Here are some common functions:\n",
    "\n",
    "1. 'head()' and 'tail()': These functions allow you to view the first or last n rows of a DataFrame, respectively. They are useful for quickly inspecting the data to make sure it was loaded correctly, or to get a sense of what the data looks like.\n",
    "\n",
    "2. 'describe()': This function provides a summary of the statistics for each column in the DataFrame, such as count, mean, standard deviation, minimum, maximum, and quartiles. It is useful for getting a quick overview of the data and identifying any potential issues, such as missing values or outliers.\n",
    "\n",
    "3. 'info()': This function provides information about the DataFrame, such as the data types of each column and the number of non-null values. It is useful for checking the data types and making sure they are correct.\n",
    "\n",
    "4. 'groupby()': This function allows you to group the data in the DataFrame by one or more columns, and then apply a function to each group. It is useful for calculating aggregate statistics for each group or for creating new columns based on the groupings.\n",
    "\n",
    "5. 'apply()': This function allows you to apply a function to each element in a column or DataFrame. It is useful for transforming the data, such as converting strings to numbers, or for creating new columns based on the existing columns.\n",
    "\n",
    "6. 'sort_values()': This function allows you to sort the DataFrame by one or more columns. It is useful for reordering the data to make it easier to analyze or visualize.\n",
    "\n",
    "7. 'pivot_table()': This function allows you to create a pivot table from the data, which is a summary table that shows the relationship between two or more variables. It is useful for analyzing the relationships between variables and identifying patterns in the data.\n",
    "\n",
    "### when you might use one of these functions:\n",
    "\n",
    "+ Suppose you have a DataFrame that contains information about the sales of products in different regions. You want to calculate the total sales for each region and then sort the regions in descending order by their total sales. To do this, you could use the 'groupby()' and 'sum()' functions as follows:\n",
    "\n"
   ]
  },
  {
   "cell_type": "code",
   "execution_count": 5,
   "id": "ca025c32-1bdf-42d1-90c1-daa7dcc5b851",
   "metadata": {},
   "outputs": [
    {
     "name": "stdout",
     "output_type": "stream",
     "text": [
      "region\n",
      "South    700\n",
      "West     600\n",
      "North    500\n",
      "East     400\n",
      "Name: sales, dtype: int64\n"
     ]
    }
   ],
   "source": [
    "import pandas as pd\n",
    "\n",
    "# create a DataFrame with some sales data\n",
    "data = {\"region\": [\"East\", \"West\", \"North\", \"South\", \"East\", \"West\", \"North\", \"South\"],\n",
    "        \"product\": [\"A\", \"A\", \"A\", \"A\", \"B\", \"B\", \"B\", \"B\"],\n",
    "        \"sales\": [100, 200, 150, 250, 300, 400, 350, 450]}\n",
    "df = pd.DataFrame(data)\n",
    "\n",
    "# group the data by region and sum the sales for each region\n",
    "region_sales = df.groupby(\"region\")[\"sales\"].sum()\n",
    "\n",
    "# sort the regions by their total sales in descending order\n",
    "region_sales_sorted = region_sales.sort_values(ascending=False)\n",
    "\n",
    "# print the sorted region sales\n",
    "print(region_sales_sorted)\n"
   ]
  },
  {
   "cell_type": "markdown",
   "id": "98920938-fd7a-4f0c-b5ac-fdd5f04d24df",
   "metadata": {},
   "source": [
    "# Q6: Which of the following is mutable in nature Series, DataFrame, Panel?\n",
    "\n",
    "## In pandas, both Series and DataFrame are mutable in nature, while Panel is deprecated and no longer recommended for use.\n",
    "\n",
    "+ This means that you can modify the data within a Series or DataFrame after it has been created, either by changing the values of existing elements or by adding or deleting elements. For example, you can add a new column to a DataFrame, or you can change the value of a specific element in a Series. However, it is important to note that modifying a Series or DataFrame can have unintended consequences and can affect downstream calculations, so it should be done with care.\n"
   ]
  },
  {
   "cell_type": "markdown",
   "id": "711c2536-ac07-429c-abd8-0cc0cf9613e8",
   "metadata": {},
   "source": [
    "# Q7: Create a DataFrame using multiple Series. Explain with an example.\n",
    "\n",
    "## To create a DataFrame using multiple Series, we can use the 'pd.DataFrame()' function and pass a dictionary where each key corresponds to a column name and each value corresponds to a Series. Here's an example:\n"
   ]
  },
  {
   "cell_type": "code",
   "execution_count": 6,
   "id": "4ebc52ee-1e43-410c-8405-d8a4634d5cfa",
   "metadata": {},
   "outputs": [
    {
     "name": "stdout",
     "output_type": "stream",
     "text": [
      "      Name  Age Gender\n",
      "0    Alice   25      F\n",
      "1      Bob   30      M\n",
      "2  Charlie   35      M\n",
      "3     Dave   40      M\n",
      "4    Emily   45      F\n"
     ]
    }
   ],
   "source": [
    "import pandas as pd\n",
    "\n",
    "# create the first Series\n",
    "names = pd.Series([\"Alice\", \"Bob\", \"Charlie\", \"Dave\", \"Emily\"])\n",
    "\n",
    "# create the second Series\n",
    "ages = pd.Series([25, 30, 35, 40, 45])\n",
    "\n",
    "# create the third Series\n",
    "genders = pd.Series([\"F\", \"M\", \"M\", \"M\", \"F\"])\n",
    "\n",
    "# create the DataFrame by combining the three Series\n",
    "df = pd.DataFrame({\"Name\": names, \"Age\": ages, \"Gender\": genders})\n",
    "\n",
    "# print the DataFrame\n",
    "print(df)\n"
   ]
  },
  {
   "cell_type": "code",
   "execution_count": null,
   "id": "6be61a4f-788c-4db6-87fc-ce64d8d9ee3e",
   "metadata": {},
   "outputs": [],
   "source": []
  }
 ],
 "metadata": {
  "kernelspec": {
   "display_name": "Python 3 (ipykernel)",
   "language": "python",
   "name": "python3"
  },
  "language_info": {
   "codemirror_mode": {
    "name": "ipython",
    "version": 3
   },
   "file_extension": ".py",
   "mimetype": "text/x-python",
   "name": "python",
   "nbconvert_exporter": "python",
   "pygments_lexer": "ipython3",
   "version": "3.10.8"
  }
 },
 "nbformat": 4,
 "nbformat_minor": 5
}
