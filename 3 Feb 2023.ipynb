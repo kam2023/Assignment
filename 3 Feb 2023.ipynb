{
 "cells": [
  {
   "cell_type": "markdown",
   "id": "4ff48993-3c94-49d8-a1f5-87292b67c8e1",
   "metadata": {},
   "source": [
    "# keyword use to create a function\n",
    " * The def keyword is used to create, (or define) a function"
   ]
  },
  {
   "cell_type": "code",
   "execution_count": 1,
   "id": "4990d718-29fc-46aa-a05c-a2fd5a70e07b",
   "metadata": {},
   "outputs": [
    {
     "data": {
      "text/plain": [
       "range(1, 25)"
      ]
     },
     "execution_count": 1,
     "metadata": {},
     "output_type": "execute_result"
    }
   ],
   "source": [
    "range(1,25)"
   ]
  },
  {
   "cell_type": "code",
   "execution_count": 43,
   "id": "3fccec25-912a-42a4-b2a4-34a4015cd635",
   "metadata": {},
   "outputs": [
    {
     "name": "stdout",
     "output_type": "stream",
     "text": [
      "1 2 3 4 5 6 7 8 9 10 11 12 13 14 15 16 17 18 19 20 21 22 23 24 "
     ]
    }
   ],
   "source": [
    "for i in range(1,25):\n",
    "    print(i,end=\" \")\n",
    "    "
   ]
  },
  {
   "cell_type": "markdown",
   "id": "76d78c44-1fa3-4829-b347-59ab33aafb89",
   "metadata": {},
   "source": [
    "# why use args and kwargs \n",
    "- We use *args and **kwargs as an argument when we are unsure about the number of arguments to pass in the functions"
   ]
  },
  {
   "cell_type": "code",
   "execution_count": 3,
   "id": "94608591-8f2d-4915-bc8e-7b8d8433dec1",
   "metadata": {},
   "outputs": [],
   "source": [
    "def test4(*args):\n",
    "    l=[]\n",
    "    for i in args:\n",
    "        if type(i) == list:\n",
    "            l.append(i)\n",
    "    return l"
   ]
  },
  {
   "cell_type": "code",
   "execution_count": 4,
   "id": "3601f98b-9ca9-4726-8737-74c11e08ac50",
   "metadata": {},
   "outputs": [
    {
     "data": {
      "text/plain": [
       "[[1, 2, 3, 4, 4], [4, 5, 6], [6, 7, 8]]"
      ]
     },
     "execution_count": 4,
     "metadata": {},
     "output_type": "execute_result"
    }
   ],
   "source": [
    "test4(1,2,3,[1,2,3,4,4],(1,2,3,4),\"abu\",[4,5,6],[6,7,8])"
   ]
  },
  {
   "cell_type": "code",
   "execution_count": 5,
   "id": "bcd81ed7-dd08-4a89-8532-df2f1bd36b4a",
   "metadata": {},
   "outputs": [],
   "source": [
    "def test6(**kwargs):\n",
    "    for i in kwargs.keys():\n",
    "        if type(kwargs[i]) == list:\n",
    "            return i, kwargs[i]"
   ]
  },
  {
   "cell_type": "code",
   "execution_count": 6,
   "id": "98f7bbdf-9785-4323-bd51-28f2842994ce",
   "metadata": {},
   "outputs": [
    {
     "data": {
      "text/plain": [
       "('c', [1, 2, 3, 4])"
      ]
     },
     "execution_count": 6,
     "metadata": {},
     "output_type": "execute_result"
    }
   ],
   "source": [
    "test6(a =34, b =25, c = [1,2,3,4], d = (\"abu\", \"pwskills\"))"
   ]
  },
  {
   "cell_type": "markdown",
   "id": "251db0d0-811e-4bec-9f6b-00374194e857",
   "metadata": {},
   "source": [
    "# iterator\n",
    "- An iterator in Python is an object that contains a countable number of elements that can be iterated upon. In simpler words, we can say that Iterators are objects that allow you to traverse through all the elements of a collection and return one element at a time."
   ]
  },
  {
   "cell_type": "markdown",
   "id": "91a359c9-67cc-4019-9247-be951e38c05a",
   "metadata": {},
   "source": [
    "# Iterator in Python is an object that is used to iterate over iterable objects like lists, tuples, dicts, and sets. The iterator object is initialized using the iter() method. It uses the next() method for iteration.\n",
    "\n",
    "* __iter__(): The iter() method is called for the initialization of an iterator. This returns an iterator object\n",
    "\n",
    "* __next__(): The next method returns the next value for the iterable. When we use a for loop to traverse any iterable object, internally it uses the iter() method to get an iterator object, which further uses the next() method to iterate over. This method raises a StopIteration to signal the end of the iteration."
   ]
  },
  {
   "cell_type": "code",
   "execution_count": 42,
   "id": "4b80112f-bd25-402d-8c59-2ab7a0fd074b",
   "metadata": {},
   "outputs": [
    {
     "name": "stdout",
     "output_type": "stream",
     "text": [
      "2 4 6 8 10 12 14 16 18 20 "
     ]
    }
   ],
   "source": [
    "## List is iterable\n",
    "lst =[2,4,6,8,10,12,14,16,18,20]\n",
    "for i in lst:\n",
    "    print(i,end=\" \")\n"
   ]
  },
  {
   "cell_type": "code",
   "execution_count": 17,
   "id": "53264794-ca74-4c2e-870f-ab287236a568",
   "metadata": {},
   "outputs": [],
   "source": [
    "lst1=iter(lst)"
   ]
  },
  {
   "cell_type": "code",
   "execution_count": 18,
   "id": "c95fb0b7-6952-4e58-b9c5-d0bd106a8065",
   "metadata": {},
   "outputs": [
    {
     "data": {
      "text/plain": [
       "<list_iterator at 0x7f730c4adc00>"
      ]
     },
     "execution_count": 18,
     "metadata": {},
     "output_type": "execute_result"
    }
   ],
   "source": [
    "lst1"
   ]
  },
  {
   "cell_type": "code",
   "execution_count": 19,
   "id": "75c6a70c-4591-441e-b89e-668c56675747",
   "metadata": {},
   "outputs": [
    {
     "data": {
      "text/plain": [
       "2"
      ]
     },
     "execution_count": 19,
     "metadata": {},
     "output_type": "execute_result"
    }
   ],
   "source": [
    "next(lst1)"
   ]
  },
  {
   "cell_type": "code",
   "execution_count": 20,
   "id": "455466bb-ae31-4d76-8e38-24400afd2529",
   "metadata": {},
   "outputs": [
    {
     "data": {
      "text/plain": [
       "4"
      ]
     },
     "execution_count": 20,
     "metadata": {},
     "output_type": "execute_result"
    }
   ],
   "source": [
    "next(lst1)"
   ]
  },
  {
   "cell_type": "code",
   "execution_count": 21,
   "id": "872d11ef-4f67-4552-81c4-ae570ab2939f",
   "metadata": {},
   "outputs": [
    {
     "data": {
      "text/plain": [
       "6"
      ]
     },
     "execution_count": 21,
     "metadata": {},
     "output_type": "execute_result"
    }
   ],
   "source": [
    "next(lst1)"
   ]
  },
  {
   "cell_type": "code",
   "execution_count": 22,
   "id": "183bc3a3-50c2-4ccf-b94c-8613b771e132",
   "metadata": {},
   "outputs": [
    {
     "data": {
      "text/plain": [
       "8"
      ]
     },
     "execution_count": 22,
     "metadata": {},
     "output_type": "execute_result"
    }
   ],
   "source": [
    "next(lst1)"
   ]
  },
  {
   "cell_type": "code",
   "execution_count": 24,
   "id": "8c46e297-ec17-496a-b909-c15a91f25431",
   "metadata": {},
   "outputs": [
    {
     "data": {
      "text/plain": [
       "10"
      ]
     },
     "execution_count": 24,
     "metadata": {},
     "output_type": "execute_result"
    }
   ],
   "source": [
    "next(lst1)"
   ]
  },
  {
   "cell_type": "markdown",
   "id": "03847920-bbcb-409e-b5a8-9fe97447185a",
   "metadata": {},
   "source": [
    "# Generator\n",
    "In Python, a generator is a function that returns an iterator that produces a sequence of values when iterated over.\n",
    "\n",
    "Generators are useful when we want to produce a large sequence of values, but we don't want to store all of them in memory at once.\n",
    "In Python, similar to defining a normal function, we can define a generator function using the def keyword, but instead of the return statement we use the yield statement."
   ]
  },
  {
   "cell_type": "code",
   "execution_count": 22,
   "id": "c067e2cc-a13b-4490-8928-a50e3d83b2ce",
   "metadata": {},
   "outputs": [],
   "source": [
    "# Q4: an example of a generator function using yield \n",
    "def generator_name(arg):\n",
    "    # statements\n",
    "    yield something"
   ]
  },
  {
   "cell_type": "code",
   "execution_count": 23,
   "id": "489d7de1-c0a8-43c4-9fc5-89a0e6e9ddeb",
   "metadata": {},
   "outputs": [
    {
     "name": "stdout",
     "output_type": "stream",
     "text": [
      "this is my prog\n"
     ]
    }
   ],
   "source": [
    "print(\"this is my prog\")"
   ]
  },
  {
   "cell_type": "code",
   "execution_count": null,
   "id": "3939194e-419d-4a52-96a7-10b57c0e20fd",
   "metadata": {},
   "outputs": [],
   "source": []
  },
  {
   "cell_type": "code",
   "execution_count": null,
   "id": "fbe43770-2b4e-4b83-96df-2edf9038a465",
   "metadata": {},
   "outputs": [],
   "source": []
  }
 ],
 "metadata": {
  "kernelspec": {
   "display_name": "Python 3 (ipykernel)",
   "language": "python",
   "name": "python3"
  },
  "language_info": {
   "codemirror_mode": {
    "name": "ipython",
    "version": 3
   },
   "file_extension": ".py",
   "mimetype": "text/x-python",
   "name": "python",
   "nbconvert_exporter": "python",
   "pygments_lexer": "ipython3",
   "version": "3.10.8"
  }
 },
 "nbformat": 4,
 "nbformat_minor": 5
}
