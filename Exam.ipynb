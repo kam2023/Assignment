{
 "cells": [
  {
   "cell_type": "code",
   "execution_count": null,
   "id": "c71426b4-1481-472c-9636-f91277e0b5ae",
   "metadata": {},
   "outputs": [],
   "source": [
    "def move_zeroes(nums):\n",
    "    # Initialize a variable to keep track of the index where non-zero elements should be placed\n",
    "    non_zero_index = 0\n",
    "\n",
    "    # Iterate through the array\n",
    "    for num in nums:\n",
    "        if num != 0:\n",
    "            # If the current number is non-zero, move it to the non_zero_index position\n",
    "            nums[non_zero_index] = num\n",
    "            non_zero_index += 1\n",
    "\n",
    "    # Fill the remaining positions with zeroes\n",
    "    while non_zero_index < len(nums):\n",
    "        nums[non_zero_index] = 0\n",
    "        non_zero_index += 1\n",
    "\n",
    "    return nums\n"
   ]
  }
 ],
 "metadata": {
  "kernelspec": {
   "display_name": "Python 3 (ipykernel)",
   "language": "python",
   "name": "python3"
  },
  "language_info": {
   "codemirror_mode": {
    "name": "ipython",
    "version": 3
   },
   "file_extension": ".py",
   "mimetype": "text/x-python",
   "name": "python",
   "nbconvert_exporter": "python",
   "pygments_lexer": "ipython3",
   "version": "3.10.8"
  }
 },
 "nbformat": 4,
 "nbformat_minor": 5
}
