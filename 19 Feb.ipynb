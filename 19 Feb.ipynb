{
 "cells": [
  {
   "cell_type": "markdown",
   "id": "331ea601-6951-4458-9107-210df1e3ae8e",
   "metadata": {},
   "source": [
    "# Q1: What is Flask Framework? What are the advantages of Flask Framework?\n",
    " \n",
    "## Flask is a lightweight web framework written in Python. It is designed to be simple and flexible, allowing developers to easily create web applications and APIs with minimal boilerplate code. Some of the advantages of using Flask include:\n",
    "\n",
    "1. Lightweight and easy to use: Flask is designed to be simple and easy to use. It has a small footprint and minimal dependencies, making it a good choice for building small to medium-sized web applications.\n",
    "\n",
    "2. Flexible: Flask is highly customizable, allowing developers to add their own extensions or choose from a wide range of existing extensions. This makes it easy to add functionality to your application as needed.\n",
    "\n",
    "3. Python-based: Flask is written in Python, a popular and widely used programming language. This means that developers can take advantage of the many benefits of Python, such as its readability, ease of use, and extensive standard library.\n",
    "\n",
    "4. Built-in development server: Flask comes with a built-in development server, which makes it easy to test and debug your application during development.\n",
    "\n",
    "5. Modular: Flask is designed to be modular, with each component (routing, templating, etc.) as a separate module. This makes it easy to swap out individual components as needed, or to use Flask in conjunction with other frameworks or libraries.\n",
    "\n",
    "6. Large community: Flask has a large and active community of developers, which means that there is a wealth of documentation, tutorials, and support available to help you get started and troubleshoot any issues you may encounter.\n",
    "\n",
    "+ Overall, Flask is a great choice for building web applications and APIs that are simple, lightweight, and flexible. Its ease of use, customization options, and Python-based design make it a popular choice for developers looking to build scalable and maintainable applications."
   ]
  },
  {
   "cell_type": "code",
   "execution_count": null,
   "id": "7b611dcb-0d68-401b-addd-6657f58f2f74",
   "metadata": {},
   "outputs": [],
   "source": [
    "# Q2. Create a simple Flask application to display ‘Hello World!!’. Attach the screenshot of the output in Jupyter Notebook.\n",
    "\n",
    "from flask import Flask, jsonify, request\n",
    "\n",
    "app = Flask(__name__)\n",
    "\n",
    "\n",
    "@app.route('/hello', methods=['GET'])\n",
    "def helloworld():\n",
    "\tif(request.method == 'GET'):\n",
    "\t\tdata = {\"data\": \"Hello World\"}\n",
    "\t\treturn jsonify(data)\n",
    "\n",
    "\n",
    "if __name__ == '__main__':\n",
    "\tapp.run(debug=True) # clink on the link http://127.0.0.1:5000/\" # in your web browser, you should see the message ‘Hello World!!’"
   ]
  },
  {
   "cell_type": "markdown",
   "id": "7d91bac1-795a-4e76-b0d1-bc682c147683",
   "metadata": {},
   "source": [
    "# Q3:  What is App routing in Flask? Why do we use app routes?\n",
    "\n",
    "## In Flask, routing refers to the process of mapping URLs to specific functions or views that handle requests to those URLs. App routing in Flask involves creating routes for the application using the '@app.route()' decorator.\n",
    "\n",
    "### The '@app.route()' decorator is used to define a URL route in Flask. It takes the URL path as an argument and maps it to a Python function that handles the request. For example, the code above in exercise: 2 and below creates a route for the URL path \"/hello\" and maps it to a function called 'hello_world()':"
   ]
  },
  {
   "cell_type": "code",
   "execution_count": null,
   "id": "3f6f5657-b261-45f6-8774-55c818d79ad3",
   "metadata": {},
   "outputs": [],
   "source": [
    "# creates a route for the URL path \"/hello\" and maps it to a function called 'hello_world()'\n",
    "\n",
    "@app.route('/hello')\n",
    "def hello_world():\n",
    "    return 'Hello, World!'\n"
   ]
  },
  {
   "cell_type": "markdown",
   "id": "db0b75e3-605c-4c76-af7e-af94255beb45",
   "metadata": {},
   "source": [
    "+ From above, when a user visits the URL \"/hello\" in their web browser, Flask will call the 'hello_world()' function and return the string \"Hello, World!\" as the response.\n",
    "\n",
    "+ We use app routes in Flask to handle different types of requests and to build more complex web applications. For example, we might create a route to handle a form submission, or a route to display a user's profile page. By using app routes, we can easily map URLs to specific views and create a clean and organized application structure.\n",
    "\n",
    "+ App routing is also important for search engine optimization (SEO). By using descriptive URLs that reflect the content of the page, search engines can better understand what our application is about and index it more accurately.\n",
    "\n",
    "+ Overall, app routing in Flask is a powerful and flexible way to build web applications that can handle a wide range of requests and user interactions."
   ]
  },
  {
   "cell_type": "code",
   "execution_count": null,
   "id": "f3d92ca3-792f-41f0-9105-a6b576b35e0a",
   "metadata": {},
   "outputs": [],
   "source": [
    "# Q4. Create a “/welcome” route to display the welcome message “Welcome to ABC Corporation” and a “/” route to show the following details:\n",
    "\n",
    "# Company Name: ABC Corporation\n",
    "# Location: India\n",
    "# Contact Detail: 999-999-9999\n",
    "\n",
    "from flask import Flask\n",
    "\n",
    "app = Flask(__name__)\n",
    "\n",
    "@app.route('/welcome')\n",
    "def welcome():\n",
    "    return 'Welcome to ABC Corporation'\n",
    "\n",
    "@app.route('/')\n",
    "def details():\n",
    "    return 'Company Name: ABC Corporation\\nLocation: India\\nContact Detail: 999-999-9999'\n",
    "\n",
    "if __name__ == '__main__':\n",
    "    app.run()\n"
   ]
  },
  {
   "cell_type": "markdown",
   "id": "79470dd2-4df1-4f6b-b4d4-545ddc8249dd",
   "metadata": {},
   "source": [
    "## When you run this code and navigate to 'http://localhost:5000/welcome' in your web browser, you should see the message \"Welcome to ABC Corporation\" displayed on the page. Navigating to 'http://localhost:5000/ ' should display the company details in the following format:\n"
   ]
  },
  {
   "cell_type": "markdown",
   "id": "b1066aad-5817-43e7-bda0-180711516ff5",
   "metadata": {},
   "source": [
    "# output\n",
    "\n",
    "+ Company Name: ABC Corporation\n",
    "+ Location: India\n",
    "+ Contact Detail: 999-999-9999\n"
   ]
  },
  {
   "cell_type": "markdown",
   "id": "3a991c37-29c1-4bc9-a7e5-8843efdb4385",
   "metadata": {},
   "source": [
    "# Q5. What function is used in Flask for URL Building? Write a Python code to demonstrate the working of the url_for() function.\n",
    "+ Flask URL Helper Function – Flask url_for() is used in flask for URL building. \n",
    "\n",
    "## Defination: Flask is a straightforward, speedy, scalable library, used for building, compact web applications. It is a micro framework, that presents developers, useful tools, and, features, for coding REST APIs, and backend data processing, of web apps.\n",
    "\n",
    "### Flask url_for() method:\n",
    "The url_for() method, is used to prepare a URL, for a function dynamically, such that, changing URLs, in the application, is avoided. It accepts, the name of the view function, as the first argument, and, any number of keywords, to be sent(to the view function), as the second argument. "
   ]
  },
  {
   "cell_type": "code",
   "execution_count": null,
   "id": "bd608ad6-1a73-4688-927b-09518a565470",
   "metadata": {},
   "outputs": [],
   "source": [
    "# Python code to demonstrate the working of the url_for() function\n",
    "\n",
    "# import the Flask library\n",
    "from flask import Flask, render_template\n",
    "\n",
    "\n",
    "# Create the Flask instance and pass the Flask\n",
    "# constructor, the path of the correct module\n",
    "app = Flask(__name__)\n",
    "\n",
    "\n",
    "# Default route added using a decorator, for view function 'welcome'\n",
    "# Landing page of our web application - sportsmain.html\n",
    "@app.route('/')\n",
    "def welcome():\n",
    "\treturn render_template('sportsmain.html')\n",
    "\n",
    "\n",
    "# Start with flask web app, with debug as True,\n",
    "# only if this is the starting page\n",
    "if(__name__ == \"__main__\"):\n",
    "\tapp.run(debug=True)\n"
   ]
  },
  {
   "cell_type": "code",
   "execution_count": null,
   "id": "9c44611e-bc20-4beb-a8c9-4f3681e9a05b",
   "metadata": {},
   "outputs": [],
   "source": [
    "## HTML\n",
    "\n",
    "<!DOCTYPE html>\n",
    "<html lang=\"en\">\n",
    "<head>\n",
    "\t<meta charset=\"UTF-8\">\n",
    "\t<title>Sports</title>\n",
    "</head>\n",
    "<body>\n",
    "<h1> Encouragement for sports!</h1>\n",
    "<h2>Why are sports important?</h2>\n",
    "<ul>Let us understand -\n",
    "\t<li>Helps in Mental & Physical toughness</li>\n",
    "\t<li>Helps in developing Self Confidence & Team Spirit</li>\n",
    "\t<li>Teaches you how to organize your time!</li>\n",
    "</ul>\n",
    "\n",
    "</body>\n",
    "</html>\n"
   ]
  }
 ],
 "metadata": {
  "kernelspec": {
   "display_name": "Python 3 (ipykernel)",
   "language": "python",
   "name": "python3"
  },
  "language_info": {
   "codemirror_mode": {
    "name": "ipython",
    "version": 3
   },
   "file_extension": ".py",
   "mimetype": "text/x-python",
   "name": "python",
   "nbconvert_exporter": "python",
   "pygments_lexer": "ipython3",
   "version": "3.10.8"
  }
 },
 "nbformat": 4,
 "nbformat_minor": 5
}
