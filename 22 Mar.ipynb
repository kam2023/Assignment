{
 "cells": [
  {
   "cell_type": "markdown",
   "id": "f3bde319-69ed-481c-adb3-8bcd39ddda22",
   "metadata": {},
   "source": [
    "# Q1. Pearson correlation coefficient is a measure of the linear relationship between two variables. Suppose\n",
    "# you have collected data on the amount of time students spend studying for an exam and their final exam\n",
    "# scores. Calculate the Pearson correlation coefficient between these two variables and interpret the result.\n",
    "\n",
    "## To calculate the Pearson correlation coefficient between the amount of time students spend studying for an exam and their final exam scores, you need to follow these steps:\n",
    "\n",
    "1. Calculate the mean of the time spent studying and the mean of the final exam scores.\n",
    "\n",
    "2. Calculate the standard deviation of the time spent studying and the standard deviation of the final exam scores.\n",
    "\n",
    "3. Calculate the sum of the product of the deviations of time spent studying and final exam scores from their respective means.\n",
    "\n",
    "4. Divide the sum of the product of the deviations by the product of the standard deviations of time spent studying and final exam scores.\n",
    "\n",
    "+ The resulting number will be the Pearson correlation coefficient, which ranges from -1 to 1. A positive value indicates a positive correlation, meaning that as the amount of time spent studying increases, so does the final exam score. A negative value indicates a negative correlation, meaning that as the amount of time spent studying increases, the final exam score decreases. A value of 0 indicates no correlation, meaning that there is no linear relationship between the two variables.\n",
    "\n",
    "+ The interpretation of the Pearson correlation coefficient depends on the context of the study and the strength of the correlation. Generally, a correlation coefficient of 0.1 to 0.3 is considered a weak correlation, 0.3 to 0.5 is a moderate correlation, and anything above 0.5 is a strong correlation. If the correlation is statistically significant (i.e., the probability of obtaining such a correlation by chance is very low), then you can conclude that there is a meaningful relationship between the two variables."
   ]
  },
  {
   "cell_type": "markdown",
   "id": "f169c3ab-3fa3-4f9d-86fc-e306d265393c",
   "metadata": {},
   "source": [
    "#### Q2. Spearman's rank correlation is a measure of the monotonic relationship between two variables.\n",
    "# Suppose you have collected data on the amount of sleep individuals get each night and their overall job\n",
    "# satisfaction level on a scale of 1 to 10. Calculate the Spearman's rank correlation between these two\n",
    "# variables and interpret the result.\n",
    "\n",
    "## To calculate the Spearman's rank correlation between the amount of sleep individuals get each night and their overall job satisfaction level on a scale of 1 to 10, you need to follow these steps:\n",
    "\n",
    "1. Rank each variable separately, from the lowest to the highest value, assigning a rank of 1 to the lowest value, 2 to the next lowest value, and so on.\n",
    "\n",
    "2. Calculate the difference between the ranks for each individual.\n",
    "\n",
    "3. Calculate the squared difference between the ranks for each individual.\n",
    "\n",
    "4. Calculate the sum of the squared differences.\n",
    "\n",
    "5. Calculate the Spearman's rank correlation coefficient by using the formula:\n",
    "\n",
    "r_s = 1 - (6 * sum of squared differences) / (n * (n^2 - 1))\n",
    "\n",
    "+ where n is the sample size.\n",
    "\n",
    "+ The resulting number will be the Spearman's rank correlation coefficient, which ranges from -1 to 1. A positive value indicates a positive monotonic relationship, meaning that as the amount of sleep individuals get each night increases, their overall job satisfaction level also tends to increase. A negative value indicates a negative monotonic relationship, meaning that as the amount of sleep individuals get each night increases, their overall job satisfaction level tends to decrease. A value of 0 indicates no monotonic relationship, meaning that there is no clear pattern between the two variables.\n",
    "\n",
    "+ The interpretation of the Spearman's rank correlation coefficient depends on the context of the study and the strength of the correlation. Generally, a correlation coefficient of 0.1 to 0.3 is considered a weak correlation, 0.3 to 0.5 is a moderate correlation, and anything above 0.5 is a strong correlation. If the correlation is statistically significant (i.e., the probability of obtaining such a correlation by chance is very low), then you can conclude that there is a meaningful relationship between the two variables."
   ]
  },
  {
   "cell_type": "markdown",
   "id": "6dbd3403-3765-4cca-9dac-a47dc49f72eb",
   "metadata": {},
   "source": [
    "# Q3. Suppose you are conducting a study to examine the relationship between the number of hours of\n",
    "# exercise per week and body mass index (BMI) in a sample of adults. You collected data on both variables\n",
    "# for 50 participants. Calculate the Pearson correlation coefficient and the Spearman's rank correlation\n",
    "# between these two variables and compare the results.\n",
    "\n",
    "## To calculate the Pearson correlation coefficient and the Spearman's rank correlation between the number of hours of exercise per week and body mass index (BMI) in a sample of 50 adults, you need to follow these steps:\n",
    "\n",
    "1. Calculate the mean of the number of hours of exercise per week and the mean of the BMI.\n",
    "\n",
    "2. Calculate the standard deviation of the number of hours of exercise per week and the standard deviation of the BMI.\n",
    "\n",
    "3. Calculate the sum of the product of the deviations of number of hours of exercise per week and BMI from their respective means.\n",
    "\n",
    "4. Divide the sum of the product of the deviations by the product of the standard deviations of number of hours of exercise per week and BMI to obtain the Pearson correlation coefficient.\n",
    "\n",
    "5. Rank each variable separately, from the lowest to the highest value, assigning a rank of 1 to the lowest value, 2 to the next lowest value, and so on.\n",
    "\n",
    "6. Calculate the difference between the ranks for each participant.\n",
    "\n",
    "7. Calculate the squared difference between the ranks for each participant.\n",
    "\n",
    "8. Calculate the sum of the squared differences.\n",
    "\n",
    "9. Calculate the Spearman's rank correlation coefficient using the formula:\n",
    "\n",
    "r_s = 1 - (6 * sum of squared differences) / (n * (n^2 - 1))\n",
    "\n",
    "+ where n is the sample size.\n",
    "\n",
    "+ The resulting Pearson correlation coefficient and Spearman's rank correlation coefficient will each be a number between -1 and 1. The Pearson correlation coefficient measures the linear relationship between the two variables, while the Spearman's rank correlation measures the monotonic relationship between the two variables.\n",
    "\n",
    "+ If the relationship between the two variables is strictly linear, then the Pearson correlation coefficient and the Spearman's rank correlation coefficient will be similar. However, if the relationship is nonlinear, then the Pearson correlation coefficient may underestimate the strength of the relationship, while the Spearman's rank correlation coefficient will not be affected.\n",
    "\n",
    "+ In general, a Pearson correlation coefficient of 0.1 to 0.3 is considered a weak correlation, 0.3 to 0.5 is a moderate correlation, and anything above 0.5 is a strong correlation. A Spearman's rank correlation coefficient with the same range of values would also indicate a similar level of correlation.\n",
    "\n",
    "+ After calculating the Pearson correlation coefficient and Spearman's rank correlation coefficient, you can compare the results to see if there is a linear or monotonic relationship between the number of hours of exercise per week and BMI, and the strength of the relationship."
   ]
  },
  {
   "cell_type": "markdown",
   "id": "0c474e7e-2876-432e-a076-729a705306ce",
   "metadata": {},
   "source": [
    "# Q4. A researcher is interested in examining the relationship between the number of hours individuals\n",
    "# spend watching television per day and their level of physical activity. The researcher collected data on\n",
    "# both variables from a sample of 50 participants. Calculate the Pearson correlation coefficient between\n",
    "# these two variables.\n",
    "\n",
    "## To calculate the Pearson correlation coefficient between the number of hours individuals spend watching television per day and their level of physical activity in a sample of 50 participants, you need to follow these steps:\n",
    "\n",
    "1. Calculate the mean of the number of hours individuals spend watching television per day and the mean of the level of physical activity.\n",
    "\n",
    "2. Calculate the standard deviation of the number of hours individuals spend watching television per day and the standard deviation of the level of physical activity.\n",
    "\n",
    "3. Calculate the sum of the product of the deviations of the number of hours individuals spend watching television per day and the level of physical activity from their respective means.\n",
    "\n",
    "4. Divide the sum of the product of the deviations by the product of the standard deviations of the number of hours individuals spend watching television per day and the level of physical activity to obtain the Pearson correlation coefficient.\n",
    "\n",
    "+ The resulting Pearson correlation coefficient will be a number between -1 and 1. A Pearson correlation coefficient of 0 indicates no linear relationship between the two variables, while a Pearson correlation coefficient of 1 or -1 indicates a perfect linear relationship. A positive Pearson correlation coefficient indicates a positive linear relationship, meaning that as the number of hours individuals spend watching television per day increases, their level of physical activity tends to increase as well. A negative Pearson correlation coefficient indicates a negative linear relationship, meaning that as the number of hours individuals spend watching television per day increases, their level of physical activity tends to decrease.\n",
    "\n",
    "+ In general, a Pearson correlation coefficient of 0.1 to 0.3 is considered a weak correlation, 0.3 to 0.5 is a moderate correlation, and anything above 0.5 is a strong correlation. After calculating the Pearson correlation coefficient, you can interpret the strength and direction of the relationship between the number of hours individuals spend watching television per day and their level of physical activity in the sample of 50 participants."
   ]
  },
  {
   "cell_type": "code",
   "execution_count": 1,
   "id": "65547c19-0c33-43ee-b589-33e12937e2cc",
   "metadata": {},
   "outputs": [
    {
     "name": "stdout",
     "output_type": "stream",
     "text": [
      "Chi-Squared Test of Independence\n",
      "--------------------------------\n",
      "Chi-Squared Statistic: 18.0000\n",
      "P-Value: 0.2627\n",
      "Degrees of Freedom: 15\n",
      "Expected Frequencies:\n",
      "[[0.33333333 0.16666667 0.33333333 0.16666667]\n",
      " [0.33333333 0.16666667 0.33333333 0.16666667]\n",
      " [0.33333333 0.16666667 0.33333333 0.16666667]\n",
      " [0.33333333 0.16666667 0.33333333 0.16666667]\n",
      " [0.33333333 0.16666667 0.33333333 0.16666667]\n",
      " [0.33333333 0.16666667 0.33333333 0.16666667]]\n",
      "Phi Coefficient: 1.73\n"
     ]
    }
   ],
   "source": [
    "# Q5. A survey was conducted to examine the relationship between age and preference for a particular\n",
    "# brand of soft drink. The survey results are shown below:\n",
    "\n",
    "import pandas as pd\n",
    "import numpy as np\n",
    "import scipy.stats as stats\n",
    "\n",
    "# create a DataFrame with the survey results\n",
    "survey_results = pd.DataFrame({\n",
    "    'age': [25, 42, 37, 19, 31, 28],\n",
    "    'preference': ['Cake', 'Pepsi', 'Mountain', 'cake', 'Pepsi', 'Cake']\n",
    "})\n",
    "\n",
    "# create a contingency table with the frequency counts for each combination of age and soft drink preference\n",
    "contingency_table = pd.crosstab(survey_results['age'], survey_results['preference'])\n",
    "\n",
    "# perform a chi-squared test of independence on the contingency table\n",
    "chi2, p, dof, expected = stats.chi2_contingency(contingency_table)\n",
    "\n",
    "# print the results\n",
    "print('Chi-Squared Test of Independence')\n",
    "print('--------------------------------')\n",
    "print(f'Chi-Squared Statistic: {chi2:.4f}')\n",
    "print(f'P-Value: {p:.4f}')\n",
    "print(f'Degrees of Freedom: {dof}')\n",
    "print('Expected Frequencies:')\n",
    "print(expected)\n",
    "\n",
    "# calculate the phi coefficient to measure the strength of the relationship between age and preference\n",
    "phi_coefficient = np.sqrt(chi2 / len(survey_results))\n",
    "print(f'Phi Coefficient: {phi_coefficient:.2f}')"
   ]
  },
  {
   "cell_type": "code",
   "execution_count": 2,
   "id": "3e6a8cfd-56c4-4d01-b2bf-bdf294ee18c5",
   "metadata": {},
   "outputs": [
    {
     "name": "stdout",
     "output_type": "stream",
     "text": [
      "The Pearson correlation coefficient is: 0.9786325996199348\n"
     ]
    }
   ],
   "source": [
    "# Q6. A company is interested in examining the relationship between the number of sales calls made per day\n",
    "# and the number of sales made per week. The company collected data on both variables from a sample of\n",
    "# 30 sales representatives. Calculate the Pearson correlation coefficient between these two variables.\n",
    "\n",
    "## using the NumPy library to calculate the Pearson correlation coefficient:\n",
    "\n",
    "\n",
    "import numpy as np\n",
    "\n",
    "# create sample data\n",
    "sales_calls = np.array([20, 25, 30, 15, 22, 28, 17, 21, 23, 27, 29, 19, 16, 18, 24, 26, 31, 14, 32, 33, 34, 35, 36, 37, 38, 39, 40, 41, 42, 43])\n",
    "sales_per_week = np.array([5, 7, 9, 3, 6, 8, 4, 5, 6, 8, 9, 4, 3, 4, 7, 8, 10, 2, 11, 12, 13, 14, 15, 16, 17, 18, 19, 20, 21, 22])\n",
    "\n",
    "# calculate Pearson correlation coefficient\n",
    "corr_coef = np.corrcoef(sales_calls, sales_per_week)[0][1]\n",
    "\n",
    "print(\"The Pearson correlation coefficient is:\", corr_coef)\n"
   ]
  },
  {
   "cell_type": "code",
   "execution_count": null,
   "id": "d5df8492-f28e-4c7d-b341-e58aaa6987fb",
   "metadata": {},
   "outputs": [],
   "source": []
  }
 ],
 "metadata": {
  "kernelspec": {
   "display_name": "Python 3 (ipykernel)",
   "language": "python",
   "name": "python3"
  },
  "language_info": {
   "codemirror_mode": {
    "name": "ipython",
    "version": 3
   },
   "file_extension": ".py",
   "mimetype": "text/x-python",
   "name": "python",
   "nbconvert_exporter": "python",
   "pygments_lexer": "ipython3",
   "version": "3.10.8"
  }
 },
 "nbformat": 4,
 "nbformat_minor": 5
}
