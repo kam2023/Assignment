{
 "cells": [
  {
   "cell_type": "markdown",
   "id": "4b3f12a1-40c1-4e59-b0a1-80941c23f292",
   "metadata": {},
   "source": [
    "# Q1: What is MongoDB? Explain non-relational databases in short. In which scenarios it is preferred to use MongoDB over SQL databases?\n",
    "\n",
    "## MongoDB is a popular document-oriented NoSQL database that uses a flexible and scalable document data model to store and manage data. Unlike traditional SQL databases that use tables and rows to organize data, MongoDB stores data in collections of JSON-like documents, allowing for more dynamic and scalable data models.\n",
    "\n",
    "+ Non-relational databases, also known as NoSQL databases, are databases that do not rely on the traditional relational database model used in SQL databases. Instead, they use a variety of data models to store and manage data, including key-value stores, document-oriented databases, column-family stores, and graph databases. Non-relational databases are often preferred for their ability to handle large amounts of unstructured or semi-structured data, their flexibility, and their scalability.\n",
    "\n",
    "+ MongoDB is often preferred over SQL databases in scenarios where the data is unstructured or semi-structured, and where scalability and performance are critical. Some examples of these scenarios include:\n",
    "\n",
    "1. Big Data and Real-Time Analytics: MongoDB can handle large volumes of unstructured data, making it a popular choice for big data and real-time analytics applications.\n",
    "\n",
    "2. Agile Development: MongoDB's flexible schema makes it a great choice for agile development teams who need to quickly change their data models as their application evolves.\n",
    "\n",
    "3. Cloud Computing: MongoDB's ability to easily scale out on distributed systems makes it a popular choice for cloud-based applications.\n",
    "\n",
    "4. Mobile and Web Applications: MongoDB's flexible schema and scalability make it a good fit for mobile and web applications that need to handle large volumes of data.\n",
    "\n",
    "+ Overall, MongoDB's flexibility, scalability, and performance make it a popular choice for many modern applications, particularly those that need to handle large amounts of unstructured data."
   ]
  },
  {
   "cell_type": "markdown",
   "id": "9a57a72d-269c-4767-ae4d-cf7277d1038c",
   "metadata": {},
   "source": [
    "# Q2: State and Explain the features of MongoDB.\n",
    "\n",
    "## MongoDB is a popular document-oriented NoSQL database that offers several features that make it a flexible and scalable option for storing and managing data. Here are some of the key features of MongoDB:\n",
    "\n",
    "1. Document-oriented data model: MongoDB uses a flexible document-oriented data model that allows for dynamic and scalable data structures.\n",
    "\n",
    "2. Scalability and High Availability: MongoDB can scale horizontally across multiple nodes, making it highly available and fault-tolerant.\n",
    "\n",
    "3. Indexing: MongoDB supports various types of indexes, including single field, compound, multi-key, geospatial, and text indexes, making it easier to query large datasets.\n",
    "\n",
    "4. Aggregation Framework: MongoDB has a powerful aggregation framework that allows for complex queries and data transformations.\n",
    "\n",
    "5. Replication: MongoDB can automatically replicate data across multiple nodes to ensure high availability and data redundancy.\n",
    "\n",
    "6. Sharding: MongoDB's sharding feature allows for horizontal partitioning of data across multiple servers to handle large datasets.\n",
    "\n",
    "7. ACID Transactions: MongoDB supports ACID transactions for specific operations, allowing for data consistency and integrity.\n",
    "\n",
    "8. Rich Query Language: MongoDB's query language supports complex queries, regular expressions, geospatial queries, and more.\n",
    "\n",
    "9. GridFS: MongoDB's GridFS feature allows for efficient storage and retrieval of large files, such as images and videos.\n",
    "\n",
    "+ Overall, MongoDB's flexible data model, scalability, indexing, replication, and query capabilities make it a popular choice for many modern applications that require high availability and scalability."
   ]
  },
  {
   "cell_type": "code",
   "execution_count": null,
   "id": "135856af-e0ce-4e8a-a96e-68765e4a686d",
   "metadata": {},
   "outputs": [],
   "source": [
    "# Q3: Write a code to connect MongoDB to Python. Also, create a database and a collection in MongoDB.\n",
    "\n",
    "## code to connect to MongoDB in Python, create a database, and a collection:\n",
    "\n",
    "# Importing the necessary libraries\n",
    "from pymongo import MongoClient\n",
    "\n",
    "# Connecting to MongoDB\n",
    "client = MongoClient('mongodb://localhost:27017/')\n",
    "\n",
    "# Creating a new database called 'mydatabase'\n",
    "mydb = client['mydatabase']\n",
    "\n",
    "# Creating a new collection called 'customers' in 'mydatabase'\n",
    "customers = mydb['customers']\n",
    "\n",
    "# Adding a new document to 'customers' collection\n",
    "customer = {\"name\": \"John Doe\", \"email\": \"johndoe@example.com\"}\n",
    "customers.insert_one(customer)\n",
    "\n",
    "# Retrieving all the documents in 'customers' collection\n",
    "all_customers = customers.find()\n",
    "\n",
    "# Printing all the documents\n",
    "for customer in all_customers:\n",
    "    print(customer)\n"
   ]
  },
  {
   "cell_type": "markdown",
   "id": "73b122c2-a0ae-4e73-9e57-b937c35ab8e5",
   "metadata": {},
   "source": [
    "+ In this code, we first import the 'MongoClient' class from the 'pymongo' library, which is used to connect to MongoDB. We then create a new client and connect to a MongoDB instance running on 'localhost' at port '27017'.\n",
    "\n",
    "+ Next, we create a new database called 'mydatabase' using the 'client' object. We then create a new collection called 'customers' inside 'mydatabase' using the 'mydb' object.\n",
    "\n",
    "+ We then add a new document to the 'customers' collection by creating a dictionary containing the customer details and calling the 'insert_one' method on the 'customers' collection.\n",
    "\n",
    "+ Finally, we retrieve all the documents in the 'customers' collection using the 'find' method and print them using a 'for' loop."
   ]
  },
  {
   "cell_type": "markdown",
   "id": "a91f1540-9b4e-4700-a2a8-e792c9fa3bbf",
   "metadata": {},
   "source": [
    "+ In this code, we first connect to MongoDB and access the 'mydatabase' database and 'customers' collection using the 'client' object.\n",
    "\n",
    "+ We then insert one record into the 'customers' collection using the 'insert_one' method and print the inserted record's ID. We then insert multiple records into the 'customers' collection using the 'insert_many' method and print the inserted records' IDs.\n",
    "\n",
    "+ Next, we use the 'find_one' method to find the record with the name \"Jane Doe\" and print it. Finally, we use the 'find' method to find all the records in the 'customers' collection and print them using a 'for' loop."
   ]
  },
  {
   "cell_type": "code",
   "execution_count": null,
   "id": "1131759e-ea28-4952-bf2e-9b6f8467b99f",
   "metadata": {},
   "outputs": [],
   "source": [
    "# Q4:  Using the database and the collection created in question number 3, write a code to insert one record, and insert many records. Use the find() and find_one() methods to print the inserted record.\n",
    "\n",
    "## code to insert one record and multiple records into the 'customers' collection we created earlier, and then print the inserted record using 'find()' and 'find_one()' methods:\n",
    "\n",
    "# Importing the necessary libraries\n",
    "from pymongo import MongoClient\n",
    "\n",
    "# Connecting to MongoDB\n",
    "client = MongoClient('mongodb://localhost:27017/')\n",
    "\n",
    "# Accessing the 'mydatabase' database and 'customers' collection\n",
    "mydb = client['mydatabase']\n",
    "customers = mydb['customers']\n",
    "\n",
    "# Inserting one record\n",
    "customer = {\"name\": \"Jane Doe\", \"email\": \"janedoe@example.com\"}\n",
    "result = customers.insert_one(customer)\n",
    "print(\"Inserted record id:\", result.inserted_id)\n",
    "\n",
    "# Inserting multiple records\n",
    "customers_list = [\n",
    "    {\"name\": \"Bob Smith\", \"email\": \"bobsmith@example.com\"},\n",
    "    {\"name\": \"Alice Johnson\", \"email\": \"alicejohnson@example.com\"},\n",
    "    {\"name\": \"Samuel Lee\", \"email\": \"samuelle@example.com\"}\n",
    "]\n",
    "result = customers.insert_many(customers_list)\n",
    "print(\"Inserted records ids:\", result.inserted_ids)\n",
    "\n",
    "# Finding one record\n",
    "one_customer = customers.find_one({\"name\": \"Jane Doe\"})\n",
    "print(\"One record:\", one_customer)\n",
    "\n",
    "# Finding all records\n",
    "all_customers = customers.find()\n",
    "for customer in all_customers:\n",
    "    print(customer)"
   ]
  },
  {
   "cell_type": "markdown",
   "id": "29ec4aff-41ec-4971-87c8-d4c02cf0dc08",
   "metadata": {},
   "source": [
    "# Q5: Explain how you can use the find() method to query the MongoDB database. Write a simple code to demonstrate this.\n",
    "\n",
    "## The 'find()' method in MongoDB is used to query the database and retrieve documents that match the specified query criteria. The 'find()' method takes a query object as an argument and returns a cursor object, which can be used to iterate over the matching documents.\n",
    "\n",
    "+ The query object is a dictionary that specifies the search criteria for the query. The keys in the dictionary represent the fields to be matched, and the values represent the search criteria for those fields."
   ]
  },
  {
   "cell_type": "code",
   "execution_count": null,
   "id": "fdbbca36-6149-420f-9fa9-8a1802879a33",
   "metadata": {},
   "outputs": [],
   "source": [
    "# code to demonstrate how to use the 'find()' method in MongoDB:\n",
    "\n",
    "# Importing the necessary libraries\n",
    "from pymongo import MongoClient\n",
    "\n",
    "# Connecting to MongoDB\n",
    "client = MongoClient('mongodb://localhost:27017/')\n",
    "\n",
    "# Accessing the 'mydatabase' database and 'customers' collection\n",
    "mydb = client['mydatabase']\n",
    "customers = mydb['customers']\n",
    "\n",
    "# Querying the 'customers' collection\n",
    "query = {\"name\": \"John Doe\"}\n",
    "results = customers.find(query)\n",
    "\n",
    "# Printing the matching documents\n",
    "for result in results:\n",
    "    print(result)\n"
   ]
  },
  {
   "cell_type": "markdown",
   "id": "61ac7045-3fa9-461a-a291-3a013f0ddcff",
   "metadata": {},
   "source": [
    "+ In this code, we first connect to MongoDB and access the 'mydatabase' database and 'customers' collection using the 'client' object.\n",
    "\n",
    "+ We then create a query object that specifies that we want to find all the documents in the 'customers'  collection where the 'name' field is equal to \"John Doe\". We pass this query object to the 'find()' method, which returns a cursor object.\n",
    "\n",
    "+ We then use a 'for' loop to iterate over the matching documents and print them to the console.\n",
    "\n",
    "+ Note that this is just an example code, and you may need to modify it based on your specific use case. Additionally, you can also use various query operators such as '$gt', '$lt', '$in', '$and', '$or', etc. to create complex queries using the 'find()' method.\n"
   ]
  },
  {
   "cell_type": "markdown",
   "id": "944c5a58-50fb-4cba-a34d-7debe0cdd997",
   "metadata": {},
   "source": [
    "# Q6:  Explain the sort() method. Give an example to demonstrate sorting in MongoDB.\n",
    "\n",
    "# The 'sort()' method in MongoDB is used to sort the results of a query in ascending or descending order based on one or more fields in the documents. The 'sort()' method takes a dictionary object as an argument, where the keys represent the fields to be sorted, and the values represent the sort order (1 for ascending and -1 for descending)."
   ]
  },
  {
   "cell_type": "code",
   "execution_count": null,
   "id": "b96f745b-683e-4d7b-a43e-ec8333eac204",
   "metadata": {},
   "outputs": [],
   "source": [
    "# code to demonstrate how to use the sort() method in MongoDB:\n",
    "\n",
    "# Importing the necessary libraries\n",
    "from pymongo import MongoClient\n",
    "\n",
    "# Connecting to MongoDB\n",
    "client = MongoClient('mongodb://localhost:27017/')\n",
    "\n",
    "# Accessing the 'mydatabase' database and 'customers' collection\n",
    "mydb = client['mydatabase']\n",
    "customers = mydb['customers']\n",
    "\n",
    "# Querying the 'customers' collection and sorting the results in descending order\n",
    "results = customers.find().sort(\"name\", -1)\n",
    "\n",
    "# Printing the sorted documents\n",
    "for result in results:\n",
    "    print(result)\n"
   ]
  },
  {
   "cell_type": "markdown",
   "id": "92c07b3a-649d-4cf3-8d6a-b671cb9dcd02",
   "metadata": {},
   "source": [
    "+ In this code, we first connect to MongoDB and access the 'mydatabase' database and 'customers' collection using the 'client' object.\n",
    "\n",
    "+ We then use the 'find()' method to query all the documents in the 'customers' collection and use the 'sort()' method to sort the results in descending order based on the 'name' field. We pass a dictionary object to the 'sort()' method with the key 'name' and the value '-1', which specifies the descending order.\n",
    "\n",
    "+ We then use a 'for' loop to iterate over the sorted documents and print them to the console.\n",
    "\n",
    "+ Additionally, you can also use the 'limit()' and 'skip()' methods to limit the number of results and skip a certain number of documents in the query result set."
   ]
  },
  {
   "cell_type": "markdown",
   "id": "ec4f82fa-31c0-4802-b5cd-cc6fcba69245",
   "metadata": {},
   "source": [
    "# Q7: Explain why delete_one(), delete_many(), and drop() is used.\n",
    "\n",
    "+ In MongoDB, the 'delete_one()', 'delete_many()', and 'drop()' methods are used to remove data from a collection or a database.\n",
    "\n",
    "+ The 'delete_one()' method is used to remove a single document from a collection that matches the specified filter. If multiple documents match the filter, only the first document that matches the filter will be deleted.\n",
    "\n",
    "+ The 'delete_many()' method is used to remove multiple documents from a collection that match the specified filter. All the documents that match the filter will be deleted.\n",
    "\n",
    "+ The 'drop()' method is used to remove an entire collection or database from MongoDB. When you drop a collection, all the documents in the collection are removed. Similarly, when you drop a database, all the collections in the database are removed.\n",
    "\n",
    "+ These methods are used to remove data from MongoDB when it is no longer needed or when it is no longer relevant to the application. They can also be used to clean up test data or to reset the database to a known state.\n",
    "\n",
    "+ It's important to note that these methods permanently delete data from the database, so you should use them with caution. It's also recommended to take a backup of the database before performing any deletion operations to avoid the accidental loss of data.\n"
   ]
  },
  {
   "cell_type": "code",
   "execution_count": null,
   "id": "11a08a64-ce49-478b-a105-5cc69a4be73e",
   "metadata": {},
   "outputs": [],
   "source": []
  }
 ],
 "metadata": {
  "kernelspec": {
   "display_name": "Python 3 (ipykernel)",
   "language": "python",
   "name": "python3"
  },
  "language_info": {
   "codemirror_mode": {
    "name": "ipython",
    "version": 3
   },
   "file_extension": ".py",
   "mimetype": "text/x-python",
   "name": "python",
   "nbconvert_exporter": "python",
   "pygments_lexer": "ipython3",
   "version": "3.10.8"
  }
 },
 "nbformat": 4,
 "nbformat_minor": 5
}
