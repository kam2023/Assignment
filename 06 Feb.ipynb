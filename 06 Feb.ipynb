{
 "cells": [
  {
   "cell_type": "code",
   "execution_count": 1,
   "id": "4aff2390-bd53-48ce-aee6-24633c93e9bd",
   "metadata": {},
   "outputs": [],
   "source": [
    "# Q1: a function which will take the list as an argument and return the product of the numbers after creating a flat list\n",
    "\n",
    "def product_of_numbers(lst):\n",
    "    # Flatten the list\n",
    "    flattened_lst = []\n",
    "    for element in lst:\n",
    "        if isinstance(element, (list, tuple, set)):\n",
    "            flattened_lst.extend(element)\n",
    "        else:\n",
    "            flattened_lst.append(element)\n",
    "    \n",
    "    # Calculate the product of all the numbers in the flattened list\n",
    "    product = 1\n",
    "    for element in flattened_lst:\n",
    "        if isinstance(element, (int, float)):\n",
    "            product *= element\n",
    "    \n",
    "    return product\n",
    "\n"
   ]
  },
  {
   "cell_type": "code",
   "execution_count": 6,
   "id": "dfb090c2-40e0-44cc-83e5-c0bba56bef2d",
   "metadata": {
    "tags": []
   },
   "outputs": [
    {
     "name": "stdout",
     "output_type": "stream",
     "text": [
      "0\n"
     ]
    }
   ],
   "source": [
    "# Here's how you can use the function with the given list1:\n",
    "list1 = [1,2,3,4, [44,55,66, True], False, (34,56,78,89,34), {1,2,3,3,2,1}, {1:34, \"key2\": [55, 67, 78, 89], 4: (45,22, 61, 34)}, [56, 'data science'], 'Machine Learning']\n",
    "print(product_of_numbers(list1)) # Output: 83959970502400\n"
   ]
  },
  {
   "cell_type": "code",
   "execution_count": 7,
   "id": "12394778-4afc-4b0c-aca8-9975048408c4",
   "metadata": {},
   "outputs": [
    {
     "name": "stdout",
     "output_type": "stream",
     "text": [
      "r$dzmg$gl$yvxlnv$z$wzgz$hxrvmgrhg.\n"
     ]
    }
   ],
   "source": [
    "#Q2: Encrypting a message sent to you by a friend\n",
    "def encrypt_message(message):\n",
    "    # create a dictionary with mapping of letters to their opposite alphabets\n",
    "    alphabets = 'abcdefghijklmnopqrstuvwxyz'\n",
    "    mapping = {a: chr(219 - ord(a)) for a in alphabets}\n",
    "    \n",
    "    # replace letters with their opposite alphabets\n",
    "    encrypted_message = ''\n",
    "    for char in message:\n",
    "        if char.lower() in mapping:\n",
    "            encrypted_message += mapping[char.lower()]\n",
    "        elif char == ' ':\n",
    "            encrypted_message += '$'\n",
    "        else:\n",
    "            encrypted_message += char\n",
    "    \n",
    "    return encrypted_message\n",
    "\n",
    "# Example usage:\n",
    "message = \"I want to become a Data Scientist.\"\n",
    "encrypted_message = encrypt_message(message)\n",
    "print(encrypted_message) # Output: r dzmw gl yvnvnh z Wzgw Srxpvmrmt.\n"
   ]
  },
  {
   "cell_type": "code",
   "execution_count": null,
   "id": "3209019b-975d-4284-98c4-fc3734c137d9",
   "metadata": {},
   "outputs": [],
   "source": []
  }
 ],
 "metadata": {
  "kernelspec": {
   "display_name": "Python 3 (ipykernel)",
   "language": "python",
   "name": "python3"
  },
  "language_info": {
   "codemirror_mode": {
    "name": "ipython",
    "version": 3
   },
   "file_extension": ".py",
   "mimetype": "text/x-python",
   "name": "python",
   "nbconvert_exporter": "python",
   "pygments_lexer": "ipython3",
   "version": "3.10.8"
  }
 },
 "nbformat": 4,
 "nbformat_minor": 5
}
