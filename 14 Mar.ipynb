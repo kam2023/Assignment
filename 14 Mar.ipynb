{
 "cells": [
  {
   "cell_type": "code",
   "execution_count": 1,
   "id": "cd66d6f8-b86c-4895-9055-e38952152918",
   "metadata": {},
   "outputs": [],
   "source": [
    "# Q1. Write a Python function that takes in two arrays of data and calculates the F-value for a variance ratio\n",
    "# test. The function should return the F-value and the corresponding p-value for the test.\n",
    "\n",
    "import numpy as np\n",
    "from scipy import stats\n",
    "\n",
    "def variance_ratio_test(data1, data2):\n",
    "    # Calculate the variance of each data set\n",
    "    var1 = np.var(data1)\n",
    "    var2 = np.var(data2)\n",
    "\n",
    "    # Calculate the F-value and p-value\n",
    "    f_value = var1/var2\n",
    "    p_value = stats.f.sf(f_value, len(data1)-1, len(data2)-1)\n",
    "\n",
    "    return f_value, p_value\n"
   ]
  },
  {
   "cell_type": "code",
   "execution_count": 2,
   "id": "85291d25-eaea-442a-9394-fc7986ae5778",
   "metadata": {},
   "outputs": [
    {
     "name": "stdout",
     "output_type": "stream",
     "text": [
      "F-value: 0.25\n",
      "p-value: 0.896\n"
     ]
    }
   ],
   "source": [
    "#You can call this function by passing in two arrays of data, like this:\n",
    "\n",
    "data1 = [1, 2, 3, 4, 5]\n",
    "data2 = [2, 4, 6, 8, 10]\n",
    "\n",
    "f_value, p_value = variance_ratio_test(data1, data2)\n",
    "\n",
    "print(\"F-value:\", f_value)\n",
    "print(\"p-value:\", p_value)\n"
   ]
  },
  {
   "cell_type": "code",
   "execution_count": 3,
   "id": "d605f150-1e18-413f-9ad5-e76d9f711663",
   "metadata": {},
   "outputs": [],
   "source": [
    "# Q2. Given a significance level of 0.05 and the degrees of freedom for the numerator and denominator of an\n",
    "# F-distribution, write a Python function that returns the critical F-value for a two-tailed test.\n",
    "\n",
    "from scipy import stats\n",
    "\n",
    "def critical_f_value(df_num, df_denom, alpha=0.05):\n",
    "    # Calculate the critical F-value\n",
    "    f_crit = stats.f.isf(alpha/2, df_num, df_denom)\n",
    "\n",
    "    return f_crit\n"
   ]
  },
  {
   "cell_type": "code",
   "execution_count": 4,
   "id": "ecf07f30-70f7-409a-91c9-b1689d190823",
   "metadata": {},
   "outputs": [
    {
     "name": "stdout",
     "output_type": "stream",
     "text": [
      "Critical F-value: 4.825621493405406\n"
     ]
    }
   ],
   "source": [
    "# You can call this function by passing in the degrees of freedom for the numerator and denominator of an F-distribution, like this:\n",
    "\n",
    "df_num = 3\n",
    "df_denom = 10\n",
    "alpha = 0.05\n",
    "\n",
    "f_crit = critical_f_value(df_num, df_denom, alpha)\n",
    "\n",
    "print(\"Critical F-value:\", f_crit)\n"
   ]
  },
  {
   "cell_type": "code",
   "execution_count": null,
   "id": "20c01552-cfec-4157-93d9-71ac4aba882f",
   "metadata": {},
   "outputs": [],
   "source": [
    "# Q3. Write a Python program that generates random samples from two normal distributions with known\n",
    "# variances and uses an F-test to determine if the variances are equal. The program should output the F-\n",
    "# value, degrees of freedom, and p-value for the test.\n",
    "\n",
    "import numpy as np\n",
    "from scipy import stats\n",
    "\n",
    "# Generate random samples from two normal distributions with known variances\n",
    "n1 = 50\n",
    "n2 = 60\n",
    "mean1 = 10\n",
    "mean2 = 10\n",
    "var1 = 4\n",
    "var2 = 3\n",
    "data1 = np.random.normal(mean1, np.sqrt(var1), n1)\n",
    "data2 = np.random.normal(mean2, np.sqrt(var2), n2)\n",
    "\n",
    "# Perform F-test for equal variances\n",
    "f_value, p_value = stats.ftest(data1, data2)\n",
    "\n",
    "# Calculate the degrees of freedom for the F-distribution\n",
    "df_num = len(data1) - 1\n",
    "df_denom = len(data2) - 1\n",
    "\n",
    "# Print results\n",
    "print(\"F-value:\", f_value)\n",
    "print(\"Degrees of freedom (numerator, denominator):\", df_num, df_denom)\n",
    "print(\"p-value:\", p_value)\n"
   ]
  },
  {
   "cell_type": "markdown",
   "id": "5d5752c6-3f9f-46aa-a5b2-60fafc06ad70",
   "metadata": {},
   "source": [
    "# Q4.The variances of two populations are known to be 10 and 15. A sample of 12 observations is taken from\n",
    "# each population. Conduct an F-test at the 5% significance level to determine if the variances are\n",
    "# significantly different.\n",
    "\n",
    "\n",
    "# to conduct an F-test at the 5% significance level to determine if the variances of two populations with known variances 10 and 15 are significantly different, we can follow these steps:\n",
    "\n",
    "\n",
    "1. Set up the null and alternative hypotheses:\n",
    "\n",
    "Null hypothesis: The variances of the two populations are equal (σ1^2 = σ2^2)\n",
    "\n",
    "Alternative hypothesis: The variances of the two populations are not equal (σ1^2 ≠ σ2^2)\n",
    "\n",
    "2. Determine the significance level (α) and degrees of freedom for the F-distribution:\n",
    "\n",
    "α = 0.05\n",
    "\n",
    "Degrees of freedom (numerator, denominator) = (11, 11) (since we have 12 observations in each sample and we are testing for a difference in variances)\n",
    "\n",
    "3. Calculate the F-value using the formula:\n",
    "\n",
    "F = S1^2 / S2^2\n",
    "\n",
    "where S1^2 and S2^2 are the sample variances of the two populations.\n",
    "\n",
    "4. Find the critical F-value from an F-distribution table or using a calculator with the degrees of freedom and the significance level.\n",
    "\n",
    "5. Compare the calculated F-value to the critical F-value:\n",
    "\n",
    "If the calculated F-value is greater than the critical F-value, reject the null hypothesis and conclude that the variances are significantly different. Otherwise, fail to reject the null hypothesis and conclude that there is not enough evidence to support the claim that the variances are different."
   ]
  },
  {
   "cell_type": "code",
   "execution_count": 6,
   "id": "a8b3bb6b-a98e-44dd-8e1b-36cd2a882f79",
   "metadata": {},
   "outputs": [
    {
     "name": "stdout",
     "output_type": "stream",
     "text": [
      "Fail to reject the null hypothesis.\n",
      "The variances of the two populations are equal\n",
      "F-value: 0.788852867090113\n",
      "Critical F-value: 3.473699051085809\n"
     ]
    }
   ],
   "source": [
    "# let's implement these steps in Python:\n",
    "\n",
    "import numpy as np\n",
    "from scipy import stats\n",
    "\n",
    "# Set up the null and alternative hypotheses\n",
    "# Null hypothesis: The variances of the two populations are equal\n",
    "# Alternative hypothesis: The variances of the two populations are not equal\n",
    "null_hypothesis = \"The variances of the two populations are equal\"\n",
    "alternative_hypothesis = \"The variances of the two populations are not equal\"\n",
    "\n",
    "# Set the significance level\n",
    "alpha = 0.05\n",
    "\n",
    "# Set the known variances and sample sizes\n",
    "var1 = 10\n",
    "var2 = 15\n",
    "n1 = 12\n",
    "n2 = 12\n",
    "\n",
    "# Generate random samples from the two populations\n",
    "pop1 = np.random.normal(0, np.sqrt(var1), n1)\n",
    "pop2 = np.random.normal(0, np.sqrt(var2), n2)\n",
    "\n",
    "# Calculate the sample variances\n",
    "s1 = np.var(pop1, ddof=1)\n",
    "s2 = np.var(pop2, ddof=1)\n",
    "\n",
    "# Calculate the F-value\n",
    "f_value = s1 / s2\n",
    "\n",
    "# Calculate the critical F-value\n",
    "f_crit = stats.f.ppf(1 - alpha/2, n1-1, n2-1)\n",
    "\n",
    "# Determine if we reject or fail to reject the null hypothesis\n",
    "if f_value > f_crit or f_value < 1/f_crit:\n",
    "    print(\"Reject the null hypothesis.\")\n",
    "    print(alternative_hypothesis)\n",
    "else:\n",
    "    print(\"Fail to reject the null hypothesis.\")\n",
    "    print(null_hypothesis)\n",
    "\n",
    "# Print the calculated F-value and critical F-value\n",
    "print(\"F-value:\", f_value)\n",
    "print(\"Critical F-value:\", f_crit)\n"
   ]
  },
  {
   "cell_type": "markdown",
   "id": "10b94802-e128-44f8-8e56-9092d9985741",
   "metadata": {},
   "source": [
    "# Q5. A manufacturer claims that the variance of the diameter of a certain product is 0.005. A sample of 25\n",
    "# products is taken, and the sample variance is found to be 0.006. Conduct an F-test at the 1% significance\n",
    "# level to determine if the claim is justified.\n",
    "\n",
    "# to conduct an F-test at the 1% significance level to determine if the claim that the variance of the diameter of a certain product is 0.005 is justified, we can follow these steps:\n",
    "\n",
    "1. Set up the null and alternative hypotheses:\n",
    "\n",
    "Null hypothesis: The variance of the diameter of the product is equal to 0.005 (σ^2 = 0.005)\n",
    "\n",
    "Alternative hypothesis: The variance of the diameter of the product is not equal to 0.005 (σ^2 ≠ 0.005)\n",
    "\n",
    "2. Determine the significance level (α) and degrees of freedom for the F-distribution:\n",
    "\n",
    "α = 0.01\n",
    "\n",
    "Degrees of freedom (numerator, denominator) = (24, 24) (since we have 25 observations in the sample and we are testing for a difference in variances)\n",
    "\n",
    "3. Calculate the F-value using the formula:\n",
    "\n",
    "F = S^2 / σ^2\n",
    "\n",
    "where S^2 is the sample variance and σ^2 is the claimed variance.\n",
    "\n",
    "4. Find the critical F-value from an F-distribution table or using a calculator with the degrees of freedom and the significance level.\n",
    "\n",
    "5. Compare the calculated F-value to the critical F-value:\n",
    "\n",
    "If the calculated F-value is greater than the critical F-value or less than 1 over the critical F-value, reject the null hypothesis and conclude that the claim is not justified. Otherwise, fail to reject the null hypothesis and conclude that there is not enough evidence to support the claim."
   ]
  },
  {
   "cell_type": "code",
   "execution_count": 7,
   "id": "88d1b4cf-35ba-4953-947d-a6a70c24394a",
   "metadata": {},
   "outputs": [
    {
     "name": "stdout",
     "output_type": "stream",
     "text": [
      "Fail to reject the null hypothesis.\n",
      "The variance of the diameter of the product is equal to 0.005\n",
      "F-value: 0.9058914727072327\n",
      "Critical F-value: 2.966741631292762\n"
     ]
    }
   ],
   "source": [
    "# let's implement these steps in Python:\n",
    "\n",
    "import numpy as np\n",
    "from scipy import stats\n",
    "\n",
    "# Set up the null and alternative hypotheses\n",
    "# Null hypothesis: The variance of the diameter of the product is equal to 0.005\n",
    "# Alternative hypothesis: The variance of the diameter of the product is not equal to 0.005\n",
    "null_hypothesis = \"The variance of the diameter of the product is equal to 0.005\"\n",
    "alternative_hypothesis = \"The variance of the diameter of the product is not equal to 0.005\"\n",
    "\n",
    "# Set the significance level\n",
    "alpha = 0.01\n",
    "\n",
    "# Set the claimed variance and sample size\n",
    "var_claimed = 0.005\n",
    "n = 25\n",
    "\n",
    "# Generate a random sample from the population\n",
    "pop = np.random.normal(0, np.sqrt(var_claimed), n)\n",
    "\n",
    "# Calculate the sample variance\n",
    "s_squared = np.var(pop, ddof=1)\n",
    "\n",
    "# Calculate the F-value\n",
    "f_value = s_squared / var_claimed\n",
    "\n",
    "# Calculate the critical F-value\n",
    "f_crit = stats.f.ppf(1 - alpha/2, n-1, n-1)\n",
    "\n",
    "# Determine if we reject or fail to reject the null hypothesis\n",
    "if f_value > f_crit or f_value < 1/f_crit:\n",
    "    print(\"Reject the null hypothesis.\")\n",
    "    print(alternative_hypothesis)\n",
    "else:\n",
    "    print(\"Fail to reject the null hypothesis.\")\n",
    "    print(null_hypothesis)\n",
    "\n",
    "# Print the calculated F-value and critical F-value\n",
    "print(\"F-value:\", f_value)\n",
    "print(\"Critical F-value:\", f_crit)\n"
   ]
  },
  {
   "cell_type": "code",
   "execution_count": 8,
   "id": "da09e048-2064-422d-8a83-1c818abdd165",
   "metadata": {},
   "outputs": [],
   "source": [
    "# Q6. Write a Python function that takes in the degrees of freedom for the numerator and denominator of an\n",
    "# F-distribution and calculates the mean and variance of the distribution. The function should return the\n",
    "# mean and variance as a tuple.\n",
    "\n",
    "def f_distribution_mean_and_variance(df_num, df_den):\n",
    "    \"\"\"\n",
    "    Calculates the mean and variance of an F-distribution given the degrees of freedom\n",
    "    for the numerator and denominator.\n",
    "\n",
    "    Parameters:\n",
    "    df_num (int): Degrees of freedom for the numerator.\n",
    "    df_den (int): Degrees of freedom for the denominator.\n",
    "\n",
    "    Returns:\n",
    "    (float, float): A tuple containing the mean and variance of the F-distribution.\n",
    "    \"\"\"\n",
    "    if df_num <= 0 or df_den <= 0:\n",
    "        raise ValueError(\"Degrees of freedom must be positive integers.\")\n",
    "    \n",
    "    mean = df_den / (df_den - 2)\n",
    "    variance = (2 * (df_den ** 2) * (df_num + df_den - 2)) / \\\n",
    "               (df_num * (df_den - 2) ** 2 * (df_den - 4))\n",
    "    \n",
    "    return (mean, variance)\n"
   ]
  },
  {
   "cell_type": "markdown",
   "id": "eb1f5f76-a7aa-4496-9884-6c485d0a8905",
   "metadata": {},
   "source": [
    "# Q7. A random sample of 10 measurements is taken from a normal population with unknown variance. The\n",
    "# sample variance is found to be 25. Another random sample of 15 measurements is taken from another\n",
    "# normal population with unknown variance, and the sample variance is found to be 20. Conduct an F-test\n",
    "# at the 10% significance level to determine if the variances are significantly different.\n",
    "\n",
    "+ To conduct an F-test to determine if the variances of two populations are significantly different, we use the following hypotheses:\n",
    "\n",
    "H0: σ1^2 = σ2^2 (the variances are equal)\n",
    "Ha: σ1^2 ≠ σ2^2 (the variances are not equal)\n",
    "\n",
    "We will use an alpha level of 0.10 for this test.\n",
    "\n",
    "The test statistic for the F-test is given by:\n",
    "\n",
    "F = s1^2 / s2^2\n",
    "\n",
    "+ where s1^2 is the sample variance for the first sample, and s2^2 is the sample variance for the second sample. The degrees of freedom for the F-distribution are df1 = n1 - 1 and df2 = n2 - 1, where n1 and n2 are the sample sizes.\n",
    "\n",
    "+ To calculate the p-value for the test, we can use an F-distribution calculator or a statistical software package."
   ]
  },
  {
   "cell_type": "code",
   "execution_count": 9,
   "id": "2217b2e6-f0e6-4b16-ae53-ae62b8f209a4",
   "metadata": {},
   "outputs": [
    {
     "name": "stdout",
     "output_type": "stream",
     "text": [
      "Fail to reject the null hypothesis. The variances are not significantly different.\n"
     ]
    }
   ],
   "source": [
    "# the Python code to conduct the F-test:\n",
    "import scipy.stats as stats\n",
    "\n",
    "# sample statistics\n",
    "n1 = 10\n",
    "s1_squared = 25\n",
    "n2 = 15\n",
    "s2_squared = 20\n",
    "\n",
    "# calculate the F-statistic and p-value\n",
    "f_stat = s1_squared / s2_squared\n",
    "df1 = n1 - 1\n",
    "df2 = n2 - 1\n",
    "p_val = 2 * (1 - stats.f.cdf(f_stat, df1, df2))\n",
    "\n",
    "# significance level\n",
    "alpha = 0.10\n",
    "\n",
    "# make decision based on p-value and significance level\n",
    "if p_val < alpha:\n",
    "    print(\"Reject the null hypothesis. The variances are significantly different.\")\n",
    "else:\n",
    "    print(\"Fail to reject the null hypothesis. The variances are not significantly different.\")\n"
   ]
  },
  {
   "cell_type": "markdown",
   "id": "8fb503ee-7ec9-4b51-9a1a-60e237997d38",
   "metadata": {},
   "source": [
    "# Q8. The following data represent the waiting times in minutes at two different restaurants on a Saturday\n",
    "# night: Restaurant A: 24, 25, 28, 23, 22, 20, 27; Restaurant B: 31, 33, 35, 30, 32, 36. Conduct an F-test at the 5%\n",
    "# significance level to determine if the variances are significantly different.\n",
    "\n",
    "+ To conduct an F-test to determine if the variances of two populations are significantly different, we use the following hypotheses:\n",
    "\n",
    "H0: σ1^2 = σ2^2 (the variances are equal)\n",
    "Ha: σ1^2 ≠ σ2^2 (the variances are not equal)\n",
    "\n",
    "We will use an alpha level of 0.05 for this test.\n",
    "\n",
    "+ The test statistic for the F-test is given by:\n",
    "\n",
    "F = s1^2 / s2^2\n",
    "\n",
    "+ where s1^2 is the sample variance for the first sample, and s2^2 is the sample variance for the second sample. The degrees of freedom for the F-distribution are df1 = n1 - 1 and df2 = n2 - 1, where n1 and n2 are the sample sizes.\n",
    "\n",
    "+ To calculate the p-value for the test, we can use an F-distribution calculator or a statistical software package."
   ]
  },
  {
   "cell_type": "code",
   "execution_count": 10,
   "id": "79a4539d-3c1d-41af-8940-c894d6f592f9",
   "metadata": {},
   "outputs": [
    {
     "name": "stdout",
     "output_type": "stream",
     "text": [
      "Fail to reject the null hypothesis. The variances are not significantly different.\n"
     ]
    }
   ],
   "source": [
    "#  the Python code to conduct the F-test:\n",
    "\n",
    "import scipy.stats as stats\n",
    "import numpy as np\n",
    "\n",
    "# sample data\n",
    "restaurant_a = np.array([24, 25, 28, 23, 22, 20, 27])\n",
    "restaurant_b = np.array([31, 33, 35, 30, 32, 36])\n",
    "\n",
    "# sample statistics\n",
    "n1 = len(restaurant_a)\n",
    "s1_squared = np.var(restaurant_a, ddof=1)\n",
    "n2 = len(restaurant_b)\n",
    "s2_squared = np.var(restaurant_b, ddof=1)\n",
    "\n",
    "# calculate the F-statistic and p-value\n",
    "f_stat = s1_squared / s2_squared\n",
    "df1 = n1 - 1\n",
    "df2 = n2 - 1\n",
    "p_val = 2 * (1 - stats.f.cdf(f_stat, df1, df2))\n",
    "\n",
    "# significance level\n",
    "alpha = 0.05\n",
    "\n",
    "# make decision based on p-value and significance level\n",
    "if p_val < alpha:\n",
    "    print(\"Reject the null hypothesis. The variances are significantly different.\")\n",
    "else:\n",
    "    print(\"Fail to reject the null hypothesis. The variances are not significantly different.\")\n"
   ]
  },
  {
   "cell_type": "markdown",
   "id": "1dbdcd1f-4884-43e8-b7e7-cfba9163ce54",
   "metadata": {},
   "source": [
    "# Q9. The following data represent the test scores of two groups of students: Group A: 80, 85, 90, 92, 87, 83;\n",
    "# Group B: 75, 78, 82, 79, 81, 84. Conduct\n",
    "\n",
    "+ To compare the means of two populations, we can use a two-sample t-test. We'll assume that the populations are normally distributed and that the variances are equal. We'll use an alpha level of 0.05 for this test.\n",
    "\n",
    "+ The null hypothesis for the two-sample t-test is that the population means are equal:\n",
    "\n",
    "H0: μ1 = μ2\n",
    "\n",
    "+ The alternative hypothesis is that the population means are not equal:\n",
    "\n",
    "Ha: μ1 ≠ μ2"
   ]
  },
  {
   "cell_type": "code",
   "execution_count": 11,
   "id": "e73f38d2-d436-4c96-8345-10decb05627d",
   "metadata": {},
   "outputs": [
    {
     "name": "stdout",
     "output_type": "stream",
     "text": [
      "Reject the null hypothesis. The population means are significantly different.\n"
     ]
    }
   ],
   "source": [
    "# the Python code to conduct the two-sample t-test:\n",
    "\n",
    "import scipy.stats as stats\n",
    "import numpy as np\n",
    "\n",
    "# sample data\n",
    "group_a = np.array([80, 85, 90, 92, 87, 83])\n",
    "group_b = np.array([75, 78, 82, 79, 81, 84])\n",
    "\n",
    "# calculate the t-statistic and p-value\n",
    "t_stat, p_val = stats.ttest_ind(group_a, group_b, equal_var=True)\n",
    "\n",
    "# significance level\n",
    "alpha = 0.05\n",
    "\n",
    "# make decision based on p-value and significance level\n",
    "if p_val < alpha:\n",
    "    print(\"Reject the null hypothesis. The population means are significantly different.\")\n",
    "else:\n",
    "    print(\"Fail to reject the null hypothesis. The population means are not significantly different.\")\n"
   ]
  },
  {
   "cell_type": "code",
   "execution_count": null,
   "id": "7f44dbd2-924b-4a8b-970d-84ba42396e43",
   "metadata": {},
   "outputs": [],
   "source": []
  }
 ],
 "metadata": {
  "kernelspec": {
   "display_name": "Python 3 (ipykernel)",
   "language": "python",
   "name": "python3"
  },
  "language_info": {
   "codemirror_mode": {
    "name": "ipython",
    "version": 3
   },
   "file_extension": ".py",
   "mimetype": "text/x-python",
   "name": "python",
   "nbconvert_exporter": "python",
   "pygments_lexer": "ipython3",
   "version": "3.10.8"
  }
 },
 "nbformat": 4,
 "nbformat_minor": 5
}
