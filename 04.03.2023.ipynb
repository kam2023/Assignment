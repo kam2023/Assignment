{
 "cells": [
  {
   "cell_type": "code",
   "execution_count": null,
   "id": "bbf4133b-e9c9-4505-b186-e43200f1081a",
   "metadata": {},
   "outputs": [],
   "source": [
    "# Q1. Load the \"titanic\" dataset using the load_dataset function of seaborn. Use Plotly express to plot a\n",
    "# scatter plot for age and fare columns in the titanic dataset.\n",
    "\n",
    "import seaborn as sns\n",
    "import plotly.express as px\n",
    "\n",
    "# Load the Titanic dataset using seaborn\n",
    "titanic_df = sns.load_dataset('titanic')\n",
    "\n",
    "# Use Plotly Express to create a scatter plot of age vs. fare\n",
    "scatter_plot = px.scatter(titanic_df, x='age', y='fare')\n",
    "\n",
    "# Show the plot\n",
    "scatter_plot.show()"
   ]
  },
  {
   "cell_type": "code",
   "execution_count": null,
   "id": "02f35969-1276-41b2-a744-f70c8f5e9a0e",
   "metadata": {},
   "outputs": [],
   "source": [
    "# Q2. Using the tips dataset in the Plotly library, plot a box plot using Plotly express.\n",
    "\n",
    "import plotly.express as px\n",
    "tips_df = px.data.tips()  # Load the tips dataset from Plotly\n",
    "box_plot = px.box(tips_df, x=\"day\", y=\"total_bill\", color=\"smoker\")\n",
    "box_plot.show()\n"
   ]
  },
  {
   "cell_type": "code",
   "execution_count": null,
   "id": "11990f37-84c2-431c-97e9-d2e0ffc0b9e6",
   "metadata": {},
   "outputs": [],
   "source": [
    "# Q3. Using the tips dataset in the Plotly library, Plot a histogram for x= \"sex\" and y=\"total_bill\" column in\n",
    "# the tips dataset. Also, use the \"smoker\" column with the pattern_shape parameter and the \"day\"\n",
    "# column with the color parameter.\n",
    "\n",
    "import plotly.express as px\n",
    "\n",
    "tips_df = px.data.tips()  # Load the tips dataset from Plotly\n",
    "\n",
    "histogram_plot = px.histogram(tips_df, \n",
    "                               x=\"sex\", \n",
    "                               y=\"total_bill\", \n",
    "                               color=\"day\", \n",
    "                               pattern_shape=\"smoker\",\n",
    "                               nbins=20)\n",
    "histogram_plot.show()\n"
   ]
  },
  {
   "cell_type": "code",
   "execution_count": null,
   "id": "e9e62b20-edd9-4817-93d2-897f9685c2c4",
   "metadata": {},
   "outputs": [],
   "source": [
    "# Q4. Using the iris dataset in the Plotly library, Plot a scatter matrix plot, using the \"species\" column for\n",
    "# the color parameter.\n",
    "\n",
    "import plotly.express as px\n",
    "\n",
    "iris_df = px.data.iris()  # Load the iris dataset from Plotly\n",
    "\n",
    "scatter_matrix_plot = px.scatter_matrix(iris_df, \n",
    "                                         dimensions=[\"sepal_length\", \"sepal_width\", \"petal_length\", \"petal_width\"], \n",
    "                                         color=\"species\")\n",
    "scatter_matrix_plot.show()\n"
   ]
  },
  {
   "cell_type": "markdown",
   "id": "58fe995a-2b7e-4f46-bfc5-7d99bf1f65d9",
   "metadata": {},
   "source": [
    "# Q5. What is Distplot? Using Plotly express, plot a distplot.\n",
    "\n",
    "## 'distplot' is a seaborn function used to visualize the distribution of a univariate dataset. It combines a histogram and a kernel density estimate (KDE) plot. The histogram shows the frequency of values in the dataset while the KDE shows the estimated probability density function of the variable.\n",
    "\n",
    "+ Plotly Express provides a similar function called 'histogram'  which can also be used to create a distplot."
   ]
  },
  {
   "cell_type": "code",
   "execution_count": null,
   "id": "b8e66a6a-ac39-4656-a202-90a3b5a49280",
   "metadata": {},
   "outputs": [],
   "source": [
    "#  a distplot using Plotly Express with the tips dataset:\n",
    "\n",
    "import plotly.express as px\n",
    "\n",
    "tips_df = px.data.tips()  # Load the tips dataset from Plotly\n",
    "\n",
    "distplot = px.histogram(tips_df, \n",
    "                         x=\"total_bill\", \n",
    "                         marginal=\"rug\", \n",
    "                         opacity=0.7, \n",
    "                         color_discrete_sequence=[\"indianred\"])\n",
    "distplot.show()\n"
   ]
  }
 ],
 "metadata": {
  "kernelspec": {
   "display_name": "Python 3 (ipykernel)",
   "language": "python",
   "name": "python3"
  },
  "language_info": {
   "codemirror_mode": {
    "name": "ipython",
    "version": 3
   },
   "file_extension": ".py",
   "mimetype": "text/x-python",
   "name": "python",
   "nbconvert_exporter": "python",
   "pygments_lexer": "ipython3",
   "version": "3.10.8"
  }
 },
 "nbformat": 4,
 "nbformat_minor": 5
}
